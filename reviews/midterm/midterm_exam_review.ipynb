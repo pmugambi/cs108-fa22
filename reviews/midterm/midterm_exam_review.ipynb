{
 "cells": [
  {
   "cell_type": "code",
   "execution_count": null,
   "metadata": {},
   "outputs": [],
   "source": [
    "!pip install datascience"
   ]
  },
  {
   "cell_type": "code",
   "execution_count": 39,
   "metadata": {},
   "outputs": [],
   "source": [
    "from datascience import *\n",
    "import numpy as np\n",
    "import matplotlib\n",
    "%matplotlib inline"
   ]
  },
  {
   "cell_type": "code",
   "execution_count": null,
   "metadata": {},
   "outputs": [],
   "source": [
    "# arrays"
   ]
  },
  {
   "cell_type": "code",
   "execution_count": null,
   "metadata": {},
   "outputs": [],
   "source": [
    "# 1. creating an array"
   ]
  },
  {
   "cell_type": "code",
   "execution_count": null,
   "metadata": {},
   "outputs": [],
   "source": [
    "my_array = make_array(3, 4, 1, 5)\n",
    "my_array"
   ]
  },
  {
   "cell_type": "code",
   "execution_count": null,
   "metadata": {},
   "outputs": [],
   "source": [
    "my_array = [1, 2, 3, 4]\n",
    "my_array"
   ]
  },
  {
   "cell_type": "code",
   "execution_count": null,
   "metadata": {},
   "outputs": [],
   "source": [
    "my_array = make_array(np.arange(0, 11))\n",
    "my_array"
   ]
  },
  {
   "cell_type": "code",
   "execution_count": null,
   "metadata": {},
   "outputs": [],
   "source": [
    "my_array = np.arange(0, 11)\n",
    "my_array"
   ]
  },
  {
   "cell_type": "code",
   "execution_count": null,
   "metadata": {},
   "outputs": [],
   "source": [
    "my_array_1 = make_array('now', 'later', 'much later')\n",
    "my_array_1"
   ]
  },
  {
   "cell_type": "code",
   "execution_count": null,
   "metadata": {},
   "outputs": [],
   "source": [
    "# 2. accessing elements of an array"
   ]
  },
  {
   "cell_type": "code",
   "execution_count": null,
   "metadata": {},
   "outputs": [],
   "source": [
    "# access first element\n",
    "my_array_1[0]"
   ]
  },
  {
   "cell_type": "code",
   "execution_count": null,
   "metadata": {},
   "outputs": [],
   "source": [
    "my_array_1.item(0)"
   ]
  },
  {
   "cell_type": "code",
   "execution_count": null,
   "metadata": {},
   "outputs": [],
   "source": [
    "# access element at a certain position e.g., 4th element of my_array \n",
    "# (4th element or 4th position, means index 3)\n",
    "my_array.item(3)"
   ]
  },
  {
   "cell_type": "code",
   "execution_count": null,
   "metadata": {},
   "outputs": [],
   "source": [
    "my_array_1.item(3)"
   ]
  },
  {
   "cell_type": "code",
   "execution_count": null,
   "metadata": {},
   "outputs": [],
   "source": [
    "# 3. Array arithmetic\n",
    "a = np.arange(1, 5)\n",
    "b = np.arange(3, 7)\n",
    "\n",
    "a+b"
   ]
  },
  {
   "cell_type": "code",
   "execution_count": null,
   "metadata": {},
   "outputs": [],
   "source": [
    "c = a * 2\n",
    "c"
   ]
  },
  {
   "cell_type": "code",
   "execution_count": null,
   "metadata": {},
   "outputs": [],
   "source": [
    "a - c"
   ]
  },
  {
   "cell_type": "code",
   "execution_count": null,
   "metadata": {},
   "outputs": [],
   "source": [
    "d = np.arange(0,3)\n",
    "d"
   ]
  },
  {
   "cell_type": "code",
   "execution_count": null,
   "metadata": {},
   "outputs": [],
   "source": [
    "d-a"
   ]
  },
  {
   "cell_type": "code",
   "execution_count": null,
   "metadata": {},
   "outputs": [],
   "source": [
    "# functions"
   ]
  },
  {
   "cell_type": "code",
   "execution_count": null,
   "metadata": {},
   "outputs": [],
   "source": [
    "# 1. creating functions: e.g, create a function to sum all numbers in an array\n",
    "\n",
    "def sum_items(array):\n",
    "    return sum(array)\n",
    "sum_items(np.arange(1,15))"
   ]
  },
  {
   "cell_type": "code",
   "execution_count": null,
   "metadata": {},
   "outputs": [],
   "source": [
    "def sum_items_loop(array):\n",
    "    s = 0\n",
    "    for i in array:\n",
    "        s = s + i\n",
    "    return s\n",
    "sum_items_loop(np.arange(1,15))"
   ]
  },
  {
   "cell_type": "code",
   "execution_count": null,
   "metadata": {},
   "outputs": [],
   "source": [
    "# iteration\n",
    "# 1. creating a loop: e.g., iterate over items in an array from 0 to 10, and print each item in the array\n",
    "\n",
    "for i in np.arange(0, 11):\n",
    "    print(i)"
   ]
  },
  {
   "cell_type": "code",
   "execution_count": null,
   "metadata": {},
   "outputs": [],
   "source": [
    "# 1. combining functions and iteration e.g., create a function to print all items in an array of elements 0 to 10\n",
    "def print_array_items(array):\n",
    "    for i in array:\n",
    "        print(i)\n",
    "\n",
    "print_array_items(np.arange(0, 11))\n",
    "# print_array_items(np.arange(-2, 5))"
   ]
  },
  {
   "cell_type": "code",
   "execution_count": null,
   "metadata": {},
   "outputs": [],
   "source": [
    "def multiples_of_three(array):\n",
    "    multiples = make_array()\n",
    "    for i in array:\n",
    "        if i/3 in [1, 2, 3, 4, 5, 6, 7, 8, 9, 10]:\n",
    "            multiples = np.append(multiples, i)\n",
    "    return multiples\n",
    "\n",
    "multiples_of_three(np.arange(0, 31))\n",
    "    "
   ]
  },
  {
   "cell_type": "code",
   "execution_count": null,
   "metadata": {},
   "outputs": [],
   "source": [
    "# Tables"
   ]
  },
  {
   "cell_type": "code",
   "execution_count": null,
   "metadata": {},
   "outputs": [],
   "source": [
    "#1. creating a table\n",
    "my_table = Table()\n",
    "my_table"
   ]
  },
  {
   "cell_type": "code",
   "execution_count": 40,
   "metadata": {},
   "outputs": [
    {
     "data": {
      "text/html": [
       "<table border=\"1\" class=\"dataframe\">\n",
       "    <thead>\n",
       "        <tr>\n",
       "            <th>wage</th> <th>educ</th> <th> white/hispanic </th> <th>sex</th> <th>south</th> <th>married</th> <th>exper</th> <th>union</th> <th>age</th> <th>sector</th>\n",
       "        </tr>\n",
       "    </thead>\n",
       "    <tbody>\n",
       "        <tr>\n",
       "            <td> $9.00  </td> <td>10  </td> <td>W/NH            </td> <td>M   </td> <td>NS   </td> <td>Married</td> <td>27   </td> <td>Not  </td> <td>43  </td> <td>const   </td>\n",
       "        </tr>\n",
       "        <tr>\n",
       "            <td> $5.50  </td> <td>12  </td> <td>W/NH            </td> <td>M   </td> <td>NS   </td> <td>Married</td> <td>20   </td> <td>Not  </td> <td>38  </td> <td>sales   </td>\n",
       "        </tr>\n",
       "        <tr>\n",
       "            <td> $3.80  </td> <td>12  </td> <td>W/NH            </td> <td>F   </td> <td>NS   </td> <td>Single </td> <td>4    </td> <td>Not  </td> <td>22  </td> <td>sales   </td>\n",
       "        </tr>\n",
       "        <tr>\n",
       "            <td> $10.50 </td> <td>12  </td> <td>W/NH            </td> <td>F   </td> <td>NS   </td> <td>Married</td> <td>29   </td> <td>Not  </td> <td>47  </td> <td>clerical</td>\n",
       "        </tr>\n",
       "        <tr>\n",
       "            <td> $15.00 </td> <td>12  </td> <td>W/NH            </td> <td>M   </td> <td>NS   </td> <td>Married</td> <td>40   </td> <td>Union</td> <td>58  </td> <td>const   </td>\n",
       "        </tr>\n",
       "        <tr>\n",
       "            <td> $9.00  </td> <td>16  </td> <td>W/NH            </td> <td>F   </td> <td>NS   </td> <td>Married</td> <td>27   </td> <td>Not  </td> <td>49  </td> <td>clerical</td>\n",
       "        </tr>\n",
       "        <tr>\n",
       "            <td> $9.57  </td> <td>12  </td> <td>W/NH            </td> <td>F   </td> <td>NS   </td> <td>Married</td> <td>5    </td> <td>Union</td> <td>23  </td> <td>service </td>\n",
       "        </tr>\n",
       "        <tr>\n",
       "            <td> $15.00 </td> <td>14  </td> <td>W/NH            </td> <td>M   </td> <td>NS   </td> <td>Single </td> <td>22   </td> <td>Not  </td> <td>42  </td> <td>sales   </td>\n",
       "        </tr>\n",
       "        <tr>\n",
       "            <td> $11.00 </td> <td>8   </td> <td>W/NH            </td> <td>M   </td> <td>NS   </td> <td>Married</td> <td>42   </td> <td>Not  </td> <td>56  </td> <td>manuf   </td>\n",
       "        </tr>\n",
       "        <tr>\n",
       "            <td> $5.00  </td> <td>12  </td> <td>W/NH            </td> <td>F   </td> <td>NS   </td> <td>Married</td> <td>14   </td> <td>Not  </td> <td>32  </td> <td>sales   </td>\n",
       "        </tr>\n",
       "    </tbody>\n",
       "</table>\n",
       "<p>... (524 rows omitted)</p>"
      ],
      "text/plain": [
       "wage     | educ |  white/hispanic  | sex  | south | married | exper | union | age  | sector\n",
       " $9.00   | 10   | W/NH             | M    | NS    | Married | 27    | Not   | 43   | const\n",
       " $5.50   | 12   | W/NH             | M    | NS    | Married | 20    | Not   | 38   | sales\n",
       " $3.80   | 12   | W/NH             | F    | NS    | Single  | 4     | Not   | 22   | sales\n",
       " $10.50  | 12   | W/NH             | F    | NS    | Married | 29    | Not   | 47   | clerical\n",
       " $15.00  | 12   | W/NH             | M    | NS    | Married | 40    | Union | 58   | const\n",
       " $9.00   | 16   | W/NH             | F    | NS    | Married | 27    | Not   | 49   | clerical\n",
       " $9.57   | 12   | W/NH             | F    | NS    | Married | 5     | Union | 23   | service\n",
       " $15.00  | 14   | W/NH             | M    | NS    | Single  | 22    | Not   | 42   | sales\n",
       " $11.00  | 8    | W/NH             | M    | NS    | Married | 42    | Not   | 56   | manuf\n",
       " $5.00   | 12   | W/NH             | F    | NS    | Married | 14    | Not   | 32   | sales\n",
       "... (524 rows omitted)"
      ]
     },
     "execution_count": 40,
     "metadata": {},
     "output_type": "execute_result"
    }
   ],
   "source": [
    "my_table = Table.read_table(\"cps85.csv\")\n",
    "my_table"
   ]
  },
  {
   "cell_type": "code",
   "execution_count": null,
   "metadata": {},
   "outputs": [],
   "source": [
    "#2. reading a column of a table e.g., educ from the above table\n",
    "my_table['educ']"
   ]
  },
  {
   "cell_type": "code",
   "execution_count": null,
   "metadata": {},
   "outputs": [],
   "source": [
    "my_table[1]"
   ]
  },
  {
   "cell_type": "code",
   "execution_count": null,
   "metadata": {},
   "outputs": [],
   "source": [
    "my_table.column('educ')"
   ]
  },
  {
   "cell_type": "code",
   "execution_count": null,
   "metadata": {},
   "outputs": [],
   "source": [
    "#3. select multiple columns; e.g., educ and sex from the above table"
   ]
  },
  {
   "cell_type": "code",
   "execution_count": null,
   "metadata": {},
   "outputs": [],
   "source": [
    "educ_sex = my_table.select('educ', 'sex')"
   ]
  },
  {
   "cell_type": "code",
   "execution_count": null,
   "metadata": {},
   "outputs": [],
   "source": [
    "#4. select some rows; e.g, rows number 1-5 in the above table"
   ]
  },
  {
   "cell_type": "code",
   "execution_count": 43,
   "metadata": {},
   "outputs": [
    {
     "data": {
      "text/html": [
       "<table border=\"1\" class=\"dataframe\">\n",
       "    <thead>\n",
       "        <tr>\n",
       "            <th>wage</th> <th>educ</th> <th> white/hispanic </th> <th>sex</th> <th>south</th> <th>married</th> <th>exper</th> <th>union</th> <th>age</th> <th>sector</th>\n",
       "        </tr>\n",
       "    </thead>\n",
       "    <tbody>\n",
       "        <tr>\n",
       "            <td> $5.50  </td> <td>12  </td> <td>W/NH            </td> <td>M   </td> <td>NS   </td> <td>Married</td> <td>20   </td> <td>Not  </td> <td>38  </td> <td>sales   </td>\n",
       "        </tr>\n",
       "        <tr>\n",
       "            <td> $3.80  </td> <td>12  </td> <td>W/NH            </td> <td>F   </td> <td>NS   </td> <td>Single </td> <td>4    </td> <td>Not  </td> <td>22  </td> <td>sales   </td>\n",
       "        </tr>\n",
       "        <tr>\n",
       "            <td> $10.50 </td> <td>12  </td> <td>W/NH            </td> <td>F   </td> <td>NS   </td> <td>Married</td> <td>29   </td> <td>Not  </td> <td>47  </td> <td>clerical</td>\n",
       "        </tr>\n",
       "        <tr>\n",
       "            <td> $15.00 </td> <td>12  </td> <td>W/NH            </td> <td>M   </td> <td>NS   </td> <td>Married</td> <td>40   </td> <td>Union</td> <td>58  </td> <td>const   </td>\n",
       "        </tr>\n",
       "        <tr>\n",
       "            <td> $9.00  </td> <td>16  </td> <td>W/NH            </td> <td>F   </td> <td>NS   </td> <td>Married</td> <td>27   </td> <td>Not  </td> <td>49  </td> <td>clerical</td>\n",
       "        </tr>\n",
       "    </tbody>\n",
       "</table>"
      ],
      "text/plain": [
       "wage     | educ |  white/hispanic  | sex  | south | married | exper | union | age  | sector\n",
       " $5.50   | 12   | W/NH             | M    | NS    | Married | 20    | Not   | 38   | sales\n",
       " $3.80   | 12   | W/NH             | F    | NS    | Single  | 4     | Not   | 22   | sales\n",
       " $10.50  | 12   | W/NH             | F    | NS    | Married | 29    | Not   | 47   | clerical\n",
       " $15.00  | 12   | W/NH             | M    | NS    | Married | 40    | Union | 58   | const\n",
       " $9.00   | 16   | W/NH             | F    | NS    | Married | 27    | Not   | 49   | clerical"
      ]
     },
     "execution_count": 43,
     "metadata": {},
     "output_type": "execute_result"
    }
   ],
   "source": [
    "# my_table.take(np.arange(1,6))\n",
    "my_table.take([3, 4, 7, 9])"
   ]
  },
  {
   "cell_type": "code",
   "execution_count": null,
   "metadata": {},
   "outputs": [],
   "source": [
    "#5. checking for conditions in a column, e.g., get all rows where sex is Female"
   ]
  },
  {
   "cell_type": "code",
   "execution_count": 44,
   "metadata": {},
   "outputs": [
    {
     "data": {
      "text/html": [
       "<table border=\"1\" class=\"dataframe\">\n",
       "    <thead>\n",
       "        <tr>\n",
       "            <th>wage</th> <th>educ</th> <th> white/hispanic </th> <th>sex</th> <th>south</th> <th>married</th> <th>exper</th> <th>union</th> <th>age</th> <th>sector</th>\n",
       "        </tr>\n",
       "    </thead>\n",
       "    <tbody>\n",
       "        <tr>\n",
       "            <td> $3.80  </td> <td>12  </td> <td>W/NH            </td> <td>F   </td> <td>NS   </td> <td>Single </td> <td>4    </td> <td>Not  </td> <td>22  </td> <td>sales   </td>\n",
       "        </tr>\n",
       "        <tr>\n",
       "            <td> $10.50 </td> <td>12  </td> <td>W/NH            </td> <td>F   </td> <td>NS   </td> <td>Married</td> <td>29   </td> <td>Not  </td> <td>47  </td> <td>clerical</td>\n",
       "        </tr>\n",
       "        <tr>\n",
       "            <td> $9.00  </td> <td>16  </td> <td>W/NH            </td> <td>F   </td> <td>NS   </td> <td>Married</td> <td>27   </td> <td>Not  </td> <td>49  </td> <td>clerical</td>\n",
       "        </tr>\n",
       "        <tr>\n",
       "            <td> $9.57  </td> <td>12  </td> <td>W/NH            </td> <td>F   </td> <td>NS   </td> <td>Married</td> <td>5    </td> <td>Union</td> <td>23  </td> <td>service </td>\n",
       "        </tr>\n",
       "        <tr>\n",
       "            <td> $5.00  </td> <td>12  </td> <td>W/NH            </td> <td>F   </td> <td>NS   </td> <td>Married</td> <td>14   </td> <td>Not  </td> <td>32  </td> <td>sales   </td>\n",
       "        </tr>\n",
       "        <tr>\n",
       "            <td> $11.25 </td> <td>17  </td> <td>NW/NH           </td> <td>F   </td> <td>NS   </td> <td>Married</td> <td>32   </td> <td>Not  </td> <td>55  </td> <td>clerical</td>\n",
       "        </tr>\n",
       "        <tr>\n",
       "            <td> $8.00  </td> <td>14  </td> <td>W/NH            </td> <td>F   </td> <td>NS   </td> <td>Single </td> <td>15   </td> <td>Union</td> <td>35  </td> <td>clerical</td>\n",
       "        </tr>\n",
       "        <tr>\n",
       "            <td> $4.28  </td> <td>12  </td> <td>W/NH            </td> <td>F   </td> <td>NS   </td> <td>Married</td> <td>38   </td> <td>Not  </td> <td>56  </td> <td>service </td>\n",
       "        </tr>\n",
       "        <tr>\n",
       "            <td> $6.94  </td> <td>12  </td> <td>W/NH            </td> <td>F   </td> <td>NS   </td> <td>Single </td> <td>7    </td> <td>Not  </td> <td>25  </td> <td>service </td>\n",
       "        </tr>\n",
       "        <tr>\n",
       "            <td> $24.98 </td> <td>17  </td> <td>W/NH            </td> <td>F   </td> <td>NS   </td> <td>Single </td> <td>5    </td> <td>Not  </td> <td>28  </td> <td>prof    </td>\n",
       "        </tr>\n",
       "    </tbody>\n",
       "</table>\n",
       "<p>... (235 rows omitted)</p>"
      ],
      "text/plain": [
       "wage     | educ |  white/hispanic  | sex  | south | married | exper | union | age  | sector\n",
       " $3.80   | 12   | W/NH             | F    | NS    | Single  | 4     | Not   | 22   | sales\n",
       " $10.50  | 12   | W/NH             | F    | NS    | Married | 29    | Not   | 47   | clerical\n",
       " $9.00   | 16   | W/NH             | F    | NS    | Married | 27    | Not   | 49   | clerical\n",
       " $9.57   | 12   | W/NH             | F    | NS    | Married | 5     | Union | 23   | service\n",
       " $5.00   | 12   | W/NH             | F    | NS    | Married | 14    | Not   | 32   | sales\n",
       " $11.25  | 17   | NW/NH            | F    | NS    | Married | 32    | Not   | 55   | clerical\n",
       " $8.00   | 14   | W/NH             | F    | NS    | Single  | 15    | Union | 35   | clerical\n",
       " $4.28   | 12   | W/NH             | F    | NS    | Married | 38    | Not   | 56   | service\n",
       " $6.94   | 12   | W/NH             | F    | NS    | Single  | 7     | Not   | 25   | service\n",
       " $24.98  | 17   | W/NH             | F    | NS    | Single  | 5     | Not   | 28   | prof\n",
       "... (235 rows omitted)"
      ]
     },
     "execution_count": 44,
     "metadata": {},
     "output_type": "execute_result"
    }
   ],
   "source": [
    "my_table.where('sex', are.containing('F'))"
   ]
  },
  {
   "cell_type": "code",
   "execution_count": 45,
   "metadata": {},
   "outputs": [
    {
     "data": {
      "text/html": [
       "<table border=\"1\" class=\"dataframe\">\n",
       "    <thead>\n",
       "        <tr>\n",
       "            <th>wage</th> <th>educ</th> <th> white/hispanic </th> <th>sex</th> <th>south</th> <th>married</th> <th>exper</th> <th>union</th> <th>age</th> <th>sector</th>\n",
       "        </tr>\n",
       "    </thead>\n",
       "    <tbody>\n",
       "        <tr>\n",
       "            <td> $3.80  </td> <td>12  </td> <td>W/NH            </td> <td>F   </td> <td>NS   </td> <td>Single </td> <td>4    </td> <td>Not  </td> <td>22  </td> <td>sales   </td>\n",
       "        </tr>\n",
       "        <tr>\n",
       "            <td> $10.50 </td> <td>12  </td> <td>W/NH            </td> <td>F   </td> <td>NS   </td> <td>Married</td> <td>29   </td> <td>Not  </td> <td>47  </td> <td>clerical</td>\n",
       "        </tr>\n",
       "        <tr>\n",
       "            <td> $9.00  </td> <td>16  </td> <td>W/NH            </td> <td>F   </td> <td>NS   </td> <td>Married</td> <td>27   </td> <td>Not  </td> <td>49  </td> <td>clerical</td>\n",
       "        </tr>\n",
       "        <tr>\n",
       "            <td> $9.57  </td> <td>12  </td> <td>W/NH            </td> <td>F   </td> <td>NS   </td> <td>Married</td> <td>5    </td> <td>Union</td> <td>23  </td> <td>service </td>\n",
       "        </tr>\n",
       "        <tr>\n",
       "            <td> $5.00  </td> <td>12  </td> <td>W/NH            </td> <td>F   </td> <td>NS   </td> <td>Married</td> <td>14   </td> <td>Not  </td> <td>32  </td> <td>sales   </td>\n",
       "        </tr>\n",
       "        <tr>\n",
       "            <td> $11.25 </td> <td>17  </td> <td>NW/NH           </td> <td>F   </td> <td>NS   </td> <td>Married</td> <td>32   </td> <td>Not  </td> <td>55  </td> <td>clerical</td>\n",
       "        </tr>\n",
       "        <tr>\n",
       "            <td> $8.00  </td> <td>14  </td> <td>W/NH            </td> <td>F   </td> <td>NS   </td> <td>Single </td> <td>15   </td> <td>Union</td> <td>35  </td> <td>clerical</td>\n",
       "        </tr>\n",
       "        <tr>\n",
       "            <td> $4.28  </td> <td>12  </td> <td>W/NH            </td> <td>F   </td> <td>NS   </td> <td>Married</td> <td>38   </td> <td>Not  </td> <td>56  </td> <td>service </td>\n",
       "        </tr>\n",
       "        <tr>\n",
       "            <td> $6.94  </td> <td>12  </td> <td>W/NH            </td> <td>F   </td> <td>NS   </td> <td>Single </td> <td>7    </td> <td>Not  </td> <td>25  </td> <td>service </td>\n",
       "        </tr>\n",
       "        <tr>\n",
       "            <td> $24.98 </td> <td>17  </td> <td>W/NH            </td> <td>F   </td> <td>NS   </td> <td>Single </td> <td>5    </td> <td>Not  </td> <td>28  </td> <td>prof    </td>\n",
       "        </tr>\n",
       "    </tbody>\n",
       "</table>\n",
       "<p>... (235 rows omitted)</p>"
      ],
      "text/plain": [
       "wage     | educ |  white/hispanic  | sex  | south | married | exper | union | age  | sector\n",
       " $3.80   | 12   | W/NH             | F    | NS    | Single  | 4     | Not   | 22   | sales\n",
       " $10.50  | 12   | W/NH             | F    | NS    | Married | 29    | Not   | 47   | clerical\n",
       " $9.00   | 16   | W/NH             | F    | NS    | Married | 27    | Not   | 49   | clerical\n",
       " $9.57   | 12   | W/NH             | F    | NS    | Married | 5     | Union | 23   | service\n",
       " $5.00   | 12   | W/NH             | F    | NS    | Married | 14    | Not   | 32   | sales\n",
       " $11.25  | 17   | NW/NH            | F    | NS    | Married | 32    | Not   | 55   | clerical\n",
       " $8.00   | 14   | W/NH             | F    | NS    | Single  | 15    | Union | 35   | clerical\n",
       " $4.28   | 12   | W/NH             | F    | NS    | Married | 38    | Not   | 56   | service\n",
       " $6.94   | 12   | W/NH             | F    | NS    | Single  | 7     | Not   | 25   | service\n",
       " $24.98  | 17   | W/NH             | F    | NS    | Single  | 5     | Not   | 28   | prof\n",
       "... (235 rows omitted)"
      ]
     },
     "execution_count": 45,
     "metadata": {},
     "output_type": "execute_result"
    }
   ],
   "source": [
    "my_table.where('sex', 'F')"
   ]
  },
  {
   "cell_type": "code",
   "execution_count": null,
   "metadata": {},
   "outputs": [],
   "source": [
    "#6. applying functions to tables; Table as an input to a function"
   ]
  },
  {
   "cell_type": "code",
   "execution_count": 46,
   "metadata": {},
   "outputs": [
    {
     "data": {
      "text/html": [
       "<table border=\"1\" class=\"dataframe\">\n",
       "    <thead>\n",
       "        <tr>\n",
       "            <th>wage</th> <th>educ</th> <th> white/hispanic </th> <th>sex</th> <th>south</th> <th>married</th> <th>exper</th> <th>union</th> <th>age</th> <th>sector</th>\n",
       "        </tr>\n",
       "    </thead>\n",
       "    <tbody>\n",
       "        <tr>\n",
       "            <td> $9.00  </td> <td>10  </td> <td>W/NH            </td> <td>M   </td> <td>NS   </td> <td>Married</td> <td>27   </td> <td>Not  </td> <td>43  </td> <td>const   </td>\n",
       "        </tr>\n",
       "        <tr>\n",
       "            <td> $5.50  </td> <td>12  </td> <td>W/NH            </td> <td>M   </td> <td>NS   </td> <td>Married</td> <td>20   </td> <td>Not  </td> <td>38  </td> <td>sales   </td>\n",
       "        </tr>\n",
       "        <tr>\n",
       "            <td> $3.80  </td> <td>12  </td> <td>W/NH            </td> <td>F   </td> <td>NS   </td> <td>Single </td> <td>4    </td> <td>Not  </td> <td>22  </td> <td>sales   </td>\n",
       "        </tr>\n",
       "        <tr>\n",
       "            <td> $10.50 </td> <td>12  </td> <td>W/NH            </td> <td>F   </td> <td>NS   </td> <td>Married</td> <td>29   </td> <td>Not  </td> <td>47  </td> <td>clerical</td>\n",
       "        </tr>\n",
       "        <tr>\n",
       "            <td> $15.00 </td> <td>12  </td> <td>W/NH            </td> <td>M   </td> <td>NS   </td> <td>Married</td> <td>40   </td> <td>Union</td> <td>58  </td> <td>const   </td>\n",
       "        </tr>\n",
       "        <tr>\n",
       "            <td> $9.00  </td> <td>16  </td> <td>W/NH            </td> <td>F   </td> <td>NS   </td> <td>Married</td> <td>27   </td> <td>Not  </td> <td>49  </td> <td>clerical</td>\n",
       "        </tr>\n",
       "        <tr>\n",
       "            <td> $9.57  </td> <td>12  </td> <td>W/NH            </td> <td>F   </td> <td>NS   </td> <td>Married</td> <td>5    </td> <td>Union</td> <td>23  </td> <td>service </td>\n",
       "        </tr>\n",
       "        <tr>\n",
       "            <td> $15.00 </td> <td>14  </td> <td>W/NH            </td> <td>M   </td> <td>NS   </td> <td>Single </td> <td>22   </td> <td>Not  </td> <td>42  </td> <td>sales   </td>\n",
       "        </tr>\n",
       "        <tr>\n",
       "            <td> $11.00 </td> <td>8   </td> <td>W/NH            </td> <td>M   </td> <td>NS   </td> <td>Married</td> <td>42   </td> <td>Not  </td> <td>56  </td> <td>manuf   </td>\n",
       "        </tr>\n",
       "        <tr>\n",
       "            <td> $5.00  </td> <td>12  </td> <td>W/NH            </td> <td>F   </td> <td>NS   </td> <td>Married</td> <td>14   </td> <td>Not  </td> <td>32  </td> <td>sales   </td>\n",
       "        </tr>\n",
       "    </tbody>\n",
       "</table>\n",
       "<p>... (524 rows omitted)</p>"
      ],
      "text/plain": [
       "wage     | educ |  white/hispanic  | sex  | south | married | exper | union | age  | sector\n",
       " $9.00   | 10   | W/NH             | M    | NS    | Married | 27    | Not   | 43   | const\n",
       " $5.50   | 12   | W/NH             | M    | NS    | Married | 20    | Not   | 38   | sales\n",
       " $3.80   | 12   | W/NH             | F    | NS    | Single  | 4     | Not   | 22   | sales\n",
       " $10.50  | 12   | W/NH             | F    | NS    | Married | 29    | Not   | 47   | clerical\n",
       " $15.00  | 12   | W/NH             | M    | NS    | Married | 40    | Union | 58   | const\n",
       " $9.00   | 16   | W/NH             | F    | NS    | Married | 27    | Not   | 49   | clerical\n",
       " $9.57   | 12   | W/NH             | F    | NS    | Married | 5     | Union | 23   | service\n",
       " $15.00  | 14   | W/NH             | M    | NS    | Single  | 22    | Not   | 42   | sales\n",
       " $11.00  | 8    | W/NH             | M    | NS    | Married | 42    | Not   | 56   | manuf\n",
       " $5.00   | 12   | W/NH             | F    | NS    | Married | 14    | Not   | 32   | sales\n",
       "... (524 rows omitted)"
      ]
     },
     "execution_count": 46,
     "metadata": {},
     "output_type": "execute_result"
    }
   ],
   "source": [
    "cps85 = Table.read_table(\"cps85.csv\")\n",
    "cps85"
   ]
  },
  {
   "cell_type": "code",
   "execution_count": null,
   "metadata": {},
   "outputs": [],
   "source": [
    "#6.1 write a function that will return the highest wage in the table"
   ]
  },
  {
   "cell_type": "code",
   "execution_count": 47,
   "metadata": {},
   "outputs": [
    {
     "data": {
      "text/plain": [
       "' $9.86 '"
      ]
     },
     "execution_count": 47,
     "metadata": {},
     "output_type": "execute_result"
    }
   ],
   "source": [
    "max(cps85.column('wage'))"
   ]
  },
  {
   "cell_type": "code",
   "execution_count": 48,
   "metadata": {},
   "outputs": [],
   "source": [
    "def max_table(x, y):\n",
    "    return max(x.column(y))"
   ]
  },
  {
   "cell_type": "code",
   "execution_count": 49,
   "metadata": {},
   "outputs": [
    {
     "data": {
      "text/plain": [
       "64"
      ]
     },
     "execution_count": 49,
     "metadata": {},
     "output_type": "execute_result"
    }
   ],
   "source": [
    "max_table(cps85, 'age')"
   ]
  },
  {
   "cell_type": "code",
   "execution_count": null,
   "metadata": {},
   "outputs": [],
   "source": [
    "#6.2 applying functions to tables; using the apply method to create new columns\n",
    "# e.g., #Create a column that says \"over 50\" or \"50 or under\" \n",
    "# that correctly relates this to a person's age"
   ]
  },
  {
   "cell_type": "code",
   "execution_count": 50,
   "metadata": {},
   "outputs": [],
   "source": [
    "def over_50(x):\n",
    "    if x > 50:\n",
    "        return 'over 50'\n",
    "    else:\n",
    "        return '50 or under'"
   ]
  },
  {
   "cell_type": "code",
   "execution_count": 51,
   "metadata": {},
   "outputs": [
    {
     "data": {
      "text/plain": [
       "'over 50'"
      ]
     },
     "execution_count": 51,
     "metadata": {},
     "output_type": "execute_result"
    }
   ],
   "source": [
    "over_50(60)"
   ]
  },
  {
   "cell_type": "code",
   "execution_count": 53,
   "metadata": {},
   "outputs": [
    {
     "data": {
      "text/html": [
       "<table border=\"1\" class=\"dataframe\">\n",
       "    <thead>\n",
       "        <tr>\n",
       "            <th>wage</th> <th>educ</th> <th> white/hispanic </th> <th>sex</th> <th>south</th> <th>married</th> <th>exper</th> <th>union</th> <th>age</th> <th>sector</th> <th>new_col</th>\n",
       "        </tr>\n",
       "    </thead>\n",
       "    <tbody>\n",
       "        <tr>\n",
       "            <td> $9.00  </td> <td>10  </td> <td>W/NH            </td> <td>M   </td> <td>NS   </td> <td>Married</td> <td>27   </td> <td>Not  </td> <td>43  </td> <td>const   </td> <td>50 or under</td>\n",
       "        </tr>\n",
       "        <tr>\n",
       "            <td> $5.50  </td> <td>12  </td> <td>W/NH            </td> <td>M   </td> <td>NS   </td> <td>Married</td> <td>20   </td> <td>Not  </td> <td>38  </td> <td>sales   </td> <td>50 or under</td>\n",
       "        </tr>\n",
       "        <tr>\n",
       "            <td> $3.80  </td> <td>12  </td> <td>W/NH            </td> <td>F   </td> <td>NS   </td> <td>Single </td> <td>4    </td> <td>Not  </td> <td>22  </td> <td>sales   </td> <td>50 or under</td>\n",
       "        </tr>\n",
       "        <tr>\n",
       "            <td> $10.50 </td> <td>12  </td> <td>W/NH            </td> <td>F   </td> <td>NS   </td> <td>Married</td> <td>29   </td> <td>Not  </td> <td>47  </td> <td>clerical</td> <td>50 or under</td>\n",
       "        </tr>\n",
       "        <tr>\n",
       "            <td> $15.00 </td> <td>12  </td> <td>W/NH            </td> <td>M   </td> <td>NS   </td> <td>Married</td> <td>40   </td> <td>Union</td> <td>58  </td> <td>const   </td> <td>over 50    </td>\n",
       "        </tr>\n",
       "        <tr>\n",
       "            <td> $9.00  </td> <td>16  </td> <td>W/NH            </td> <td>F   </td> <td>NS   </td> <td>Married</td> <td>27   </td> <td>Not  </td> <td>49  </td> <td>clerical</td> <td>50 or under</td>\n",
       "        </tr>\n",
       "        <tr>\n",
       "            <td> $9.57  </td> <td>12  </td> <td>W/NH            </td> <td>F   </td> <td>NS   </td> <td>Married</td> <td>5    </td> <td>Union</td> <td>23  </td> <td>service </td> <td>50 or under</td>\n",
       "        </tr>\n",
       "        <tr>\n",
       "            <td> $15.00 </td> <td>14  </td> <td>W/NH            </td> <td>M   </td> <td>NS   </td> <td>Single </td> <td>22   </td> <td>Not  </td> <td>42  </td> <td>sales   </td> <td>50 or under</td>\n",
       "        </tr>\n",
       "        <tr>\n",
       "            <td> $11.00 </td> <td>8   </td> <td>W/NH            </td> <td>M   </td> <td>NS   </td> <td>Married</td> <td>42   </td> <td>Not  </td> <td>56  </td> <td>manuf   </td> <td>over 50    </td>\n",
       "        </tr>\n",
       "        <tr>\n",
       "            <td> $5.00  </td> <td>12  </td> <td>W/NH            </td> <td>F   </td> <td>NS   </td> <td>Married</td> <td>14   </td> <td>Not  </td> <td>32  </td> <td>sales   </td> <td>50 or under</td>\n",
       "        </tr>\n",
       "    </tbody>\n",
       "</table>\n",
       "<p>... (524 rows omitted)</p>"
      ],
      "text/plain": [
       "wage     | educ |  white/hispanic  | sex  | south | married | exper | union | age  | sector   | new_col\n",
       " $9.00   | 10   | W/NH             | M    | NS    | Married | 27    | Not   | 43   | const    | 50 or under\n",
       " $5.50   | 12   | W/NH             | M    | NS    | Married | 20    | Not   | 38   | sales    | 50 or under\n",
       " $3.80   | 12   | W/NH             | F    | NS    | Single  | 4     | Not   | 22   | sales    | 50 or under\n",
       " $10.50  | 12   | W/NH             | F    | NS    | Married | 29    | Not   | 47   | clerical | 50 or under\n",
       " $15.00  | 12   | W/NH             | M    | NS    | Married | 40    | Union | 58   | const    | over 50\n",
       " $9.00   | 16   | W/NH             | F    | NS    | Married | 27    | Not   | 49   | clerical | 50 or under\n",
       " $9.57   | 12   | W/NH             | F    | NS    | Married | 5     | Union | 23   | service  | 50 or under\n",
       " $15.00  | 14   | W/NH             | M    | NS    | Single  | 22    | Not   | 42   | sales    | 50 or under\n",
       " $11.00  | 8    | W/NH             | M    | NS    | Married | 42    | Not   | 56   | manuf    | over 50\n",
       " $5.00   | 12   | W/NH             | F    | NS    | Married | 14    | Not   | 32   | sales    | 50 or under\n",
       "... (524 rows omitted)"
      ]
     },
     "execution_count": 53,
     "metadata": {},
     "output_type": "execute_result"
    }
   ],
   "source": [
    "new_col = cps85.apply(over_50, 'age')\n",
    "new_col\n",
    "cps85.with_column('new_col', new_col)"
   ]
  },
  {
   "cell_type": "code",
   "execution_count": 54,
   "metadata": {},
   "outputs": [],
   "source": [
    "#7. grouping table rows; e.g., group cps85 by sector"
   ]
  },
  {
   "cell_type": "code",
   "execution_count": 55,
   "metadata": {},
   "outputs": [
    {
     "data": {
      "text/html": [
       "<table border=\"1\" class=\"dataframe\">\n",
       "    <thead>\n",
       "        <tr>\n",
       "            <th>sector</th> <th>count</th>\n",
       "        </tr>\n",
       "    </thead>\n",
       "    <tbody>\n",
       "        <tr>\n",
       "            <td>clerical</td> <td>97   </td>\n",
       "        </tr>\n",
       "        <tr>\n",
       "            <td>const   </td> <td>20   </td>\n",
       "        </tr>\n",
       "        <tr>\n",
       "            <td>manag   </td> <td>55   </td>\n",
       "        </tr>\n",
       "        <tr>\n",
       "            <td>manuf   </td> <td>68   </td>\n",
       "        </tr>\n",
       "        <tr>\n",
       "            <td>other   </td> <td>68   </td>\n",
       "        </tr>\n",
       "        <tr>\n",
       "            <td>prof    </td> <td>105  </td>\n",
       "        </tr>\n",
       "        <tr>\n",
       "            <td>sales   </td> <td>38   </td>\n",
       "        </tr>\n",
       "        <tr>\n",
       "            <td>service </td> <td>83   </td>\n",
       "        </tr>\n",
       "    </tbody>\n",
       "</table>"
      ],
      "text/plain": [
       "sector   | count\n",
       "clerical | 97\n",
       "const    | 20\n",
       "manag    | 55\n",
       "manuf    | 68\n",
       "other    | 68\n",
       "prof     | 105\n",
       "sales    | 38\n",
       "service  | 83"
      ]
     },
     "execution_count": 55,
     "metadata": {},
     "output_type": "execute_result"
    }
   ],
   "source": [
    "cps85.group('sector')"
   ]
  },
  {
   "cell_type": "code",
   "execution_count": null,
   "metadata": {},
   "outputs": [],
   "source": [
    "#8. group by multiple columns, e.g., by sector and educ"
   ]
  },
  {
   "cell_type": "code",
   "execution_count": 56,
   "metadata": {},
   "outputs": [
    {
     "data": {
      "text/html": [
       "<table border=\"1\" class=\"dataframe\">\n",
       "    <thead>\n",
       "        <tr>\n",
       "            <th>sector</th> <th>educ</th> <th>count</th>\n",
       "        </tr>\n",
       "    </thead>\n",
       "    <tbody>\n",
       "        <tr>\n",
       "            <td>clerical</td> <td>9   </td> <td>1    </td>\n",
       "        </tr>\n",
       "        <tr>\n",
       "            <td>clerical</td> <td>11  </td> <td>3    </td>\n",
       "        </tr>\n",
       "        <tr>\n",
       "            <td>clerical</td> <td>12  </td> <td>56   </td>\n",
       "        </tr>\n",
       "        <tr>\n",
       "            <td>clerical</td> <td>13  </td> <td>13   </td>\n",
       "        </tr>\n",
       "        <tr>\n",
       "            <td>clerical</td> <td>14  </td> <td>9    </td>\n",
       "        </tr>\n",
       "        <tr>\n",
       "            <td>clerical</td> <td>15  </td> <td>1    </td>\n",
       "        </tr>\n",
       "        <tr>\n",
       "            <td>clerical</td> <td>16  </td> <td>9    </td>\n",
       "        </tr>\n",
       "        <tr>\n",
       "            <td>clerical</td> <td>17  </td> <td>3    </td>\n",
       "        </tr>\n",
       "        <tr>\n",
       "            <td>clerical</td> <td>18  </td> <td>2    </td>\n",
       "        </tr>\n",
       "        <tr>\n",
       "            <td>const   </td> <td>5   </td> <td>1    </td>\n",
       "        </tr>\n",
       "    </tbody>\n",
       "</table>\n",
       "<p>... (62 rows omitted)</p>"
      ],
      "text/plain": [
       "sector   | educ | count\n",
       "clerical | 9    | 1\n",
       "clerical | 11   | 3\n",
       "clerical | 12   | 56\n",
       "clerical | 13   | 13\n",
       "clerical | 14   | 9\n",
       "clerical | 15   | 1\n",
       "clerical | 16   | 9\n",
       "clerical | 17   | 3\n",
       "clerical | 18   | 2\n",
       "const    | 5    | 1\n",
       "... (62 rows omitted)"
      ]
     },
     "execution_count": 56,
     "metadata": {},
     "output_type": "execute_result"
    }
   ],
   "source": [
    "cps85.group(['sector', 'educ'])"
   ]
  },
  {
   "cell_type": "code",
   "execution_count": 62,
   "metadata": {
    "scrolled": true
   },
   "outputs": [
    {
     "data": {
      "text/html": [
       "<table border=\"1\" class=\"dataframe\">\n",
       "    <thead>\n",
       "        <tr>\n",
       "            <th>sector</th> <th>educ average</th>\n",
       "        </tr>\n",
       "    </thead>\n",
       "    <tbody>\n",
       "        <tr>\n",
       "            <td>clerical</td> <td>12.9381     </td>\n",
       "        </tr>\n",
       "        <tr>\n",
       "            <td>const   </td> <td>11.15       </td>\n",
       "        </tr>\n",
       "        <tr>\n",
       "            <td>manag   </td> <td>14.5818     </td>\n",
       "        </tr>\n",
       "        <tr>\n",
       "            <td>manuf   </td> <td>11.1912     </td>\n",
       "        </tr>\n",
       "        <tr>\n",
       "            <td>other   </td> <td>11.8235     </td>\n",
       "        </tr>\n",
       "        <tr>\n",
       "            <td>prof    </td> <td>15.6381     </td>\n",
       "        </tr>\n",
       "        <tr>\n",
       "            <td>sales   </td> <td>13.2105     </td>\n",
       "        </tr>\n",
       "        <tr>\n",
       "            <td>service </td> <td>11.6024     </td>\n",
       "        </tr>\n",
       "    </tbody>\n",
       "</table>"
      ],
      "text/plain": [
       "sector   | educ average\n",
       "clerical | 12.9381\n",
       "const    | 11.15\n",
       "manag    | 14.5818\n",
       "manuf    | 11.1912\n",
       "other    | 11.8235\n",
       "prof     | 15.6381\n",
       "sales    | 13.2105\n",
       "service  | 11.6024"
      ]
     },
     "execution_count": 62,
     "metadata": {},
     "output_type": "execute_result"
    }
   ],
   "source": [
    "#9. apply function row-wise, e.g., create a table of the average educ by sector\n",
    "# cps85.group(['sector'])\n",
    "cps85.select('sector', 'educ').group('sector', np.average)"
   ]
  },
  {
   "cell_type": "code",
   "execution_count": 63,
   "metadata": {},
   "outputs": [],
   "source": [
    "# Sampling "
   ]
  },
  {
   "cell_type": "code",
   "execution_count": 64,
   "metadata": {},
   "outputs": [],
   "source": [
    "#1. creating a sample"
   ]
  },
  {
   "cell_type": "code",
   "execution_count": 65,
   "metadata": {},
   "outputs": [
    {
     "ename": "TypeError",
     "evalue": "choice() takes at least 1 positional argument (0 given)",
     "output_type": "error",
     "traceback": [
      "\u001b[0;31m---------------------------------------------------------------------------\u001b[0m",
      "\u001b[0;31mTypeError\u001b[0m                                 Traceback (most recent call last)",
      "Input \u001b[0;32mIn [65]\u001b[0m, in \u001b[0;36m<cell line: 1>\u001b[0;34m()\u001b[0m\n\u001b[0;32m----> 1\u001b[0m \u001b[43mnp\u001b[49m\u001b[38;5;241;43m.\u001b[39;49m\u001b[43mrandom\u001b[49m\u001b[38;5;241;43m.\u001b[39;49m\u001b[43mchoice\u001b[49m\u001b[43m(\u001b[49m\u001b[43m)\u001b[49m\n",
      "File \u001b[0;32mmtrand.pyx:807\u001b[0m, in \u001b[0;36mnumpy.random.mtrand.RandomState.choice\u001b[0;34m()\u001b[0m\n",
      "\u001b[0;31mTypeError\u001b[0m: choice() takes at least 1 positional argument (0 given)"
     ]
    }
   ],
   "source": [
    "np.random.choice()"
   ]
  },
  {
   "cell_type": "code",
   "execution_count": 69,
   "metadata": {},
   "outputs": [
    {
     "data": {
      "text/plain": [
       "1"
      ]
     },
     "execution_count": 69,
     "metadata": {},
     "output_type": "execute_result"
    }
   ],
   "source": [
    "np.random.choice(make_array(0, 1))"
   ]
  },
  {
   "cell_type": "code",
   "execution_count": null,
   "metadata": {},
   "outputs": [],
   "source": [
    "#2. creating a sample from existing data, e.g., sample from age in the cps85 table"
   ]
  },
  {
   "cell_type": "code",
   "execution_count": 70,
   "metadata": {},
   "outputs": [
    {
     "data": {
      "text/plain": [
       "31"
      ]
     },
     "execution_count": 70,
     "metadata": {},
     "output_type": "execute_result"
    }
   ],
   "source": [
    "np.random.choice(cps85.column('age'))"
   ]
  },
  {
   "cell_type": "code",
   "execution_count": 71,
   "metadata": {},
   "outputs": [
    {
     "data": {
      "text/plain": [
       "array([36, 30, 42, 39, 33, 37, 64, 30, 26, 63, 36, 55, 42, 60, 28])"
      ]
     },
     "execution_count": 71,
     "metadata": {},
     "output_type": "execute_result"
    }
   ],
   "source": [
    "np.random.choice(cps85.column('age'), 15)"
   ]
  },
  {
   "cell_type": "code",
   "execution_count": null,
   "metadata": {},
   "outputs": [],
   "source": [
    "#3. applying functions to samples \n",
    "# e.g., take a random sample of size 15 and calculate the mean age. "
   ]
  },
  {
   "cell_type": "code",
   "execution_count": 75,
   "metadata": {},
   "outputs": [
    {
     "data": {
      "text/plain": [
       "39.133333333333333"
      ]
     },
     "execution_count": 75,
     "metadata": {},
     "output_type": "execute_result"
    }
   ],
   "source": [
    "np.average(np.random.choice(cps85.column('age'), 15))"
   ]
  },
  {
   "cell_type": "code",
   "execution_count": 76,
   "metadata": {},
   "outputs": [
    {
     "data": {
      "text/plain": [
       "38.200000000000003"
      ]
     },
     "execution_count": 76,
     "metadata": {},
     "output_type": "execute_result"
    }
   ],
   "source": [
    "np.average(cps85.sample(15).column('age'))"
   ]
  },
  {
   "cell_type": "code",
   "execution_count": null,
   "metadata": {},
   "outputs": [],
   "source": [
    "# note that table.sample() without a parameter will return all the rows in the dataset"
   ]
  },
  {
   "cell_type": "code",
   "execution_count": null,
   "metadata": {},
   "outputs": [],
   "source": [
    "np.average(cps85.sample().column('age'))\n",
    "# cps85.sample?"
   ]
  },
  {
   "cell_type": "code",
   "execution_count": 72,
   "metadata": {},
   "outputs": [
    {
     "data": {
      "text/plain": [
       "array([26, 60, 32, 33, 37, 32, 39, 31, 27, 41, 59, 21, 46, 19, 42, 51, 36,\n",
       "       35, 20, 34, 45, 63, 23, 19, 48, 38, 28, 32, 26, 20, 24, 30, 38, 29,\n",
       "       33, 39, 57, 51, 60, 25, 27, 32, 28, 29, 36, 56, 35, 51, 36, 36, 24,\n",
       "       29, 24, 64, 27, 36, 41, 25, 42, 36, 53, 35, 59, 36, 56, 34, 30, 27,\n",
       "       38, 37, 61, 37, 42, 62, 33, 57, 50, 57, 37, 55, 50, 28, 54, 33, 38,\n",
       "       23, 53, 52, 49, 38, 38, 19, 31, 22, 25, 20, 27, 21, 26, 25, 28, 20,\n",
       "       26, 36, 35, 57, 37, 28, 41, 41, 31, 33, 34, 36, 33, 38, 33, 31, 22,\n",
       "       31, 29, 31, 57, 20, 60, 20, 19, 44, 39, 37, 31, 24, 48, 29, 36, 53,\n",
       "       33, 28, 44, 34, 33, 32, 44, 31, 35, 45, 33, 62, 61, 56, 33, 63, 31,\n",
       "       43, 27, 26, 53, 54, 62, 26, 40, 38, 46, 31, 62, 44, 32, 47, 36, 43,\n",
       "       27, 29, 26, 45, 53, 43, 29, 36, 20, 42, 29, 28, 44, 52, 52, 51, 53,\n",
       "       33, 28, 35, 27, 27, 46, 28, 49, 25, 41, 28, 41, 27, 31, 23, 32, 40,\n",
       "       22, 38, 37, 43, 42, 39, 22, 34, 52, 41, 22, 19, 42, 26, 53, 50, 63,\n",
       "       48, 23, 31, 40, 61, 35, 29, 63, 20, 46, 43, 33, 60, 47, 33, 57, 52,\n",
       "       27, 34, 37, 22, 61, 24, 22, 33, 34, 54, 59, 26, 30, 35, 37, 49, 32,\n",
       "       37, 21, 33, 26, 23, 46, 19, 34, 27, 23, 29, 35, 39, 52, 34, 31, 34,\n",
       "       30, 32, 34, 31, 33, 30, 32, 46, 56, 37, 54, 20, 54, 43, 26, 28, 44,\n",
       "       32, 30, 56, 34, 35, 32, 47, 22, 30, 27, 37, 30, 20, 45, 22, 41, 29,\n",
       "       28, 22, 31, 48, 43, 32, 28, 40, 45, 44, 47, 45, 46, 32, 24, 46, 23,\n",
       "       26, 64, 57, 30, 22, 42, 33, 53, 33, 25, 45, 37, 51, 28, 26, 36, 42,\n",
       "       33, 19, 26, 60, 35, 43, 36, 52, 35, 26, 34, 35, 39, 29, 27, 44, 27,\n",
       "       32, 39, 20, 20, 53, 57, 51, 31, 58, 33, 21, 56, 28, 34, 56, 26, 27,\n",
       "       29, 50, 29, 51, 24, 32, 36, 47, 56, 26, 57, 24, 53, 28, 32, 27, 36,\n",
       "       30, 30, 21, 41, 33, 36, 47, 32, 32, 51, 56, 47, 33, 33, 64, 32, 19,\n",
       "       53, 29, 19, 36, 53, 35, 53, 61, 33, 32, 56, 43, 60, 49, 32, 61, 30,\n",
       "       40, 53, 18, 51, 21, 34, 44, 63, 34, 38, 53, 30, 42, 27, 31, 43, 28,\n",
       "       64, 21, 42, 58, 33, 25, 27, 31, 46, 59, 47, 43, 26, 24, 20, 28, 30,\n",
       "       19, 23, 47, 35, 20, 33, 19, 46, 27, 39, 41, 32, 55, 61, 38, 24, 42,\n",
       "       44, 23, 36, 51, 42, 44, 54, 63, 54, 28, 18, 38, 25, 57, 25, 44, 49,\n",
       "       28, 55, 29, 35, 31, 38, 29, 39, 39, 63, 32, 21, 35, 30, 22, 57, 38,\n",
       "       52, 27, 39, 55, 26, 36, 47, 36, 43, 38, 20, 59, 38, 36, 36, 24, 56,\n",
       "       26, 27, 20, 51, 34, 19, 56])"
      ]
     },
     "execution_count": 72,
     "metadata": {},
     "output_type": "execute_result"
    }
   ],
   "source": [
    "cps85.sample().column('age')"
   ]
  },
  {
   "cell_type": "code",
   "execution_count": null,
   "metadata": {},
   "outputs": [],
   "source": [
    "# Empirical distribution of a statistic (and simulation)"
   ]
  },
  {
   "cell_type": "code",
   "execution_count": null,
   "metadata": {},
   "outputs": [],
   "source": [
    "# Examples above are computing a statistic, average, from an empirical sample"
   ]
  },
  {
   "cell_type": "code",
   "execution_count": null,
   "metadata": {},
   "outputs": [],
   "source": [
    "# We can therefore run the sampling and computation of the statistic multiple times, \n",
    "# and visualize the empirical distribution of the statistic in a histogram"
   ]
  },
  {
   "cell_type": "code",
   "execution_count": 77,
   "metadata": {},
   "outputs": [
    {
     "data": {
      "text/plain": [
       "array([], dtype=float64)"
      ]
     },
     "execution_count": 77,
     "metadata": {},
     "output_type": "execute_result"
    }
   ],
   "source": [
    "# First, we create a collections array\n",
    "temp_array = make_array()\n",
    "temp_array"
   ]
  },
  {
   "cell_type": "code",
   "execution_count": 78,
   "metadata": {},
   "outputs": [],
   "source": [
    "#Then do sample and compute the statistic 1000 times \n",
    "# saving the results in the collections array\n",
    "\n",
    "for i in np.arange(1000):\n",
    "    temp = np.average(cps85.sample(15).column('age'))\n",
    "    temp_array = np.append(temp_array, temp)"
   ]
  },
  {
   "cell_type": "code",
   "execution_count": 79,
   "metadata": {},
   "outputs": [
    {
     "data": {
      "image/png": "[encoded data removed]",
      "text/plain": [
       "<Figure size 600x400 with 1 Axes>"
      ]
     },
     "metadata": {},
     "output_type": "display_data"
    }
   ],
   "source": [
    "# Finally we create a table column containing all the simulated statistic values \n",
    "# (i.e., sampling distribution of that statistic - average age) and create a histogram.\n",
    "table = Table()\n",
    "table.with_column('temp', temp_array).hist()"
   ]
  },
  {
   "cell_type": "code",
   "execution_count": 80,
   "metadata": {},
   "outputs": [
    {
     "data": {
      "image/png": "[encoded data removed]",
      "text/plain": [
       "<Figure size 600x400 with 1 Axes>"
      ]
     },
     "metadata": {},
     "output_type": "display_data"
    }
   ],
   "source": [
    "# We can of course write everything in the last 3 cells above in one cell\n",
    "temp_array = make_array()\n",
    "for i in np.arange(1000):\n",
    "    temp = np.average(cps85.sample(15).column('age'))\n",
    "    temp_array = np.append(temp_array, temp)\n",
    "table = Table()\n",
    "table.with_column('temp', temp_array).hist()"
   ]
  },
  {
   "cell_type": "code",
   "execution_count": null,
   "metadata": {},
   "outputs": [],
   "source": []
  }
 ],
 "metadata": {
  "kernelspec": {
   "display_name": "Python 3 (ipykernel)",
   "language": "python",
   "name": "python3"
  },
  "language_info": {
   "codemirror_mode": {
    "name": "ipython",
    "version": 3
   },
   "file_extension": ".py",
   "mimetype": "text/x-python",
   "name": "python",
   "nbconvert_exporter": "python",
   "pygments_lexer": "ipython3",
   "version": "3.8.13"
  }
 },
 "nbformat": 4,
 "nbformat_minor": 4
}
