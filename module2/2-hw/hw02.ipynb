{
 "cells": [
  {
   "cell_type": "markdown",
   "id": "033bae0c",
   "metadata": {},
   "source": [
    "# Homework 2: Arrays and Tables"
   ]
  },
  {
   "cell_type": "markdown",
   "id": "21584443",
   "metadata": {},
   "source": [
    "**Reading**: Textbook chapters [4](https://umass-data-science.github.io/190fwebsite/textbook/04/data-types/), [5](https://umass-data-science.github.io/190fwebsite/textbook/05/sequences/), and [6](https://umass-data-science.github.io/190fwebsite/textbook/06/tables/)."
   ]
  },
  {
   "cell_type": "markdown",
   "id": "8f19c979",
   "metadata": {},
   "source": [
    "Please complete this notebook by filling in the cells provided. Before you begin, execute the following cell to load the provided tests and necessary packages. Each time you start your server, you will need to execute this cell again.\n",
    "\n",
    "Homework 2 is due Tuesday, 9/20 at the begining of class. Start early so that you can come to office hours if you're stuck. Check the piazza for the office hours schedule.\n",
    "\n",
    "Throughout this homework and all future ones, please be sure to not re-assign variables throughout the notebook! For example, if you use `max_temperature` in your answer to one question, do not reassign it later on. "
   ]
  },
  {
   "cell_type": "code",
   "execution_count": null,
   "id": "2f162fdd",
   "metadata": {},
   "outputs": [],
   "source": [
    "import otter\n",
    "import numpy as np\n",
    "from datascience import *\n",
    "grader = otter.Notebook()"
   ]
  },
  {
   "cell_type": "markdown",
   "id": "ad2e4894",
   "metadata": {},
   "source": [
    "## 1. Creating Arrays\n"
   ]
  },
  {
   "cell_type": "markdown",
   "id": "9d6c4e33",
   "metadata": {},
   "source": [
    "**Question 1.1** Make an array called `weird_numbers` containing the following numbers (in the given order):\n",
    "\n",
    "1. -2\n",
    "2. the sine of 1.2\n",
    "3. 3\n",
    "4. 5 to the power of the cosine of 1.2\n",
    "\n",
    "*Hint:* `sin` and `cos` are functions in the `math` module. Remember you will need to import it then use the functions."
   ]
  },
  {
   "cell_type": "code",
   "execution_count": null,
   "id": "38d46b89",
   "metadata": {
    "tags": []
   },
   "outputs": [],
   "source": [
    "...\n",
    "weird_numbers = ...\n",
    "weird_numbers"
   ]
  },
  {
   "cell_type": "code",
   "execution_count": null,
   "id": "a3ce2c64",
   "metadata": {
    "deletable": false,
    "editable": false
   },
   "outputs": [],
   "source": [
    "grader.check(\"q1.1\")"
   ]
  },
  {
   "cell_type": "markdown",
   "id": "9e577b22",
   "metadata": {},
   "source": [
    "**Question 1.2** Make an array called `book_title_words` containing the following three strings: \"Eats\", \"Shoots\", and \"and Leaves\". Use the make_array function from class."
   ]
  },
  {
   "cell_type": "code",
   "execution_count": null,
   "id": "b5a82222",
   "metadata": {
    "tags": []
   },
   "outputs": [],
   "source": [
    "book_title_words = ...\n",
    "book_title_words"
   ]
  },
  {
   "cell_type": "code",
   "execution_count": null,
   "id": "e3bd8aae",
   "metadata": {
    "deletable": false,
    "editable": false
   },
   "outputs": [],
   "source": [
    "grader.check(\"q1.2\")"
   ]
  },
  {
   "cell_type": "markdown",
   "id": "f0cda8cd",
   "metadata": {},
   "source": [
    "Strings have a method called `join`.  `join` takes one argument, an array of strings.  It returns a single string.  Specifically, the value of `a_string.join(an_array)` is a single string that's the [concatenation](https://en.wikipedia.org/wiki/Concatenation) (\"putting together\") of all the strings in `an_array`, **except** `a_string` is inserted in between each string\n",
    "\n",
    "**Question 1.3** Use the array `book_title_words` and the method `join` to make two strings:\n",
    "\n",
    "1. \"Eats, Shoots, and Leaves\" (call this one `with_commas`)\n",
    "2. \"Eats Shoots and Leaves\" (call this| one `without_commas`)\n",
    "\n",
    "*Hint:* If you're not sure what `join` does, first try just calling, for example, `\"foo\".join(book_title_words)` ."
   ]
  },
  {
   "cell_type": "code",
   "execution_count": null,
   "id": "7d8d4ec5",
   "metadata": {
    "tags": []
   },
   "outputs": [],
   "source": [
    "with_commas = ...\n",
    "without_commas = ...\n",
    "\n",
    "# These lines are provided just to print out your answers.\n",
    "print('with_commas:', with_commas)\n",
    "print('without_commas:', without_commas)"
   ]
  },
  {
   "cell_type": "code",
   "execution_count": null,
   "id": "f6022a2e",
   "metadata": {
    "deletable": false,
    "editable": false
   },
   "outputs": [],
   "source": [
    "grader.check(\"q1.3\")"
   ]
  },
  {
   "cell_type": "markdown",
   "id": "f895c93e",
   "metadata": {},
   "source": [
    "## 2. Indexing Arrays\n"
   ]
  },
  {
   "cell_type": "markdown",
   "id": "a919c1c2",
   "metadata": {},
   "source": [
    "These exercises give you practice accessing individual elements of arrays.  In Python (and in many programming languages), elements are accessed by *index*, so the first element is the element at index 0.  "
   ]
  },
  {
   "cell_type": "markdown",
   "id": "935f2369",
   "metadata": {},
   "source": [
    "**Question 2.1** The cell below creates an array of some numbers.  Set `third_element` to the third element of `some_numbers`."
   ]
  },
  {
   "cell_type": "code",
   "execution_count": null,
   "id": "dd71203a",
   "metadata": {
    "tags": []
   },
   "outputs": [],
   "source": [
    "some_numbers = make_array(-1, -3, -6, -10, -15)\n",
    "\n",
    "third_element = ...\n",
    "third_element"
   ]
  },
  {
   "cell_type": "code",
   "execution_count": null,
   "id": "c56b2c24",
   "metadata": {
    "deletable": false,
    "editable": false
   },
   "outputs": [],
   "source": [
    "grader.check(\"q2.1\")"
   ]
  },
  {
   "cell_type": "markdown",
   "id": "6de5e474",
   "metadata": {},
   "source": [
    "**Question 2.2** The next cell creates a table that displays some information about the elements of `some_numbers` and their order.  Run the cell to see the partially-completed table, then fill in the missing information in the cell (the strings that are currently \"???\") to complete the table."
   ]
  },
  {
   "cell_type": "code",
   "execution_count": null,
   "id": "acec7d51",
   "metadata": {
    "tags": []
   },
   "outputs": [],
   "source": [
    "elements_of_some_numbers = Table().with_columns(\n",
    "    \"English name for position\", make_array(\"first\", \"second\", \"???\", \"???\", \"fifth\"),\n",
    "    \"Index\",                     make_array(\"???\", \"1\", \"2\", \"???\", \"4\"),\n",
    "    \"Element\",                   some_numbers)\n",
    "elements_of_some_numbers"
   ]
  },
  {
   "cell_type": "code",
   "execution_count": null,
   "id": "ea647dd6",
   "metadata": {
    "deletable": false,
    "editable": false
   },
   "outputs": [],
   "source": [
    "grader.check(\"q2.2\")"
   ]
  },
  {
   "cell_type": "markdown",
   "id": "ff2b76be",
   "metadata": {},
   "source": [
    "**Question 2.3** You'll sometimes want to find the *last* element of an array.  Suppose an array has 142 elements.  What is the index of its last element? (Set index_of_last_element equal to the answer)"
   ]
  },
  {
   "cell_type": "code",
   "execution_count": null,
   "id": "f455760a",
   "metadata": {
    "tags": []
   },
   "outputs": [],
   "source": [
    "index_of_last_element = ..."
   ]
  },
  {
   "cell_type": "code",
   "execution_count": null,
   "id": "8d44675c",
   "metadata": {
    "deletable": false,
    "editable": false
   },
   "outputs": [],
   "source": [
    "grader.check(\"q2.3\")"
   ]
  },
  {
   "cell_type": "markdown",
   "id": "da781a70",
   "metadata": {},
   "source": [
    "More often, you don't know the number of elements in an array, its *length*.  (For example, it might be a large dataset you found on the Internet.)  The function `len` takes a single argument, an array, and returns the `len`gth of that array (an integer).\n",
    "\n",
    "**Question 2.4** The cell below loads an array called `president_birth_years`.  The last element in that array is the most recent birth year of any deceased president. Assign that year to `most_recent_birth_year`."
   ]
  },
  {
   "cell_type": "code",
   "execution_count": null,
   "id": "b2533eb9",
   "metadata": {
    "tags": []
   },
   "outputs": [],
   "source": [
    "president_birth_years = Table.read_table(\"president_births.csv\").column('Birth Year')\n",
    "\n",
    "most_recent_birth_year = ...\n",
    "most_recent_birth_year"
   ]
  },
  {
   "cell_type": "code",
   "execution_count": null,
   "id": "60ffaae4",
   "metadata": {
    "deletable": false,
    "editable": false
   },
   "outputs": [],
   "source": [
    "grader.check(\"q2.4\")"
   ]
  },
  {
   "cell_type": "markdown",
   "id": "873a905a",
   "metadata": {},
   "source": [
    "## 3. Basic Array Arithmetic\n"
   ]
  },
  {
   "cell_type": "markdown",
   "id": "a33e0da1",
   "metadata": {},
   "source": [
    "**Question 3.1** Multiply the integers 42, 4224, 42422424, and -250 by 157.  For this question, **don't** use arrays."
   ]
  },
  {
   "cell_type": "code",
   "execution_count": null,
   "id": "cd1a6417",
   "metadata": {
    "tags": []
   },
   "outputs": [],
   "source": [
    "first_product = ...\n",
    "second_product = ...\n",
    "third_product = ...\n",
    "fourth_product = ...\n",
    "print(first_product, second_product, third_product, fourth_product)"
   ]
  },
  {
   "cell_type": "code",
   "execution_count": null,
   "id": "441ce751",
   "metadata": {
    "deletable": false,
    "editable": false
   },
   "outputs": [],
   "source": [
    "grader.check(\"q3.1\")"
   ]
  },
  {
   "cell_type": "markdown",
   "id": "43e4c599",
   "metadata": {},
   "source": [
    "**Question 3.2** Now, do the same calculation, but using an array called `numbers` and only a single multiplication (`*`) operator.  Store the 4 results in an array named `products`."
   ]
  },
  {
   "cell_type": "code",
   "execution_count": null,
   "id": "74839b30",
   "metadata": {
    "tags": []
   },
   "outputs": [],
   "source": [
    "numbers = ...\n",
    "products = ...\n",
    "products"
   ]
  },
  {
   "cell_type": "code",
   "execution_count": null,
   "id": "55f3b330",
   "metadata": {
    "deletable": false,
    "editable": false
   },
   "outputs": [],
   "source": [
    "grader.check(\"q3.2\")"
   ]
  },
  {
   "cell_type": "markdown",
   "id": "0c5429c2",
   "metadata": {},
   "source": [
    "**Question 3.3** Oops, we made a typo!  Instead of 157, we wanted to multiply each number by 1577.  Compute the fixed products in the cell below using array arithmetic.  Notice that your job is really easy if you previously defined an array containing the 4 numbers."
   ]
  },
  {
   "cell_type": "code",
   "execution_count": null,
   "id": "69923f13",
   "metadata": {
    "tags": []
   },
   "outputs": [],
   "source": [
    "fixed_products = numbers * 1577\n",
    "fixed_products"
   ]
  },
  {
   "cell_type": "code",
   "execution_count": null,
   "id": "a12480a0",
   "metadata": {
    "deletable": false,
    "editable": false
   },
   "outputs": [],
   "source": [
    "grader.check(\"q3.3\")"
   ]
  },
  {
   "cell_type": "markdown",
   "id": "4f7a0524",
   "metadata": {},
   "source": [
    "**Question 3.4** We've loaded an array of temperatures in the next cell.  Each number is the highest temperature observed on a day at a climate observation station, mostly from the US.  Since they're from the US government agency NOAA, all the temperatures are in Fahrenheit.  Convert them all to Celsius by first subtracting 32 from them, then multiplying the results by $\\frac{5}{9}$. Round each result to the nearest integer using the `np.round` function."
   ]
  },
  {
   "cell_type": "code",
   "execution_count": null,
   "id": "e05f275f",
   "metadata": {
    "tags": []
   },
   "outputs": [],
   "source": [
    "max_temperatures = Table.read_table(\"temperatures.csv\").column(\"Daily Max Temperature\")\n",
    "\n",
    "celsius_max_temperatures = ...\n",
    "celsius_max_temperatures"
   ]
  },
  {
   "cell_type": "code",
   "execution_count": null,
   "id": "faea2de2",
   "metadata": {
    "deletable": false,
    "editable": false
   },
   "outputs": [],
   "source": [
    "grader.check(\"q3.4\")"
   ]
  },
  {
   "cell_type": "markdown",
   "id": "417dbba5",
   "metadata": {},
   "source": [
    "**Question 3.5** The cell below loads all the *lowest* temperatures from each day (in Fahrenheit).  Compute the size of the daily temperature range for each day.  That is, compute the difference between each daily maximum temperature and the corresponding daily minimum temperature.  **Give your answer in Celsius!**"
   ]
  },
  {
   "cell_type": "code",
   "execution_count": null,
   "id": "61a62c1c",
   "metadata": {
    "tags": []
   },
   "outputs": [],
   "source": [
    "min_temperatures = Table.read_table(\"temperatures.csv\").column(\"Daily Min Temperature\")\n",
    "\n",
    "celsius_temperature_ranges = ...\n",
    "celsius_temperature_ranges"
   ]
  },
  {
   "cell_type": "code",
   "execution_count": null,
   "id": "0270bf29",
   "metadata": {
    "deletable": false,
    "editable": false
   },
   "outputs": [],
   "source": [
    "grader.check(\"q3.5\")"
   ]
  },
  {
   "cell_type": "markdown",
   "id": "652565cb",
   "metadata": {},
   "source": [
    "## 4. World Population\n"
   ]
  },
  {
   "cell_type": "markdown",
   "id": "57448659",
   "metadata": {},
   "source": [
    "The cell below loads a table of estimates of the world population for different years, starting in 1950. The estimates come from the US Census Bureau website."
   ]
  },
  {
   "cell_type": "code",
   "execution_count": null,
   "id": "b38ad7f3",
   "metadata": {},
   "outputs": [],
   "source": [
    "world = Table.read_table(\"world_population.csv\").select('Year', 'Population')\n",
    "world.show(4)"
   ]
  },
  {
   "cell_type": "markdown",
   "id": "f71eb887",
   "metadata": {},
   "source": [
    "The name `population` is assigned to an array of population estimates."
   ]
  },
  {
   "cell_type": "code",
   "execution_count": null,
   "id": "5fe35b6c",
   "metadata": {},
   "outputs": [],
   "source": [
    "population = world.column(1)\n",
    "population"
   ]
  },
  {
   "cell_type": "markdown",
   "id": "56eba5d3",
   "metadata": {},
   "source": [
    "In this question, you will apply some built-in Numpy functions to this array."
   ]
  },
  {
   "cell_type": "markdown",
   "id": "2f6a2484",
   "metadata": {},
   "source": [
    "<img src=\"array_diff.png\" style=\"width: 600px;\"/>\n",
    "\n",
    "The difference function `np.diff` subtracts each element in an array by the element that preceeds it. As a result, the length of the array `np.diff` returns will always be one less than the length of the input array."
   ]
  },
  {
   "cell_type": "markdown",
   "id": "65e67dde",
   "metadata": {},
   "source": [
    "<img src=\"array_cumsum.png\" style=\"width: 700px;\"/>\n",
    "\n",
    "The cumulative sum function `np.cumsum` outputs an array of partial sums. For example, the third element in the output array corresponds to the sum of the first, second, and third elements."
   ]
  },
  {
   "cell_type": "markdown",
   "id": "bca1acd3",
   "metadata": {},
   "source": [
    "**Question 4.1** Very often in data science, we are interested understanding how values change with time. Use `np.diff` and `np.max` (or just `max`) to calculate the largest annual change in population between any two consecutive years."
   ]
  },
  {
   "cell_type": "code",
   "execution_count": null,
   "id": "f9a56b83",
   "metadata": {
    "tags": []
   },
   "outputs": [],
   "source": [
    "largest_population_change = ...\n",
    "largest_population_change"
   ]
  },
  {
   "cell_type": "code",
   "execution_count": null,
   "id": "00bfc3be",
   "metadata": {
    "deletable": false,
    "editable": false
   },
   "outputs": [],
   "source": [
    "grader.check(\"q4.1\")"
   ]
  },
  {
   "cell_type": "markdown",
   "id": "2d767b2f",
   "metadata": {},
   "source": [
    "**Question 4.2** Describe in words the result of the following expression. What do the values in the resulting array represent (choose one)?"
   ]
  },
  {
   "cell_type": "code",
   "execution_count": null,
   "id": "541f6f69",
   "metadata": {},
   "outputs": [],
   "source": [
    "np.cumsum(np.diff(population))"
   ]
  },
  {
   "cell_type": "markdown",
   "id": "e806842d",
   "metadata": {},
   "source": [
    "1) The total population change between consecutive years, starting at 1951.\n",
    "\n",
    "2) The total population change between 1950 and each later year, starting at 1951.\n",
    "\n",
    "3) The total population change between consecutive years and 1950, starting at 1951."
   ]
  },
  {
   "cell_type": "code",
   "execution_count": null,
   "id": "708d32c9",
   "metadata": {
    "tags": []
   },
   "outputs": [],
   "source": [
    "# Assign cumulative_sum_answer to 1, 2, or 3\n",
    "cumulative_sum_answer = ..."
   ]
  },
  {
   "cell_type": "code",
   "execution_count": null,
   "id": "b3c90eee",
   "metadata": {
    "deletable": false,
    "editable": false
   },
   "outputs": [],
   "source": [
    "grader.check(\"q4.2\")"
   ]
  },
  {
   "cell_type": "markdown",
   "id": "8a117935",
   "metadata": {},
   "source": [
    "## 5. Old Faithful\n"
   ]
  },
  {
   "cell_type": "markdown",
   "id": "01c9cf08",
   "metadata": {},
   "source": [
    "Old Faithful is a geyser in Yellowstone that erupts every 44 to 125 minutes (according to [Wikipedia](https://en.wikipedia.org/wiki/Old_Faithful)). People are [often told that the geyser erupts every hour](http://yellowstone.net/geysers/old-faithful/), but in fact the waiting time between eruptions is more variable. Let's take a look."
   ]
  },
  {
   "cell_type": "markdown",
   "id": "0d779e4c",
   "metadata": {},
   "source": [
    "**Question 5.1** The first line below assigns `waiting_times` to an array of 272 consecutive waiting times between eruptions, taken from a classic 1938 dataset. Assign the names `shortest`, `longest`, and `average` so that the `print` statement is correct."
   ]
  },
  {
   "cell_type": "code",
   "execution_count": null,
   "id": "53d085fc",
   "metadata": {
    "tags": []
   },
   "outputs": [],
   "source": [
    "waiting_times = Table.read_table('old_faithful.csv').column('waiting')\n",
    "\n",
    "shortest = ...\n",
    "longest = ...\n",
    "average = ...\n",
    "\n",
    "print(\"Old Faithful erupts every\", shortest, \"to\", longest, \"minutes and every\", average, \"minutes on average.\")"
   ]
  },
  {
   "cell_type": "code",
   "execution_count": null,
   "id": "d0733fea",
   "metadata": {
    "deletable": false,
    "editable": false
   },
   "outputs": [],
   "source": [
    "grader.check(\"q5.1\")"
   ]
  },
  {
   "cell_type": "markdown",
   "id": "f6dc8001",
   "metadata": {},
   "source": [
    "**Question 5.2** Assign `biggest_decrease` to the biggest decrease in waiting time between two consecutive eruptions. For example, the third eruption occurred after 74 minutes and the fourth after 62 minutes, so the decrease in waiting time was 74 - 62 = 12 minutes. *Hint*: You'll need an array arithmetic function [mentioned in the textbook](https://umass-data-science.github.io/190fwebsite/textbook/05/1/arrays/)."
   ]
  },
  {
   "cell_type": "code",
   "execution_count": null,
   "id": "f6f0b24f",
   "metadata": {
    "tags": []
   },
   "outputs": [],
   "source": [
    "biggest_decrease = ...\n",
    "biggest_decrease"
   ]
  },
  {
   "cell_type": "code",
   "execution_count": null,
   "id": "a40bc677",
   "metadata": {
    "deletable": false,
    "editable": false
   },
   "outputs": [],
   "source": [
    "grader.check(\"q5.2\")"
   ]
  },
  {
   "cell_type": "markdown",
   "id": "283bad3b",
   "metadata": {},
   "source": [
    "**Question 5.3** If you expected Old Faithful to erupt every hour, you would expect to wait a total of `60 * k` minutes to see `k` eruptions. Set `difference_from_expected` to an array with 272 elements, where the element at index `i` is the absolute difference between the expected and actual total amount of waiting time to see the first `i+1` eruptions.  *Hint*: You'll need to compare a cumulative sum to a range.\n",
    "\n",
    "For example, since the first three waiting times are 79, 54, and 74, the total waiting time for 3 eruptions is 79 + 54 + 74 = 207. The expected waiting time for 3 eruptions is 60 * 3 = 180. Therefore, `difference_from_expected.item(2)` should be $|207 - 180| = 27$."
   ]
  },
  {
   "cell_type": "code",
   "execution_count": null,
   "id": "a21f7c7f",
   "metadata": {
    "tags": []
   },
   "outputs": [],
   "source": [
    "difference_from_expected = ...\n",
    "difference_from_expected"
   ]
  },
  {
   "cell_type": "code",
   "execution_count": null,
   "id": "47f3e1c9",
   "metadata": {
    "deletable": false,
    "editable": false
   },
   "outputs": [],
   "source": [
    "grader.check(\"q5.3\")"
   ]
  },
  {
   "cell_type": "markdown",
   "id": "1ee8f024",
   "metadata": {},
   "source": [
    "**Question 5.4** If instead you guess that each waiting time will be the same as the previous waiting time, how many minutes would your guess differ from the actual time, averaging over every wait time except the first one.\n",
    "\n",
    "For example, since the first three waiting times are 79, 54, and 74, the average difference between your guess and the actual time for just the second and third eruption would be $\\frac{|79-54|+ |54-74|}{2} = 22.5$."
   ]
  },
  {
   "cell_type": "code",
   "execution_count": null,
   "id": "926ceaac",
   "metadata": {
    "tags": []
   },
   "outputs": [],
   "source": [
    "average_error = ...\n",
    "average_error"
   ]
  },
  {
   "cell_type": "code",
   "execution_count": null,
   "id": "4cd36299",
   "metadata": {
    "deletable": false,
    "editable": false
   },
   "outputs": [],
   "source": [
    "grader.check(\"q5.4\")"
   ]
  },
  {
   "cell_type": "markdown",
   "id": "3cde58b1",
   "metadata": {},
   "source": [
    "## 6. Tables\n"
   ]
  },
  {
   "cell_type": "markdown",
   "id": "e873cd59",
   "metadata": {},
   "source": [
    "**Question 6.1** Suppose you have 4 apples, 3 oranges, and 3 pineapples.  (Perhaps you're using Python to solve a high school Algebra problem.)  Create a table that contains this information.  It should have two columns: \"fruit name\" and \"count\".  Give it the name `fruits`.\n",
    "\n",
    "**Note:** Use lower-case and singular words for the name of each fruit, like `\"apple\"`."
   ]
  },
  {
   "cell_type": "code",
   "execution_count": null,
   "id": "d0626076",
   "metadata": {
    "tags": []
   },
   "outputs": [],
   "source": [
    "# Our solution uses 1 statement\n",
    "fruits = ...\n",
    "fruits"
   ]
  },
  {
   "cell_type": "code",
   "execution_count": null,
   "id": "2b907c10",
   "metadata": {
    "deletable": false,
    "editable": false
   },
   "outputs": [],
   "source": [
    "grader.check(\"q6.1\")"
   ]
  },
  {
   "cell_type": "markdown",
   "id": "2676a8e3",
   "metadata": {},
   "source": [
    "**Question 6.2** The file `inventory.csv` contains information about the inventory at a fruit stand.  Each row represents the contents of one box of fruit.  Load it as a table named `inventory`."
   ]
  },
  {
   "cell_type": "code",
   "execution_count": null,
   "id": "9d9114f4",
   "metadata": {
    "tags": []
   },
   "outputs": [],
   "source": [
    "inventory = ...\n",
    "inventory"
   ]
  },
  {
   "cell_type": "code",
   "execution_count": null,
   "id": "ca89ceb9",
   "metadata": {
    "deletable": false,
    "editable": false
   },
   "outputs": [],
   "source": [
    "grader.check(\"q6.2\")"
   ]
  },
  {
   "cell_type": "markdown",
   "id": "3efa06d2",
   "metadata": {},
   "source": [
    "**Question 6.3** Does each box at the fruit stand contain a different fruit? Set all_different to \"Yes\" if each box contains a different fruit or to \"No\" if multiple boxes contain the same fruit."
   ]
  },
  {
   "cell_type": "code",
   "execution_count": null,
   "id": "9f201134",
   "metadata": {
    "tags": []
   },
   "outputs": [],
   "source": [
    "all_different = ...\n",
    "all_different"
   ]
  },
  {
   "cell_type": "code",
   "execution_count": null,
   "id": "50552760",
   "metadata": {
    "deletable": false,
    "editable": false
   },
   "outputs": [],
   "source": [
    "grader.check(\"q6.3\")"
   ]
  },
  {
   "cell_type": "markdown",
   "id": "f44ca778",
   "metadata": {},
   "source": [
    "**Question 6.4** The file `sales.csv` contains the number of fruit sold from each box last Saturday.  It has an extra column called \"price per fruit (\\$)\" that's the price *per item of fruit* for fruit in that box.  The rows are in the same order as the `inventory` table.  Load these data into a table called `sales`."
   ]
  },
  {
   "cell_type": "code",
   "execution_count": null,
   "id": "f6f61455",
   "metadata": {
    "tags": []
   },
   "outputs": [],
   "source": [
    "sales = ...\n",
    "sales"
   ]
  },
  {
   "cell_type": "code",
   "execution_count": null,
   "id": "250ccbd6",
   "metadata": {
    "deletable": false,
    "editable": false
   },
   "outputs": [],
   "source": [
    "grader.check(\"q6.4\")"
   ]
  },
  {
   "cell_type": "markdown",
   "id": "5573901f",
   "metadata": {},
   "source": [
    "**Question 6.5** How many fruits did the store sell in total on that day?"
   ]
  },
  {
   "cell_type": "code",
   "execution_count": null,
   "id": "441d2fb4",
   "metadata": {
    "tags": []
   },
   "outputs": [],
   "source": [
    "total_fruits_sold = ...\n",
    "total_fruits_sold"
   ]
  },
  {
   "cell_type": "code",
   "execution_count": null,
   "id": "c16d2c22",
   "metadata": {
    "deletable": false,
    "editable": false
   },
   "outputs": [],
   "source": [
    "grader.check(\"q6.5\")"
   ]
  },
  {
   "cell_type": "markdown",
   "id": "77edd007",
   "metadata": {},
   "source": [
    "**Question 6.6** What was the store's total revenue (the total price of all fruits sold) on that day?\n",
    "\n",
    "*Hint:* If you're stuck, think first about how you would compute the total revenue from just the grape sales."
   ]
  },
  {
   "cell_type": "code",
   "execution_count": null,
   "id": "4b6ba045",
   "metadata": {
    "tags": []
   },
   "outputs": [],
   "source": [
    "total_revenue = ...\n",
    "total_revenue"
   ]
  },
  {
   "cell_type": "code",
   "execution_count": null,
   "id": "02fe49d5",
   "metadata": {
    "deletable": false,
    "editable": false
   },
   "outputs": [],
   "source": [
    "grader.check(\"q6.6\")"
   ]
  },
  {
   "cell_type": "markdown",
   "id": "cab7afb9",
   "metadata": {},
   "source": [
    "**Question 6.7** Make a new table called `remaining_inventory`.  It should have the same rows and columns as `inventory`, except that the amount of fruit sold from each box should be subtracted from that box's count, so that the \"count\" is the amount of fruit remaining after Saturday.\n",
    "\n",
    "_Hint_: The ?? should be column names, and the !! should be column values either taked directly from the inventory or modified"
   ]
  },
  {
   "cell_type": "code",
   "execution_count": null,
   "id": "ed32cafe",
   "metadata": {
    "tags": []
   },
   "outputs": [],
   "source": [
    "remaining_inventory = Table().with_columns(   \n",
    "    \"??\", !!,\n",
    "    \"??\", !!,\n",
    "    \"??\", !! )\n",
    "remaining_inventory"
   ]
  },
  {
   "cell_type": "code",
   "execution_count": null,
   "id": "5efe3778",
   "metadata": {
    "deletable": false,
    "editable": false
   },
   "outputs": [],
   "source": [
    "grader.check(\"q6.7\")"
   ]
  },
  {
   "cell_type": "markdown",
   "id": "485e0f43",
   "metadata": {
    "tags": []
   },
   "source": [
    "## 7. Submission\n"
   ]
  },
  {
   "cell_type": "markdown",
   "id": "f75547e4",
   "metadata": {},
   "source": [
    "You've finished homework 2!  Be sure to run the notebook tests and verify that they all pass, **your homework will need to pass more tests in gradescope**. Choose **Save and Checkpoint** from the **File** menu, then upload the .ipynb to gradescope to submit your work.  You may submit to gradescope as many times as you want until the deadline."
   ]
  },
  {
   "cell_type": "markdown",
   "id": "5c1adc80",
   "metadata": {
    "deletable": false,
    "editable": false
   },
   "source": [
    "---\n",
    "\n",
    "To double-check your work, the cell below will rerun all of the autograder tests."
   ]
  },
  {
   "cell_type": "code",
   "execution_count": null,
   "id": "adb7c5f0",
   "metadata": {
    "deletable": false,
    "editable": false
   },
   "outputs": [],
   "source": [
    "grader.check_all()"
   ]
  }
 ],
 "metadata": {
  "kernelspec": {
   "display_name": "Python 3 (ipykernel)",
   "language": "python",
   "name": "python3"
  },
  "language_info": {
   "codemirror_mode": {
    "name": "ipython",
    "version": 3
   },
   "file_extension": ".py",
   "mimetype": "text/x-python",
   "name": "python",
   "nbconvert_exporter": "python",
   "pygments_lexer": "ipython3",
   "version": "3.8.13"
  },
  "otter": {
   "tests": {
    "q1.1": {
     "name": "q1.1",
     "points": 1,
     "suites": [
      {
       "cases": [
        {
         "code": ">>> assert type(weird_numbers).__module__ == np.__name__\n>>> assert weird_numbers.shape[0] == 4\n",
         "failure_message": "Remember to use make_array()",
         "hidden": false,
         "locked": false
        }
       ],
       "scored": true,
       "setup": "",
       "teardown": "",
       "type": "doctest"
      }
     ]
    },
    "q1.2": {
     "name": "q1.2",
     "points": 1,
     "suites": [
      {
       "cases": [
        {
         "code": ">>> assert type(book_title_words).__module__ == np.__name__\n>>> assert book_title_words.shape[0] == 3\n",
         "failure_message": "If this test failed your answer is not an array of the correct length",
         "hidden": false,
         "locked": false
        }
       ],
       "scored": true,
       "setup": "",
       "teardown": "",
       "type": "doctest"
      }
     ]
    },
    "q1.3": {
     "name": "q1.3",
     "points": 1,
     "suites": [
      {
       "cases": [
        {
         "code": ">>> assert isinstance(with_commas, str)\n>>> assert isinstance(without_commas, str)\n",
         "failure_message": "If this test failed your answer is not a list of the correct length",
         "hidden": false,
         "locked": false
        }
       ],
       "scored": true,
       "setup": "",
       "teardown": "",
       "type": "doctest"
      }
     ]
    },
    "q2.1": {
     "name": "q2.1",
     "points": 1,
     "suites": [
      {
       "cases": [
        {
         "code": ">>> assert isinstance(int(third_element), int)\n",
         "failure_message": "If this test failed your answer is not the proper value from some_numbers",
         "hidden": false,
         "locked": false
        }
       ],
       "scored": true,
       "setup": "",
       "teardown": "",
       "type": "doctest"
      }
     ]
    },
    "q2.2": {
     "name": "q2.2",
     "points": 1,
     "suites": [
      {
       "cases": [
        {
         "code": ">>> df = Table().with_columns(\n...     \"English name for position\", make_array(\"first\", \"second\", \"third\", \"fourth\", \"fifth\"),\n...     \"Index\",                     make_array(\"0\", \"1\", \"2\", \"3\", \"4\"),\n...     \"Element\",                   some_numbers).to_df()\n>>> assert df.shape == elements_of_some_numbers.to_df().shape\n",
         "failure_message": "If this test failed you may have accidentaly modifed the prompt code",
         "hidden": false,
         "locked": false
        }
       ],
       "scored": true,
       "setup": "",
       "teardown": "",
       "type": "doctest"
      }
     ]
    },
    "q2.3": {
     "name": "q2.3",
     "points": 1,
     "suites": [
      {
       "cases": [
        {
         "code": ">>> index_of_last_element == int(index_of_last_element)\n",
         "failure_message": "If this test failed your answer is not a number",
         "hidden": false,
         "locked": false
        }
       ],
       "scored": true,
       "setup": "",
       "teardown": "",
       "type": "doctest"
      }
     ]
    },
    "q2.4": {
     "name": "q2.4",
     "points": 1,
     "suites": [
      {
       "cases": [
        {
         "code": ">>> assert type(president_birth_years[0]) == type(most_recent_birth_year)\n",
         "failure_message": "If this test failed your answer is not a value from the array",
         "hidden": false,
         "locked": false
        }
       ],
       "scored": true,
       "setup": "",
       "teardown": "",
       "type": "doctest"
      }
     ]
    },
    "q3.1": {
     "name": "q3.1",
     "points": 1,
     "suites": [
      {
       "cases": [
        {
         "code": ">>> assert isinstance(first_product, int)\n>>> assert isinstance(second_product, int)\n>>> assert isinstance(third_product, int)\n>>> assert isinstance(fourth_product, int)\n",
         "failure_message": "The question asked for integers, make sure you didn't add a decimal point to any of the numbers!!",
         "hidden": false,
         "locked": false
        }
       ],
       "scored": true,
       "setup": "",
       "teardown": "",
       "type": "doctest"
      }
     ]
    },
    "q3.2": {
     "name": "q3.2",
     "points": 1,
     "suites": [
      {
       "cases": [
        {
         "code": ">>> assert type(products).__module__ == np.__name__\n>>> assert products.shape[0] == 4\n",
         "failure_message": "Make sure you used make_array() and only one *",
         "hidden": false,
         "locked": false
        }
       ],
       "scored": true,
       "setup": "",
       "teardown": "",
       "type": "doctest"
      }
     ]
    },
    "q3.3": {
     "name": "q3.3",
     "points": 1,
     "suites": [
      {
       "cases": [
        {
         "code": ">>> assert type(fixed_products).__module__ == np.__name__\n>>> assert fixed_products.shape[0] == 4\n",
         "failure_message": "Make sure you used make_array() and only one *",
         "hidden": false,
         "locked": false
        }
       ],
       "scored": true,
       "setup": "",
       "teardown": "",
       "type": "doctest"
      }
     ]
    },
    "q3.4": {
     "name": "q3.4",
     "points": 1,
     "suites": [
      {
       "cases": [
        {
         "code": ">>> assert type(celsius_max_temperatures).__module__ == np.__name__\n",
         "failure_message": "Soemthing went wrong, did you accidentally modify the starter code?",
         "hidden": false,
         "locked": false
        }
       ],
       "scored": true,
       "setup": "",
       "teardown": "",
       "type": "doctest"
      }
     ]
    },
    "q3.5": {
     "name": "q3.5",
     "points": 1,
     "suites": [
      {
       "cases": [
        {
         "code": ">>> no_celsius = abs((max_temperatures - 32) * (5 / 9) - min_temperatures)\n>>> rounded = abs(celsius_max_temperatures - (min_temperatures - 32) * (5 / 9))\n>>> assert not np.array_equal(celsius_temperature_ranges, no_celsius)\n>>> assert not np.array_equal(celsius_temperature_ranges, rounded)\n",
         "failure_message": "Soemthing went wrong, did you convert to celsius before finding the difference? Make sure you didn't use the rounded temps!",
         "hidden": false,
         "locked": false
        }
       ],
       "scored": true,
       "setup": "",
       "teardown": "",
       "type": "doctest"
      }
     ]
    },
    "q4.1": {
     "name": "q4.1",
     "points": 1,
     "suites": [
      {
       "cases": [
        {
         "code": ">>> assert isinstance(int(largest_population_change), int)\n",
         "failure_message": "Did you use max()? largest_population_change should just be a single integer",
         "hidden": false,
         "locked": false
        }
       ],
       "scored": true,
       "setup": "",
       "teardown": "",
       "type": "doctest"
      }
     ]
    },
    "q4.2": {
     "name": "q4.2",
     "points": 1,
     "suites": [
      {
       "cases": [
        {
         "code": ">>> assert isinstance(int(cumulative_sum_answer), int)\n>>> assert cumulative_sum_answer <=3 and cumulative_sum_answer >= 0\n",
         "failure_message": "This should be an integer between 0-3",
         "hidden": false,
         "locked": false
        }
       ],
       "scored": true,
       "setup": "",
       "teardown": "",
       "type": "doctest"
      }
     ]
    },
    "q5.1": {
     "name": "q5.1",
     "points": 1,
     "suites": [
      {
       "cases": [
        {
         "code": ">>> assert isinstance(float(shortest), float)\n>>> assert isinstance(float(longest), float)\n>>> assert isinstance(float(average), float)\n",
         "failure_message": "All 3 varriables should be a single number",
         "hidden": false,
         "locked": false
        }
       ],
       "scored": true,
       "setup": "",
       "teardown": "",
       "type": "doctest"
      }
     ]
    },
    "q5.2": {
     "name": "q5.2",
     "points": 1,
     "suites": [
      {
       "cases": [
        {
         "code": ">>> assert isinstance(int(biggest_decrease), int)\n",
         "failure_message": "This should be a single number",
         "hidden": false,
         "locked": false
        }
       ],
       "scored": true,
       "setup": "",
       "teardown": "",
       "type": "doctest"
      }
     ]
    },
    "q5.3": {
     "name": "q5.3",
     "points": 1,
     "suites": [
      {
       "cases": [
        {
         "code": ">>> assert difference_from_expected.shape[0] == 272\n>>> assert (difference_from_expected > 0).all() == True\n",
         "failure_message": "Remember this is difference so every value should be positive use: np.abs())",
         "hidden": false,
         "locked": false
        }
       ],
       "scored": true,
       "setup": "",
       "teardown": "",
       "type": "doctest"
      }
     ]
    },
    "q5.4": {
     "name": "q5.4",
     "points": 1,
     "suites": [
      {
       "cases": [
        {
         "code": ">>> #this should fail if the answer is not a single number\n>>> assert type(float(average_error)) == float\n",
         "failure_message": "This should be the mean of an array not an array",
         "hidden": false,
         "locked": false
        }
       ],
       "scored": true,
       "setup": "",
       "teardown": "",
       "type": "doctest"
      }
     ]
    },
    "q6.1": {
     "name": "q6.1",
     "points": 1,
     "suites": [
      {
       "cases": [
        {
         "code": ">>> df = Table().with_columns(\"fruit name\", make_array(\"apple\", \"orange\", \"pineapple\"), \"count\", make_array(4, 3, 3)).to_df()\n>>> assert df.shape == fruits.to_df().shape\n",
         "failure_message": "Did you use Table().with_columns? Did you use make_array() for the rows? Check the inclass demos",
         "hidden": false,
         "locked": false
        }
       ],
       "scored": true,
       "setup": "",
       "teardown": "",
       "type": "doctest"
      }
     ]
    },
    "q6.2": {
     "name": "q6.2",
     "points": 1,
     "suites": [
      {
       "cases": [
        {
         "code": ">>> df = Table.read_table('inventory.csv').to_df()\n>>> assert df.shape == inventory.to_df().shape\n",
         "failure_message": "Did you use TTable.read_table?",
         "hidden": false,
         "locked": false
        }
       ],
       "scored": true,
       "setup": "",
       "teardown": "",
       "type": "doctest"
      }
     ]
    },
    "q6.3": {
     "name": "q6.3",
     "points": 1,
     "suites": [
      {
       "cases": [
        {
         "code": ">>> assert all_different == \"Yes\" or all_different == \"No\"\n",
         "failure_message": "Check the case and spelling of your answers?",
         "hidden": false,
         "locked": false
        }
       ],
       "scored": true,
       "setup": "",
       "teardown": "",
       "type": "doctest"
      }
     ]
    },
    "q6.4": {
     "name": "q6.4",
     "points": 1,
     "suites": [
      {
       "cases": [
        {
         "code": ">>> df = Table.read_table('sales.csv').to_df()\n>>> assert df.shape == sales.to_df().shape\n",
         "failure_message": "Did you use Table.read_table?",
         "hidden": false,
         "locked": false
        }
       ],
       "scored": true,
       "setup": "",
       "teardown": "",
       "type": "doctest"
      }
     ]
    },
    "q6.5": {
     "name": "q6.5",
     "points": 1,
     "suites": [
      {
       "cases": [
        {
         "code": ">>> assert isinstance(int(total_fruits_sold), int)\n",
         "failure_message": "Did you use Table().with_columns? Did you use make_array() for the rows? Check the inclass demos",
         "hidden": false,
         "locked": false
        }
       ],
       "scored": true,
       "setup": "",
       "teardown": "",
       "type": "doctest"
      }
     ]
    },
    "q6.6": {
     "name": "q6.6",
     "points": 1,
     "suites": [
      {
       "cases": [
        {
         "code": ">>> sol = np.sum(sales.column('count sold') * sales.column('price per fruit ($)'))\n>>> assert isinstance(total_revenue, float) or type(total_revenue) == type(sol)\n",
         "failure_message": "Check your types! This should be a single value and it should have decimal places",
         "hidden": false,
         "locked": false
        }
       ],
       "scored": true,
       "setup": "",
       "teardown": "",
       "type": "doctest"
      }
     ]
    },
    "q6.7": {
     "name": "q6.7",
     "points": 1,
     "suites": [
      {
       "cases": [
        {
         "code": ">>> df = Table().with_columns(   \n...     \"box ID\", inventory.column(0),\n...     \"fruit name\", inventory.column(1),\n...     \"count\", inventory.column(2)-sales.column(2)).to_df()\n>>> assert df.shape == remaining_inventory.to_df().shape\n>>> assert str(remaining_inventory.to_df().columns[0]) == \"box ID\"\n",
         "failure_message": "Check the shape of your table and the column names. Everything should be very similar to inventory.",
         "hidden": false,
         "locked": false
        }
       ],
       "scored": true,
       "setup": "",
       "teardown": "",
       "type": "doctest"
      }
     ]
    }
   }
  }
 },
 "nbformat": 4,
 "nbformat_minor": 5
}
