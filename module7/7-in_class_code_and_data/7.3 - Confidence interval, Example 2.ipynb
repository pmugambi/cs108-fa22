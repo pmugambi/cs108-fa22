{
 "cells": [
  {
   "cell_type": "markdown",
   "metadata": {},
   "source": [
    "# Lecture 16"
   ]
  },
  {
   "cell_type": "markdown",
   "metadata": {},
   "source": [
    "## 7.3: Module 7 Notebook 3 ##"
   ]
  },
  {
   "cell_type": "code",
   "execution_count": null,
   "metadata": {},
   "outputs": [],
   "source": [
    "# HIDDEN\n",
    "from datascience import *\n",
    "%matplotlib inline\n",
    "import matplotlib.pyplot as plots\n",
    "plots.style.use('fivethirtyeight')\n",
    "import numpy as np"
   ]
  },
  {
   "cell_type": "code",
   "execution_count": null,
   "metadata": {},
   "outputs": [],
   "source": [
    "births = Table.read_table('baby.csv')"
   ]
  },
  {
   "cell_type": "code",
   "execution_count": null,
   "metadata": {},
   "outputs": [],
   "source": [
    "births"
   ]
  },
  {
   "cell_type": "code",
   "execution_count": null,
   "metadata": {},
   "outputs": [],
   "source": [
    "babies = births.select('Birth Weight', 'Gestational Days')"
   ]
  },
  {
   "cell_type": "code",
   "execution_count": null,
   "metadata": {},
   "outputs": [],
   "source": [
    "babies = babies.with_column(\n",
    "    'Ratio BW/GD', babies.column(0) / babies.column(1)\n",
    ")"
   ]
  },
  {
   "cell_type": "code",
   "execution_count": null,
   "metadata": {},
   "outputs": [],
   "source": [
    "babies"
   ]
  },
  {
   "cell_type": "code",
   "execution_count": null,
   "metadata": {},
   "outputs": [],
   "source": [
    "babies.hist('Ratio BW/GD')"
   ]
  },
  {
   "cell_type": "code",
   "execution_count": null,
   "metadata": {},
   "outputs": [],
   "source": [
    "percentile(50, babies.column('Ratio BW/GD'))"
   ]
  },
  {
   "cell_type": "code",
   "execution_count": null,
   "metadata": {},
   "outputs": [],
   "source": [
    "# Bootstrap the sample median\n",
    "\n",
    "medians = make_array()\n",
    "\n",
    "for i in np.arange(5000):\n",
    "    resample = babies.sample()\n",
    "    resampled_median = percentile(50, resample.column('Ratio BW/GD'))\n",
    "    medians = np.append(medians, resampled_median)"
   ]
  },
  {
   "cell_type": "code",
   "execution_count": null,
   "metadata": {},
   "outputs": [],
   "source": [
    "interval_95 = make_array(percentile(2.5, medians), percentile(97.5, medians))\n",
    "interval_95"
   ]
  },
  {
   "cell_type": "code",
   "execution_count": null,
   "metadata": {},
   "outputs": [],
   "source": [
    "Table().with_column('Resampled Median', medians).hist()\n",
    "plots.plot(interval_95, [0, 0], color='gold', lw=8)\n",
    "print('Approx 95% Confidence Interval for Median Ratio in Population:')\n",
    "print(np.round(interval_95, 3))"
   ]
  },
  {
   "cell_type": "code",
   "execution_count": null,
   "metadata": {},
   "outputs": [],
   "source": [
    "interval_80 = make_array(percentile(10, medians), percentile(90, medians))"
   ]
  },
  {
   "cell_type": "code",
   "execution_count": null,
   "metadata": {},
   "outputs": [],
   "source": [
    "Table().with_column('Resampled Median', medians).hist()\n",
    "plots.plot(interval_80, [0, 0], color='gold', lw=8)\n",
    "print('Approx 80% Confidence Interval for Median Ratio in Population:')\n",
    "print(np.round(interval_80, 3))"
   ]
  },
  {
   "cell_type": "code",
   "execution_count": null,
   "metadata": {},
   "outputs": [],
   "source": [
    "births"
   ]
  },
  {
   "cell_type": "code",
   "execution_count": null,
   "metadata": {},
   "outputs": [],
   "source": [
    "births.hist('Maternal Age')"
   ]
  },
  {
   "cell_type": "code",
   "execution_count": null,
   "metadata": {},
   "outputs": [],
   "source": [
    "np.average(births.column('Maternal Age'))"
   ]
  },
  {
   "cell_type": "code",
   "execution_count": null,
   "metadata": {},
   "outputs": [],
   "source": [
    "# Bootstrap the sample mean\n",
    "\n",
    "means = make_array()\n",
    "\n",
    "for i in np.arange(5000):\n",
    "    resample = births.sample()\n",
    "    resampled_mean = np.average(resample.column('Maternal Age'))\n",
    "    means = np.append(means, resampled_mean) "
   ]
  },
  {
   "cell_type": "code",
   "execution_count": null,
   "metadata": {},
   "outputs": [],
   "source": [
    "interval_95 = make_array(percentile(2.5, means), percentile(97.5, means))\n",
    "\n",
    "Table().with_column('Resampled Mean', means).hist()\n",
    "plots.plot(interval_95, [0, 0], color='gold', lw=8)\n",
    "print('Approx 95% Confidence Interval for Mean Maternal Age in Population:')\n",
    "print(np.round(interval_95, 3))"
   ]
  },
  {
   "cell_type": "code",
   "execution_count": null,
   "metadata": {},
   "outputs": [],
   "source": []
  }
 ],
 "metadata": {
  "anaconda-cloud": {},
  "kernelspec": {
   "display_name": "Python 3 (ipykernel)",
   "language": "python",
   "name": "python3"
  },
  "language_info": {
   "codemirror_mode": {
    "name": "ipython",
    "version": 3
   },
   "file_extension": ".py",
   "mimetype": "text/x-python",
   "name": "python",
   "nbconvert_exporter": "python",
   "pygments_lexer": "ipython3",
   "version": "3.8.13"
  }
 },
 "nbformat": 4,
 "nbformat_minor": 1
}
