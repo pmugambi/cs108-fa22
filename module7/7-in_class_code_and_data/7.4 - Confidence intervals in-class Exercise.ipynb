{
 "cells": [
  {
   "cell_type": "markdown",
   "metadata": {},
   "source": [
    "# Lecture 16"
   ]
  },
  {
   "cell_type": "markdown",
   "metadata": {},
   "source": [
    "## 7.4: Module 7 Notebook 4 ##"
   ]
  },
  {
   "cell_type": "code",
   "execution_count": null,
   "metadata": {
    "id": "AjZJ3hj3w84Q"
   },
   "outputs": [],
   "source": [
    "import matplotlib\n",
    "from datascience import *\n",
    "%matplotlib inline\n",
    "import matplotlib.pyplot as plots\n",
    "import numpy as np\n",
    "plots.style.use('fivethirtyeight')"
   ]
  },
  {
   "cell_type": "code",
   "execution_count": null,
   "metadata": {
    "id": "-VtohcwXw84e"
   },
   "outputs": [],
   "source": [
    "flights = Table.read_table(\"united_summer2015.csv\")"
   ]
  },
  {
   "cell_type": "code",
   "execution_count": null,
   "metadata": {
    "id": "Aik89rViw84g",
    "outputId": "326eaa1a-6be4-4d3c-bbea-4eacaf59fb98"
   },
   "outputs": [],
   "source": [
    "flights.hist('Delay', bins = np.arange(0,200,10))"
   ]
  },
  {
   "cell_type": "markdown",
   "metadata": {
    "id": "2-rnyoOIw84j"
   },
   "source": [
    "### The following notebook will walk you through the steps required to construct a 50% confidence interval for the population mean flight delay from a sample of 100 flights.  On an exam I might simply say \"use a sampe size of 100 and calculate the 50% confidence interval of the mean delay.  Make a histogram and show your confidence interval on the graph\""
   ]
  },
  {
   "cell_type": "markdown",
   "metadata": {
    "id": "0oSjpew8w84l"
   },
   "source": [
    "The following code takes a sample of 100 and calls it sample_100.  Change the random seed from 1111 to a 4 digit random number of your choosing.  This will allow you to recreate the same random sample if you have to rerun your code. "
   ]
  },
  {
   "cell_type": "code",
   "execution_count": null,
   "metadata": {
    "id": "WA19cgnGw84m",
    "outputId": "859f41b9-f086-4992-db97-4e03cad381d2"
   },
   "outputs": [],
   "source": [
    "np.random.seed(1111)\n",
    "sample_100 = flights.sample(100, with_replacement = False)\n",
    "sample_100"
   ]
  },
  {
   "cell_type": "markdown",
   "metadata": {
    "id": "NVm7TK2Jw84n"
   },
   "source": [
    "Show a histogram of the sample"
   ]
  },
  {
   "cell_type": "code",
   "execution_count": null,
   "metadata": {
    "id": "8h5NkEjhw84p"
   },
   "outputs": [],
   "source": []
  },
  {
   "cell_type": "markdown",
   "metadata": {
    "id": "KyT-TBwBw84q"
   },
   "source": [
    "What is the delay of your sample at the 20th percentile?  What does this mean?"
   ]
  },
  {
   "cell_type": "code",
   "execution_count": null,
   "metadata": {
    "id": "n_ORug-0w84s"
   },
   "outputs": [],
   "source": []
  },
  {
   "cell_type": "markdown",
   "metadata": {
    "id": "X3ei24pRw84t"
   },
   "source": [
    "What is the delay of your sample at the 80th percentile?  What does this mean?"
   ]
  },
  {
   "cell_type": "code",
   "execution_count": null,
   "metadata": {
    "id": "NCwMD2stw84t"
   },
   "outputs": [],
   "source": []
  },
  {
   "cell_type": "markdown",
   "metadata": {
    "id": "OFg5Q269w84t"
   },
   "source": [
    "What is the mean of your sample?"
   ]
  },
  {
   "cell_type": "code",
   "execution_count": null,
   "metadata": {
    "id": "G5_E8eafw84u"
   },
   "outputs": [],
   "source": []
  },
  {
   "cell_type": "markdown",
   "metadata": {
    "id": "RJohHrKMw84u"
   },
   "source": [
    "## Calculate a 50% confidence interval of the mean"
   ]
  },
  {
   "cell_type": "markdown",
   "metadata": {
    "id": "Ii6to4aMw84v"
   },
   "source": [
    "Step 1 - create an array of 5000 resampled means of sample size 100 from your sample.  Do not take a new sample from the population (flights)."
   ]
  },
  {
   "cell_type": "code",
   "execution_count": null,
   "metadata": {
    "id": "mB2VfMnCw84w"
   },
   "outputs": [],
   "source": []
  },
  {
   "cell_type": "markdown",
   "metadata": {
    "id": "EyF0D1BIw84x"
   },
   "source": [
    "Step 2 - calculate the the correct percentile boundaries for a 50% confidence interval.  What percentile should be the lower bound?  What percentile should be the upper bound?"
   ]
  },
  {
   "cell_type": "code",
   "execution_count": null,
   "metadata": {
    "id": "0oM9cZpyw84x"
   },
   "outputs": [],
   "source": [
    "#this does note require code, just write down the percentiles\n",
    "lower_percentile = \n",
    "upper_percentile = "
   ]
  },
  {
   "cell_type": "markdown",
   "metadata": {
    "id": "BrsL2TcMw84z"
   },
   "source": [
    "Step 3 - extract the boundaries of the 50% confidence interval from your simulated array of means.  This is your confidence interval."
   ]
  },
  {
   "cell_type": "code",
   "execution_count": null,
   "metadata": {
    "id": "vXvr6CYyw84z"
   },
   "outputs": [],
   "source": []
  },
  {
   "cell_type": "markdown",
   "metadata": {
    "id": "TuLYlcdow840"
   },
   "source": [
    "Plot the bootstrap distribution and your confidence interval using a histogram."
   ]
  },
  {
   "cell_type": "code",
   "execution_count": null,
   "metadata": {
    "id": "ecmd84a5w840"
   },
   "outputs": [],
   "source": []
  },
  {
   "cell_type": "markdown",
   "metadata": {
    "id": "_Uym-brGw840"
   },
   "source": [
    "1. Take a screenshot of your plot and paste it into a slide found [here](https://drive.google.com/file/d/1pwzibznfE9JFeX-f642lwT9sW-VZUnmC/view?usp=sharing)\n",
    "\n",
    "2. Record your confidence interval on the last slide"
   ]
  },
  {
   "cell_type": "markdown",
   "metadata": {
    "id": "WPgM9nV_w841"
   },
   "source": [
    "Calculate the population mean.  Does your confidence interval contain the population mean?  Note this on the table in the slides."
   ]
  },
  {
   "cell_type": "code",
   "execution_count": null,
   "metadata": {
    "id": "EhkpbsfEw841"
   },
   "outputs": [],
   "source": []
  },
  {
   "cell_type": "markdown",
   "metadata": {
    "id": "jDNI9YFCw841"
   },
   "source": [
    "What percent of the classes confidence intervals would you expect to contain the population mean?"
   ]
  },
  {
   "cell_type": "code",
   "execution_count": null,
   "metadata": {
    "id": "USOw4e6Hw842"
   },
   "outputs": [],
   "source": []
  }
 ],
 "metadata": {
  "colab": {
   "name": "Confidence_Intervals_in_class_exercise.ipynb",
   "provenance": []
  },
  "kernelspec": {
   "display_name": "Python 3 (ipykernel)",
   "language": "python",
   "name": "python3"
  },
  "language_info": {
   "codemirror_mode": {
    "name": "ipython",
    "version": 3
   },
   "file_extension": ".py",
   "mimetype": "text/x-python",
   "name": "python",
   "nbconvert_exporter": "python",
   "pygments_lexer": "ipython3",
   "version": "3.8.13"
  }
 },
 "nbformat": 4,
 "nbformat_minor": 1
}
