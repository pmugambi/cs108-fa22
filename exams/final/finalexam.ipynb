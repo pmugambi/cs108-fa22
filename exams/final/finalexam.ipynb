{
 "cells": [
  {
   "cell_type": "code",
   "execution_count": null,
   "id": "e7e5e856-cc5c-4983-b60d-794bdda0917f",
   "metadata": {},
   "outputs": [],
   "source": [
    "!pip install datascience"
   ]
  },
  {
   "cell_type": "code",
   "execution_count": null,
   "id": "d54ab96f-2130-4891-96ae-c4bc1419518f",
   "metadata": {
    "scrolled": true,
    "tags": []
   },
   "outputs": [],
   "source": [
    "import numpy as np\n",
    "from datascience import *\n",
    "\n",
    "# These lines set up graphing capabilities.\n",
    "import matplotlib\n",
    "%matplotlib inline\n",
    "import matplotlib.pyplot as plt\n",
    "plt.style.use('fivethirtyeight')\n",
    "import warnings\n",
    "warnings.simplefilter('ignore', FutureWarning)"
   ]
  },
  {
   "cell_type": "markdown",
   "id": "f2d5eea5-c894-4ab4-99e3-42dd61b137d7",
   "metadata": {},
   "source": [
    "## Instructions\n",
    "\n",
    "This exam has a **4 hour time limit** with no extra uploading time. Upon completion you must have submitted a .ipynb notebook to the moodle quiz.  \n",
    "\n",
    "  \n",
    "\n",
    "You may consult any course material and documentation. **All the work in the notebook must be entirely your own** under no circumstances may you communicate with any classmates.  \n",
    "\n",
    "\n",
    "\n",
    "This exam is scored out of 180 and scaled to account for difficulty. The course instructors will only be able to answer questions regarding technical issues once you begin your exam. **Leave comments describing your reasoning if you think your work on a question may be eligible for partial credit**"
   ]
  },
  {
   "cell_type": "markdown",
   "id": "b0703d07-0f30-4b83-9ba4-b8659d09f3ab",
   "metadata": {},
   "source": [
    "## Enter your name here: "
   ]
  },
  {
   "cell_type": "markdown",
   "id": "95155180-0450-477d-9a7e-5aae1fbdbc51",
   "metadata": {
    "tags": []
   },
   "source": [
    "## 1. Answer the following questions"
   ]
  },
  {
   "cell_type": "markdown",
   "id": "4868f5d9-9200-45dc-8fed-b4a7e1bb97bc",
   "metadata": {},
   "source": [
    "**Question 1.1: 10 Points** If you roll two standard six sided dice, what is the probability of rolling a pair? You may answer as a fraction or an equation in code"
   ]
  },
  {
   "cell_type": "code",
   "execution_count": null,
   "id": "1188df3a-295e-4472-a576-92819bea26c7",
   "metadata": {
    "tags": []
   },
   "outputs": [],
   "source": [
    "equation = ...\n",
    "equation"
   ]
  },
  {
   "cell_type": "markdown",
   "id": "cb770d3d-c93d-4c19-80ec-cc5bc59959fa",
   "metadata": {},
   "source": [
    "**Question 1.2: 10 Points** Complete the `standard_units` function below. \n",
    "\n",
    "*Note:* You will need to use this function in several more questions so be certain that 1) It works as expected 2) it works with any array of values"
   ]
  },
  {
   "cell_type": "code",
   "execution_count": null,
   "id": "2283ce51-bbeb-4947-afbf-eeb95caf566b",
   "metadata": {
    "tags": []
   },
   "outputs": [],
   "source": [
    "def standard_units(values):\n",
    "    \"\"\"\n",
    "    Given any array of values.\n",
    "    returns an array of those values converted to standard units\n",
    "    \"\"\"\"\n",
    "    return ...\n",
    "\n",
    "print(standard_units([3,4,5]))"
   ]
  },
  {
   "cell_type": "markdown",
   "id": "7b2c4a37-c685-4e44-a669-4e8557274964",
   "metadata": {},
   "source": [
    "**Question 1.3: 10 Points** Explain why both of these arrays return the same set of standard units. You may do this in words or mathmatically \n",
    "\n",
    "*Hint:* If these don't return the same values go back to question 1.2"
   ]
  },
  {
   "cell_type": "code",
   "execution_count": null,
   "id": "7c05e8c7-421c-4eae-bc50-255272375ebb",
   "metadata": {
    "tags": []
   },
   "outputs": [],
   "source": [
    "print(standard_units([1,2,3]))\n",
    "print(standard_units([755,756,757]))"
   ]
  },
  {
   "cell_type": "markdown",
   "id": "85cd1d21-8192-4afc-ad67-983c96d07bbd",
   "metadata": {},
   "source": [
    "### Answer Here"
   ]
  },
  {
   "cell_type": "markdown",
   "id": "b8ad062a-0272-4a48-9bd6-fb09ebc9c4ce",
   "metadata": {},
   "source": [
    "**Question 1.4: 10 Points** Take a random sample of 500 values from this table of data"
   ]
  },
  {
   "cell_type": "code",
   "execution_count": null,
   "id": "8dd0473e-16bd-4596-b67e-11d9ef38db80",
   "metadata": {},
   "outputs": [],
   "source": [
    "data = Table().with_columns(\"var\", np.random.normal(50, 10, 1000))\n",
    "\n",
    "small_sample = ...\n",
    "small_sample"
   ]
  },
  {
   "cell_type": "markdown",
   "id": "99eb3935-6788-4d5b-9da5-dd8e05d5bb6a",
   "metadata": {
    "tags": []
   },
   "source": [
    "## 2. Bootstrap sample"
   ]
  },
  {
   "cell_type": "markdown",
   "id": "4da0bd0f-ce8a-4e49-84a5-e6fc907e78d1",
   "metadata": {},
   "source": [
    "You're looking to start a restaraunt and want to be sure to include menu items customers will be excited to order. To help you refine your menu, you hire a polling company to survey 100 people selected uniformly at random from the local population. They ask each potential customer: \"Name something you never cook at home, but want to order when eating at a restaurant\". After compiling the results, the polling company releases the following proportions from their sample:\n",
    "\n",
    "|Food  | Responses|\n",
    "|:------------:|:------------:|\n",
    "|Lobster (L) | 35 |\n",
    "|Steak (S)| 28 |\n",
    "|Fish (F)| 19 |\n",
    "|French Fries (FF)| 10 |\n",
    "\n",
    "These proportions represent a uniform random sample of the local population.\n",
    "\n",
    "The table `responses` contains the results of the survey. Foods are represented by the initials indicted in the table above."
   ]
  },
  {
   "cell_type": "code",
   "execution_count": null,
   "id": "f76af5be-bc36-4df8-96e2-6fc069af04f5",
   "metadata": {},
   "outputs": [],
   "source": [
    "responses = Table().with_column('Food', np.array(['L']*35 + ['S']*28 + ['F']*19 + ['FF']*10))\n",
    "responses"
   ]
  },
  {
   "cell_type": "markdown",
   "id": "dbfe08c0-d08a-4aa7-a236-3aaa27b28907",
   "metadata": {},
   "source": [
    "You study the survey results and realize that both Lobster and Steak are popular proteins that could make your restaurant exciting for the customers. However, it is too difficult to have both options available on day 1.\n",
    "\n",
    "Since lobster is expensive and need to be stored alive in a fish tank, you want to be sure that there is a meaningful difference between the amount of people excited to eat lobster over steak. If this difference is not meaningful it would be much easier to just serve steak."
   ]
  },
  {
   "cell_type": "markdown",
   "id": "614f3e09-ebc1-4fb8-bb45-15f62b200736",
   "metadata": {},
   "source": [
    "**Question 2.1: 10 Points**  You're concerned about:\n",
    "\n",
    "$$\\text{Proportion who want lobster} - \\text{Proportion who want steak}.$$\n",
    "\n",
    "Complete the function the function `l_preference` below, bootstrap a samples of the same size from our population `responses` to compute an approximate distribution people who would like lobster over steak. Use 1000 resamples."
   ]
  },
  {
   "cell_type": "code",
   "execution_count": null,
   "id": "ee0d2fdf-711f-41fc-b0ec-73c725a6290f",
   "metadata": {},
   "outputs": [],
   "source": [
    "def l_preference(responses):\n",
    "    proportions = make_array()\n",
    "    \n",
    "    ...\n",
    "    \n",
    "    return proportions\n",
    "\n",
    "proportions = l_preference(responses)"
   ]
  },
  {
   "cell_type": "markdown",
   "id": "e3ac2929-a6af-4313-84d6-a007c5fb6e73",
   "metadata": {},
   "source": [
    "**Question 2.2: 10 Points** Plot a histogram of these results"
   ]
  },
  {
   "cell_type": "code",
   "execution_count": null,
   "id": "a8322655-ee53-4939-9158-debc69d75729",
   "metadata": {},
   "outputs": [],
   "source": [
    "..."
   ]
  },
  {
   "cell_type": "markdown",
   "id": "28cef79d-4330-4f41-b617-7a21be0c7b65",
   "metadata": {},
   "source": [
    "**Question 2.3: 10 Points** Compute a 95 percent confidence interval for the approximate distribution people who would like lobster over steak"
   ]
  },
  {
   "cell_type": "code",
   "execution_count": null,
   "id": "03e641cf-bc31-445a-9067-41047bb5de2f",
   "metadata": {},
   "outputs": [],
   "source": [
    "lower_bound = ...\n",
    "upper_bound = ...\n",
    "print(\"Bootstrapped 95% confidence interval for true proportion of population who prefer lobster over steak: [{:f}, {:f}]\".format(diff_lower_bound, diff_upper_bound))"
   ]
  },
  {
   "cell_type": "markdown",
   "id": "f4dab197-c643-46d3-bf63-590a79d0a609",
   "metadata": {
    "tags": []
   },
   "source": [
    "## 3. The Boston Housing Dataset\n",
    "\n",
    "**Here is some information on the dataset. You may need to refer to this in future questions**\n",
    "\n",
    "Each row represents a town in the Boston area\n",
    "\n",
    "The varriable we will be predicting is:\n",
    "* medv - Median value of owner-occupied homes in $1000's\n",
    "\n",
    "The features are:\n",
    "* crim - per capita crime rate by town\n",
    "* zn - proportion of residential land zoned for lots over 25,000 sq.ft.\n",
    "* indus - proportion of non-retail business acres per town.\n",
    "* chas - Charles River dummy variable (1 if tract bounds river; 0 otherwise)\n",
    "* nox - nitric oxides concentration (parts per 10 million)\n",
    "* rm - average number of rooms per dwelling\n",
    "* age - proportion of owner-occupied units built prior to 1940\n",
    "* dis - weighted distances to five Boston employment centres\n",
    "* rad - index of accessibility to radial highways\n",
    "* tax - full-value property-tax rate per \\$10,000\n",
    "* ptratio - pupil-teacher ratio by town\n",
    "* c - $ 1000(Cp - 0.63)^2 $ where Cp is the proportion of non-white citizens by town\n",
    "* lstat - $\\%$ lower status of the population"
   ]
  },
  {
   "cell_type": "code",
   "execution_count": null,
   "id": "1b2ae63d-194d-4738-af13-f3d6050c1615",
   "metadata": {},
   "outputs": [],
   "source": [
    "housing = Table().read_table('bostonhousing.csv')\n",
    "housing.show(5)"
   ]
  },
  {
   "cell_type": "markdown",
   "id": "cbe47a01-e157-44db-8098-080e34b165b3",
   "metadata": {},
   "source": [
    "**Question 3.1: 10 Points** Create a histogram of the median home value"
   ]
  },
  {
   "cell_type": "code",
   "execution_count": null,
   "id": "c1e9bd7c-dc90-4385-87a3-4bbe0e84bd38",
   "metadata": {
    "tags": []
   },
   "outputs": [],
   "source": [
    "..."
   ]
  },
  {
   "cell_type": "markdown",
   "id": "2971075d-b769-412f-8c9d-85a2af2a4001",
   "metadata": {},
   "source": [
    "**Question 3.2: 10 Points** Create a scatter plot of median value of owner-occupied homes vs weighted distances to five Boston employment centres"
   ]
  },
  {
   "cell_type": "code",
   "execution_count": null,
   "id": "9006cb7f-8ccd-4929-936c-32c96ddd5936",
   "metadata": {
    "tags": []
   },
   "outputs": [],
   "source": [
    "..."
   ]
  },
  {
   "cell_type": "markdown",
   "id": "4e84a75a-d8e5-4d41-b279-3dec07a8e162",
   "metadata": {},
   "source": [
    "**Question 3.3: 10 Points** Is there a **strong** linear correlation between median value of owner-occupied homes and weighted distances to five Boston employment centres? Justify your answer by discussing the plot you created in 3.2"
   ]
  },
  {
   "cell_type": "markdown",
   "id": "c101f905-bab8-4d68-9651-1f8d5e472504",
   "metadata": {
    "tags": []
   },
   "source": [
    "### Answer Here"
   ]
  },
  {
   "cell_type": "markdown",
   "id": "9048cf53-36fd-4319-a2fa-6cc131b09706",
   "metadata": {},
   "source": [
    "**Question 3.4: 10 Points** Create a scatter plot of median value of owner-occupied homes vs $\\%$ lower status of the population"
   ]
  },
  {
   "cell_type": "code",
   "execution_count": null,
   "id": "30d1a05c-f0de-4d37-a8b8-bb98416c0ff3",
   "metadata": {
    "tags": []
   },
   "outputs": [],
   "source": [
    "..."
   ]
  },
  {
   "cell_type": "markdown",
   "id": "a4a8a95a-ecd0-4efc-88ab-0eb864f2ea7b",
   "metadata": {},
   "source": [
    "**Question 3.5: 10 Points** is there a **strong** linear correlation between median value of owner-occupied homes and $\\%$ lower status of the population? Justify your answer by discussing the plot you created in 3.4"
   ]
  },
  {
   "cell_type": "markdown",
   "id": "fcd4f681-2906-40ce-bb14-91471eab1a8c",
   "metadata": {
    "tags": []
   },
   "source": [
    "### Answer Here"
   ]
  },
  {
   "cell_type": "markdown",
   "id": "baa59ad4-7e4f-4008-be2e-429a01197889",
   "metadata": {},
   "source": [
    "**Question 3.6: 10 Points** Calculate the correlation coefficient to justify your answer in 3.5 You may need to use functions created previously in this exam"
   ]
  },
  {
   "cell_type": "code",
   "execution_count": null,
   "id": "e0fc0631-d5d9-4b88-be83-47e36f77636f",
   "metadata": {
    "tags": []
   },
   "outputs": [],
   "source": [
    "r_mdev_lstat = ...\n",
    "r_mdev_lstat"
   ]
  },
  {
   "cell_type": "markdown",
   "id": "03e2a046-2541-4643-9bb0-f9efa4ca4324",
   "metadata": {},
   "source": [
    "**Question 3.7: 10 Points** If you wanted to create a linear predictor of median value of owner occupied home, but could only use one varriable. Would you use lstat or dis? Justify your answer"
   ]
  },
  {
   "cell_type": "markdown",
   "id": "fabf6365-c279-4162-a045-02efae69a004",
   "metadata": {},
   "source": [
    "### Answer Here"
   ]
  },
  {
   "cell_type": "markdown",
   "id": "86b10da6-428e-44c3-9ef3-2bda34e23595",
   "metadata": {},
   "source": [
    "**Question 3.8: 10 Points** We will now be using $\\%$ lower status of the population and average # of rooms per dwelling to predict median value of owner-occupied homes. \n",
    "\n",
    "Create one more scatter plot of median value of owner-occipied homes vs average # of rooms per dwelling to show their linear relationship."
   ]
  },
  {
   "cell_type": "code",
   "execution_count": null,
   "id": "af471bae-5efb-42ce-9747-ea585ec0c13b",
   "metadata": {
    "tags": []
   },
   "outputs": [],
   "source": [
    "..."
   ]
  },
  {
   "cell_type": "markdown",
   "id": "c17a0ca0-80c4-41da-ab77-c92fa2b9bf6f",
   "metadata": {},
   "source": [
    "**Question 3.9: 10 Points** Create a new table housing_standard containing a the standardized versions of the `lstat` and `rm` column. Also include a column `mdev` with the unstandardized target varriable `mdev`"
   ]
  },
  {
   "cell_type": "code",
   "execution_count": null,
   "id": "991429ef-19b6-424a-b0e5-6358b280eabc",
   "metadata": {},
   "outputs": [],
   "source": [
    "housing_standard = ..."
   ]
  },
  {
   "cell_type": "markdown",
   "id": "748b49d2-6773-413d-b586-de1e733f85fd",
   "metadata": {},
   "source": [
    "**Question 3.10: 10 Points** In this course we have extensivley discussed mean squared error, however, there are other ways of quantifying error. One of these ways is mean absolute error. \n",
    "\n",
    "In words mean absolute error is: <ins>the average absolute value of difference between actual value and predicted value. \n",
    "    \n",
    "Here it is written in summation notation:\n",
    "$$MAE = \\frac{1}{n} \\sum_{i}^{n} |y_{actual} - y_{predicted}| $$\n",
    "\n",
    "Implement the function `mae` below which receives a slope for each variable (i.e., `lstat`, and, `rm`) and returns mean absolute error. Make sure you are using standard units for the two variables."
   ]
  },
  {
   "cell_type": "code",
   "execution_count": null,
   "id": "0307a427-6bd0-4a10-9d17-30f0a2004c76",
   "metadata": {},
   "outputs": [],
   "source": [
    "def mae(slope_1, slope_2, intercept):\n",
    "    ...\n",
    "    return err"
   ]
  },
  {
   "cell_type": "markdown",
   "id": "e5938f91-3a18-47ee-8c54-6c6f209aba4b",
   "metadata": {},
   "source": [
    "**Question 3.11: 10 Points** Use the minimize function to find the slopes and intercept that minimize the the MAE. Find the error of this fit and store it in `fit_error`"
   ]
  },
  {
   "cell_type": "code",
   "execution_count": null,
   "id": "4ef00114-bcf5-4767-ba57-4117181e1431",
   "metadata": {},
   "outputs": [],
   "source": [
    "...\n",
    "\n",
    "fit_error = ...\n",
    "fit_error"
   ]
  }
 ],
 "metadata": {
  "kernelspec": {
   "display_name": "Python 3 (ipykernel)",
   "language": "python",
   "name": "python3"
  },
  "language_info": {
   "codemirror_mode": {
    "name": "ipython",
    "version": 3
   },
   "file_extension": ".py",
   "mimetype": "text/x-python",
   "name": "python",
   "nbconvert_exporter": "python",
   "pygments_lexer": "ipython3",
   "version": "3.8.13"
  }
 },
 "nbformat": 4,
 "nbformat_minor": 5
}
