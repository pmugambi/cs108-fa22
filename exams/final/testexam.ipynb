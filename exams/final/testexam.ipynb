{
 "cells": [
  {
   "cell_type": "code",
   "execution_count": 2,
   "id": "e7e5e856-cc5c-4983-b60d-794bdda0917f",
   "metadata": {},
   "outputs": [
    {
     "name": "stdout",
     "output_type": "stream",
     "text": [
      "Requirement already satisfied: datascience in /Users/puritymugambi/miniconda3/envs/cs108/lib/python3.8/site-packages (0.17.5)\n",
      "Requirement already satisfied: scipy in /Users/puritymugambi/miniconda3/envs/cs108/lib/python3.8/site-packages (from datascience) (1.9.1)\n",
      "Requirement already satisfied: pandas in /Users/puritymugambi/miniconda3/envs/cs108/lib/python3.8/site-packages (from datascience) (1.4.4)\n",
      "Requirement already satisfied: branca in /Users/puritymugambi/miniconda3/envs/cs108/lib/python3.8/site-packages (from datascience) (0.5.0)\n",
      "Requirement already satisfied: folium>=0.9.1 in /Users/puritymugambi/miniconda3/envs/cs108/lib/python3.8/site-packages (from datascience) (0.12.1.post1)\n",
      "Requirement already satisfied: setuptools in /Users/puritymugambi/miniconda3/envs/cs108/lib/python3.8/site-packages (from datascience) (63.4.1)\n",
      "Requirement already satisfied: ipython in /Users/puritymugambi/miniconda3/envs/cs108/lib/python3.8/site-packages (from datascience) (8.4.0)\n",
      "Requirement already satisfied: numpy in /Users/puritymugambi/miniconda3/envs/cs108/lib/python3.8/site-packages (from datascience) (1.23.2)\n",
      "Requirement already satisfied: matplotlib>=3.0.0 in /Users/puritymugambi/miniconda3/envs/cs108/lib/python3.8/site-packages (from datascience) (3.5.3)\n",
      "Requirement already satisfied: plotly in /Users/puritymugambi/miniconda3/envs/cs108/lib/python3.8/site-packages (from datascience) (5.10.0)\n",
      "Requirement already satisfied: requests in /Users/puritymugambi/miniconda3/envs/cs108/lib/python3.8/site-packages (from folium>=0.9.1->datascience) (2.22.0)\n",
      "Requirement already satisfied: jinja2>=2.9 in /Users/puritymugambi/miniconda3/envs/cs108/lib/python3.8/site-packages (from folium>=0.9.1->datascience) (3.1.2)\n",
      "Requirement already satisfied: python-dateutil>=2.7 in /Users/puritymugambi/miniconda3/envs/cs108/lib/python3.8/site-packages (from matplotlib>=3.0.0->datascience) (2.8.2)\n",
      "Requirement already satisfied: pyparsing>=2.2.1 in /Users/puritymugambi/miniconda3/envs/cs108/lib/python3.8/site-packages (from matplotlib>=3.0.0->datascience) (3.0.9)\n",
      "Requirement already satisfied: cycler>=0.10 in /Users/puritymugambi/miniconda3/envs/cs108/lib/python3.8/site-packages (from matplotlib>=3.0.0->datascience) (0.11.0)\n",
      "Requirement already satisfied: packaging>=20.0 in /Users/puritymugambi/miniconda3/envs/cs108/lib/python3.8/site-packages (from matplotlib>=3.0.0->datascience) (21.3)\n",
      "Requirement already satisfied: kiwisolver>=1.0.1 in /Users/puritymugambi/miniconda3/envs/cs108/lib/python3.8/site-packages (from matplotlib>=3.0.0->datascience) (1.4.4)\n",
      "Requirement already satisfied: pillow>=6.2.0 in /Users/puritymugambi/miniconda3/envs/cs108/lib/python3.8/site-packages (from matplotlib>=3.0.0->datascience) (9.2.0)\n",
      "Requirement already satisfied: fonttools>=4.22.0 in /Users/puritymugambi/miniconda3/envs/cs108/lib/python3.8/site-packages (from matplotlib>=3.0.0->datascience) (4.37.1)\n",
      "Requirement already satisfied: decorator in /Users/puritymugambi/miniconda3/envs/cs108/lib/python3.8/site-packages (from ipython->datascience) (5.1.1)\n",
      "Requirement already satisfied: stack-data in /Users/puritymugambi/miniconda3/envs/cs108/lib/python3.8/site-packages (from ipython->datascience) (0.5.0)\n",
      "Requirement already satisfied: pexpect>4.3 in /Users/puritymugambi/miniconda3/envs/cs108/lib/python3.8/site-packages (from ipython->datascience) (4.8.0)\n",
      "Requirement already satisfied: backcall in /Users/puritymugambi/miniconda3/envs/cs108/lib/python3.8/site-packages (from ipython->datascience) (0.2.0)\n",
      "Requirement already satisfied: pickleshare in /Users/puritymugambi/miniconda3/envs/cs108/lib/python3.8/site-packages (from ipython->datascience) (0.7.5)\n",
      "Requirement already satisfied: prompt-toolkit!=3.0.0,!=3.0.1,<3.1.0,>=2.0.0 in /Users/puritymugambi/miniconda3/envs/cs108/lib/python3.8/site-packages (from ipython->datascience) (3.0.31)\n",
      "Requirement already satisfied: traitlets>=5 in /Users/puritymugambi/miniconda3/envs/cs108/lib/python3.8/site-packages (from ipython->datascience) (5.3.0)\n",
      "Requirement already satisfied: pygments>=2.4.0 in /Users/puritymugambi/miniconda3/envs/cs108/lib/python3.8/site-packages (from ipython->datascience) (2.13.0)\n",
      "Requirement already satisfied: appnope in /Users/puritymugambi/miniconda3/envs/cs108/lib/python3.8/site-packages (from ipython->datascience) (0.1.3)\n",
      "Requirement already satisfied: jedi>=0.16 in /Users/puritymugambi/miniconda3/envs/cs108/lib/python3.8/site-packages (from ipython->datascience) (0.18.1)\n",
      "Requirement already satisfied: matplotlib-inline in /Users/puritymugambi/miniconda3/envs/cs108/lib/python3.8/site-packages (from ipython->datascience) (0.1.6)\n",
      "Requirement already satisfied: pytz>=2020.1 in /Users/puritymugambi/miniconda3/envs/cs108/lib/python3.8/site-packages (from pandas->datascience) (2022.2.1)\n",
      "Requirement already satisfied: tenacity>=6.2.0 in /Users/puritymugambi/miniconda3/envs/cs108/lib/python3.8/site-packages (from plotly->datascience) (8.0.1)\n",
      "Requirement already satisfied: parso<0.9.0,>=0.8.0 in /Users/puritymugambi/miniconda3/envs/cs108/lib/python3.8/site-packages (from jedi>=0.16->ipython->datascience) (0.8.3)\n",
      "Requirement already satisfied: MarkupSafe>=2.0 in /Users/puritymugambi/miniconda3/envs/cs108/lib/python3.8/site-packages (from jinja2>=2.9->folium>=0.9.1->datascience) (2.1.1)\n",
      "Requirement already satisfied: ptyprocess>=0.5 in /Users/puritymugambi/miniconda3/envs/cs108/lib/python3.8/site-packages (from pexpect>4.3->ipython->datascience) (0.7.0)\n",
      "Requirement already satisfied: wcwidth in /Users/puritymugambi/miniconda3/envs/cs108/lib/python3.8/site-packages (from prompt-toolkit!=3.0.0,!=3.0.1,<3.1.0,>=2.0.0->ipython->datascience) (0.2.5)\n",
      "Requirement already satisfied: six>=1.5 in /Users/puritymugambi/miniconda3/envs/cs108/lib/python3.8/site-packages (from python-dateutil>=2.7->matplotlib>=3.0.0->datascience) (1.16.0)\n",
      "Requirement already satisfied: urllib3!=1.25.0,!=1.25.1,<1.26,>=1.21.1 in /Users/puritymugambi/miniconda3/envs/cs108/lib/python3.8/site-packages (from requests->folium>=0.9.1->datascience) (1.25.7)\n",
      "Requirement already satisfied: certifi>=2017.4.17 in /Users/puritymugambi/miniconda3/envs/cs108/lib/python3.8/site-packages (from requests->folium>=0.9.1->datascience) (2019.11.28)\n",
      "Requirement already satisfied: chardet<3.1.0,>=3.0.2 in /Users/puritymugambi/miniconda3/envs/cs108/lib/python3.8/site-packages (from requests->folium>=0.9.1->datascience) (3.0.4)\n",
      "Requirement already satisfied: idna<2.9,>=2.5 in /Users/puritymugambi/miniconda3/envs/cs108/lib/python3.8/site-packages (from requests->folium>=0.9.1->datascience) (2.8)\n",
      "Requirement already satisfied: asttokens in /Users/puritymugambi/miniconda3/envs/cs108/lib/python3.8/site-packages (from stack-data->ipython->datascience) (2.0.8)\n",
      "Requirement already satisfied: pure-eval in /Users/puritymugambi/miniconda3/envs/cs108/lib/python3.8/site-packages (from stack-data->ipython->datascience) (0.2.2)\n",
      "Requirement already satisfied: executing in /Users/puritymugambi/miniconda3/envs/cs108/lib/python3.8/site-packages (from stack-data->ipython->datascience) (1.0.0)\n"
     ]
    }
   ],
   "source": [
    "!pip install datascience"
   ]
  },
  {
   "cell_type": "code",
   "execution_count": 3,
   "id": "d54ab96f-2130-4891-96ae-c4bc1419518f",
   "metadata": {
    "scrolled": true,
    "tags": []
   },
   "outputs": [],
   "source": [
    "import numpy as np\n",
    "from datascience import *\n",
    "\n",
    "# These lines set up graphing capabilities.\n",
    "import matplotlib\n",
    "%matplotlib inline\n",
    "import matplotlib.pyplot as plt\n",
    "plt.style.use('fivethirtyeight')\n",
    "import warnings\n",
    "warnings.simplefilter('ignore', FutureWarning)"
   ]
  },
  {
   "cell_type": "markdown",
   "id": "f2d5eea5-c894-4ab4-99e3-42dd61b137d7",
   "metadata": {},
   "source": [
    "## Instructions\n",
    "\n",
    "This exam has a **4 hour time limit** with no extra uploading time. Upon completion you must have submitted a .ipynb notebook to the moodle quiz.  \n",
    "\n",
    "  \n",
    "\n",
    "You may consult any course material and documentation. **All the work in the notebook must be entirely your own** under no circumstances may you communicate with any classmates.  \n",
    "\n",
    "\n",
    "\n",
    "This exam is scored out of 180 and scaled to account for difficulty. The course instructors will only be able to answer questions regarding technical issues once you begin your exam. **Leave comments describing your reasoning if you think your work on a question may be eligible for partial credit**"
   ]
  },
  {
   "cell_type": "markdown",
   "id": "b0703d07-0f30-4b83-9ba4-b8659d09f3ab",
   "metadata": {},
   "source": [
    "## Enter your name here: "
   ]
  },
  {
   "cell_type": "code",
   "execution_count": 6,
   "id": "906e07c0",
   "metadata": {},
   "outputs": [
    {
     "data": {
      "text/html": [
       "<table border=\"1\" class=\"dataframe\">\n",
       "    <thead>\n",
       "        <tr>\n",
       "            <th>X</th> <th>Y</th>\n",
       "        </tr>\n",
       "    </thead>\n",
       "    <tbody>\n",
       "        <tr>\n",
       "            <td>0   </td> <td>0   </td>\n",
       "        </tr>\n",
       "        <tr>\n",
       "            <td>1   </td> <td>3   </td>\n",
       "        </tr>\n",
       "        <tr>\n",
       "            <td>2   </td> <td>6   </td>\n",
       "        </tr>\n",
       "        <tr>\n",
       "            <td>3   </td> <td>9   </td>\n",
       "        </tr>\n",
       "        <tr>\n",
       "            <td>4   </td> <td>12  </td>\n",
       "        </tr>\n",
       "    </tbody>\n",
       "</table>\n",
       "<p>... (2 rows omitted)</p>"
      ],
      "text/plain": [
       "<IPython.core.display.HTML object>"
      ]
     },
     "metadata": {},
     "output_type": "display_data"
    }
   ],
   "source": [
    "# Run this cell if you like\n",
    "test_data = Table().read_table('testdata.csv')\n",
    "test_data.show(5)"
   ]
  },
  {
   "cell_type": "code",
   "execution_count": 7,
   "id": "d783e43c",
   "metadata": {},
   "outputs": [
    {
     "data": {
      "text/plain": [
       "<matplotlib.collections.PathCollection at 0x7fc63defd610>"
      ]
     },
     "execution_count": 7,
     "metadata": {},
     "output_type": "execute_result"
    },
    {
     "data": {
      "image/png": "[encoded data removed]",
      "text/plain": [
       "<Figure size 640x480 with 1 Axes>"
      ]
     },
     "metadata": {},
     "output_type": "display_data"
    }
   ],
   "source": [
    "# Run this cell, if you like\n",
    "x = np.arange(0, 5)\n",
    "y = np.arange(0, 5)**2\n",
    "\n",
    "plt.scatter(x, y)"
   ]
  },
  {
   "cell_type": "markdown",
   "id": "9ab4ecc7",
   "metadata": {},
   "source": [
    "**This test exam is done. Go ahead and save and checkpoint, and download it as a notebook. Use the File section on the top left corner**"
   ]
  },
  {
   "cell_type": "code",
   "execution_count": null,
   "id": "34bc8968",
   "metadata": {},
   "outputs": [],
   "source": []
  }
 ],
 "metadata": {
  "kernelspec": {
   "display_name": "Python 3 (ipykernel)",
   "language": "python",
   "name": "python3"
  },
  "language_info": {
   "codemirror_mode": {
    "name": "ipython",
    "version": 3
   },
   "file_extension": ".py",
   "mimetype": "text/x-python",
   "name": "python",
   "nbconvert_exporter": "python",
   "pygments_lexer": "ipython3",
   "version": "3.8.13"
  }
 },
 "nbformat": 4,
 "nbformat_minor": 5
}
