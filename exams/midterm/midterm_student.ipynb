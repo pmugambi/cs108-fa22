{
 "cells": [
  {
   "cell_type": "code",
   "execution_count": null,
   "id": "c1b40666-93df-44da-83f3-80f9d31f8d9c",
   "metadata": {},
   "outputs": [],
   "source": [
    "!pip install datascience"
   ]
  },
  {
   "cell_type": "code",
   "execution_count": null,
   "id": "a7654352-276b-47a1-99ec-c24d5d56ae7e",
   "metadata": {
    "scrolled": true,
    "tags": []
   },
   "outputs": [],
   "source": [
    "import numpy as np\n",
    "from datascience import *\n",
    "\n",
    "# These lines set up graphing capabilities.\n",
    "import matplotlib\n",
    "%matplotlib inline\n",
    "import matplotlib.pyplot as plt\n",
    "plt.style.use('fivethirtyeight')\n",
    "import warnings\n",
    "warnings.simplefilter('ignore', FutureWarning)"
   ]
  },
  {
   "cell_type": "markdown",
   "id": "e0a0b11a-29cb-4565-ab61-1b4e7cfc338e",
   "metadata": {},
   "source": [
    "## Instructions\n",
    "This exam has a 2 hour time limit with no extra uploading time. Upon completion you must have submitted a .ipynb notebook to the Gradescope.  \n",
    "\n",
    "  \n",
    "\n",
    "You may consult any course material and documentation. **All the work in the notebook must be entirely your own** under no circumstances may you communicate with any classmates.  \n",
    "\n",
    "\n",
    "\n",
    "This exam is scored out of 170 and scaled to account for difficulty. **Leave comments describing your reasoning if you think your work on a question may be eligible for partial credit**"
   ]
  },
  {
   "cell_type": "markdown",
   "id": "dc947e45-98a0-40b6-b9b7-e2ba372749d3",
   "metadata": {
    "tags": []
   },
   "source": [
    "## 1. Answer the following questions"
   ]
  },
  {
   "cell_type": "markdown",
   "id": "758871b0-3927-4b57-9670-765304cc1bc9",
   "metadata": {},
   "source": [
    "**Question 1.1: 10 Points** Write a Python expression in this next cell that's equal to $2 \\times 3 \\times (\\frac{10}{11}) - 50 \\times \\frac{1}{3}$"
   ]
  },
  {
   "cell_type": "code",
   "execution_count": null,
   "id": "a2d0f46c-bf1f-45de-addb-a9bd0d2c8102",
   "metadata": {
    "tags": []
   },
   "outputs": [],
   "source": [
    "equation = ...\n",
    "equation"
   ]
  },
  {
   "cell_type": "markdown",
   "id": "b9e11933-60eb-4766-926f-029cb7222894",
   "metadata": {},
   "source": [
    "**Question 1.2: 10 Points** Make an array with 3 different strings. (DO NOT USE `[]`)"
   ]
  },
  {
   "cell_type": "code",
   "execution_count": null,
   "id": "0da5b4d6-d728-40b8-86a7-d8c4777e0545",
   "metadata": {
    "tags": []
   },
   "outputs": [],
   "source": [
    "string_array = ...\n",
    "string_array"
   ]
  },
  {
   "cell_type": "markdown",
   "id": "85d012fc-77b5-47a8-bcaa-2cc78668baff",
   "metadata": {},
   "source": [
    "**Question 1.3: 10 Points** Write a comment in the cell below. (Don't over think this the code shouldn't do anything)"
   ]
  },
  {
   "cell_type": "code",
   "execution_count": null,
   "id": "50eaa837-514a-4189-8c56-bb84d2b2b0d8",
   "metadata": {
    "tags": []
   },
   "outputs": [],
   "source": [
    "..."
   ]
  },
  {
   "cell_type": "markdown",
   "id": "a2f788bf-2e89-4c16-b52b-1c1effbb7835",
   "metadata": {},
   "source": [
    "**Question 1.4: 10 Points** Find the maximum of the given array. *If you just set arr_max to an integer instead of using a function call you will not get credit*"
   ]
  },
  {
   "cell_type": "raw",
   "id": "ab06eefb-49a7-47fa-bf75-9ba1c244fc0d",
   "metadata": {
    "tags": []
   },
   "source": [
    "# BEGIN QUESTION\n",
    "name: q1.4\n",
    "manual: true"
   ]
  },
  {
   "cell_type": "code",
   "execution_count": null,
   "id": "622d0015-88f1-4b4e-8ac5-f17bf1714a2d",
   "metadata": {
    "tags": []
   },
   "outputs": [],
   "source": [
    "int_arr = make_array(5,6,7,2,3,5,6,9)\n",
    "arr_max = ...\n",
    "arr_max"
   ]
  },
  {
   "cell_type": "markdown",
   "id": "d8b3b954-e5c0-4666-88e2-5e29aa798a99",
   "metadata": {},
   "source": [
    "**Question 1.5: 10 Points** The cell below creates an array of some numbers.  By indexing `some_numbers`, set `fourth_element` to the fourth element of `some_numbers`. *If you just set fourth_element to an integer instead of using array indexing you will not get credit*"
   ]
  },
  {
   "cell_type": "code",
   "execution_count": null,
   "id": "871e6a1d-76d4-44b8-8fec-84637e05bd3b",
   "metadata": {
    "tags": []
   },
   "outputs": [],
   "source": [
    "some_numbers = make_array(1,2,3,4,5)\n",
    "fourth_element = ...\n",
    "fourth_element"
   ]
  },
  {
   "cell_type": "markdown",
   "id": "00c126d8-9e7f-452c-b11e-2f1256fd201d",
   "metadata": {
    "tags": []
   },
   "source": [
    "## 2. Complete the following functions:"
   ]
  },
  {
   "cell_type": "markdown",
   "id": "276df40b-78fc-4ab7-a85a-6c452a1402f5",
   "metadata": {},
   "source": [
    "**Question 2.1: 10 Points** Complete the function `print_all` that prints every element of an array"
   ]
  },
  {
   "cell_type": "code",
   "execution_count": null,
   "id": "238351fd-143c-4706-b59b-75e5127f3644",
   "metadata": {
    "tags": []
   },
   "outputs": [],
   "source": [
    "def print_all(array):\n",
    "    \"\"\"\n",
    "    Given an array, print each value in that array on a separate line\n",
    "    This function should not return anything\n",
    "    \"\"\"\n",
    "    ...\n",
    "    \n",
    "count_up = np.arange(5)\n",
    "print_all(count_up)"
   ]
  },
  {
   "cell_type": "markdown",
   "id": "e977fd3f-35ed-4076-89ec-a95ccc7d52d3",
   "metadata": {},
   "source": [
    "**Question 2.2: 10 Points** Complete the function `hypotenuse` that computes the hypotenuse of a triangle given two sides `a` and `b`. For your reference: $h = \\sqrt{a^2+b^2} = (a^2+b^2)^{1/2}$"
   ]
  },
  {
   "cell_type": "code",
   "execution_count": null,
   "id": "477d48c0-0a99-478c-b6e2-74561146cff6",
   "metadata": {
    "tags": []
   },
   "outputs": [],
   "source": [
    "def hypotenuse(a, b):\n",
    "    \"\"\"\n",
    "    Given two float inputs that represent sides of a right triangle\n",
    "    Return the size of the hypotenuse\n",
    "    \"\"\"\n",
    "    return ...\n",
    "#Expected result: 5.0\n",
    "print(hypotenuse(3,4))"
   ]
  },
  {
   "cell_type": "markdown",
   "id": "ebe10e45-28f3-4f6b-93c5-4d2f82ebe1ca",
   "metadata": {},
   "source": [
    "**Question 2.3: 10 Points** Complete the function `most_pages` that given a table where the first column is `\"titles\"` and the second column is `\"num_pages\"` returns the title of the book with the most pages"
   ]
  },
  {
   "cell_type": "code",
   "execution_count": null,
   "id": "46b485b8-5292-4683-9a29-0b5c692eca0a",
   "metadata": {
    "tags": []
   },
   "outputs": [],
   "source": [
    "def most_pages(table):\n",
    "    \"\"\"\n",
    "    Given a table where the first column is \"titles\" and the second column is \"num_pages\"\n",
    "    Return the title of the longest book\n",
    "    \"\"\"\n",
    "    return ...\n",
    "\n",
    "test = Table().with_columns([\n",
    "    \"titles\", [\"book1\", \"book2\", \"book3\"],\n",
    "    \"num_pages\", [100,2000,400]]\n",
    ")\n",
    "#Expected result: book2\n",
    "print(most_pages(test))"
   ]
  },
  {
   "cell_type": "markdown",
   "id": "c1b1fd13-d708-4837-9288-ed7a130e2e01",
   "metadata": {},
   "source": [
    "**Question 2.4: 10 Points** Complete the function `first_names` that given an array of peoples full names returns their first name. *Hint: use `.split()`*"
   ]
  },
  {
   "cell_type": "code",
   "execution_count": null,
   "id": "2afde556-aa6d-4fd0-975d-06efd306e4f4",
   "metadata": {
    "tags": []
   },
   "outputs": [],
   "source": [
    "def first_names(full_names):\n",
    "    \"\"\"\n",
    "    Given an array of people's full names ex. \"John Jacob Smith\"\n",
    "    Return an array of their first names\n",
    "    \"\"\"\n",
    "    \n",
    "    \n",
    "    \n",
    "    return ...\n",
    "\n",
    "names = make_array(\"John Jacob Smith\", \"Jane Doe\")\n",
    "#This should output ['John' 'Jane']\n",
    "print(first_names(names))"
   ]
  },
  {
   "cell_type": "markdown",
   "id": "52a20ad5-3c51-4dde-9f90-d60792237a87",
   "metadata": {
    "tags": []
   },
   "source": [
    "## 3. Cereals Dataset\n",
    "\n",
    "**Here is some information on the dataset for your reference. You will not need to use most of this**\\\n",
    "Name: Name of cereal\\\n",
    "mfr: Manufacturer of cereal\\\n",
    "    A = American Home Food Products\\\n",
    "    G = General Mills\\\n",
    "    K = Kelloggs\\\n",
    "    N = Nabisco\\\n",
    "    P = Post\\\n",
    "    Q = Quaker Oats\\\n",
    "    R = Ralston Purina\\\n",
    "type: cold, hot\\\n",
    "calories: calories per serving\\\n",
    "protein: grams of protein per serving\\\n",
    "fat: grams of fat per serving\\\n",
    "sodium: milligrams of sodium per serving\\\n",
    "fiber: grams of dietary fiber per serving\\\n",
    "carbo: grams of complex carbohydrates per serving\\\n",
    "sugars: grams of sugars per serving\\\n",
    "potass: milligrams of potassium per serving\\\n",
    "vitamins: vitamins and minerals - 0, 25, or 100, indicating the typical percentage of FDA recommended\\\n",
    "shelf: display shelf (1, 2, or 3, counting from the floor)\\\n",
    "weight: weight in ounces of one serving\\\n",
    "cups: number of cups in one serving\\\n",
    "rating: a rating of the cereals (Possibly from Consumer Reports?)"
   ]
  },
  {
   "cell_type": "code",
   "execution_count": null,
   "id": "8ccdb00d-88ad-4324-99cb-9544fb190456",
   "metadata": {},
   "outputs": [],
   "source": [
    "cereals = Table().read_table('cereal.csv')\n",
    "cereals.show(5)"
   ]
  },
  {
   "cell_type": "markdown",
   "id": "355a55a1-a828-4c80-aa70-f0a7a92a67a9",
   "metadata": {},
   "source": [
    "**Question 3.1: 10 Points** Find the average rating of all cereals. Store it in `avg_rating`"
   ]
  },
  {
   "cell_type": "code",
   "execution_count": null,
   "id": "fd0d6b15-bb13-4260-8121-bb27e628e7ca",
   "metadata": {
    "tags": []
   },
   "outputs": [],
   "source": [
    "avg_rating = ...\n",
    "avg_rating"
   ]
  },
  {
   "cell_type": "markdown",
   "id": "2db426f5-95ac-43e4-9bba-5c5d43ba2a33",
   "metadata": {},
   "source": [
    "**Question 3.2: 10 Points** Create an array of the calories per cup for each cereal. Store it as `calories_per_cup`"
   ]
  },
  {
   "cell_type": "code",
   "execution_count": null,
   "id": "9bf3fea7-3a17-412f-9360-9d4b4c840564",
   "metadata": {
    "tags": []
   },
   "outputs": [],
   "source": [
    "calories_per_cup = ...\n",
    "calories_per_cup"
   ]
  },
  {
   "cell_type": "markdown",
   "id": "130ad2ce-1d2b-4d49-9b05-0d5589b453d0",
   "metadata": {},
   "source": [
    "**Question 3.3: 10 Points** Add the calories per cup column to the cereals table and name it `cereals_with_calories_per_cup`"
   ]
  },
  {
   "cell_type": "code",
   "execution_count": null,
   "id": "f36abed3-aa99-4425-8ba5-8611786ef7ae",
   "metadata": {
    "tags": []
   },
   "outputs": [],
   "source": [
    "cereals_with_calories_per_cup = ...\n",
    "cereals_with_calories_per_cup"
   ]
  },
  {
   "cell_type": "markdown",
   "id": "c3b9ddd9-5012-43cc-aac4-b6454c91384f",
   "metadata": {},
   "source": [
    "**Question 3.4: 10 Points** Find the cereal with the highest rating. Save it's name in `highest_rated_cereal`"
   ]
  },
  {
   "cell_type": "code",
   "execution_count": null,
   "id": "86224039-5cde-4c05-8fe3-ab2d13b7774e",
   "metadata": {
    "tags": []
   },
   "outputs": [],
   "source": [
    "highest_rated_cereal = ...\n",
    "highest_rated_cereal"
   ]
  },
  {
   "cell_type": "markdown",
   "id": "ba30cde6-96e7-485d-aff6-64ab2087aa7a",
   "metadata": {},
   "source": [
    "**Question 3.5: 10 Points** Make a histogram of the sodium per serving of each kellog cereal. **Important:** Leave the sodium column as sodium per serving. Do not modify the values"
   ]
  },
  {
   "cell_type": "code",
   "execution_count": null,
   "id": "925a3210-210a-4657-91bf-804ebb7f1da8",
   "metadata": {
    "tags": []
   },
   "outputs": [],
   "source": []
  },
  {
   "cell_type": "markdown",
   "id": "3e8e432e-da24-4147-8709-7165fe5deb11",
   "metadata": {},
   "source": [
    "**Question 3.6: 10 Points** Find the average rating per manufacturer and save it as a table. *Hint:* The final table should have only two columns"
   ]
  },
  {
   "cell_type": "code",
   "execution_count": null,
   "id": "f677eb55-2b9e-4200-abf0-d29a8c4d05c1",
   "metadata": {
    "tags": []
   },
   "outputs": [],
   "source": [
    "def average_rating(array):\n",
    "    return ...\n",
    "\n",
    "average_rating_by_mfr = ...\n",
    "average_rating_by_mfr"
   ]
  },
  {
   "cell_type": "markdown",
   "id": "fd6e2d21-426d-411b-889f-ab559beb5b80",
   "metadata": {},
   "source": [
    "## Question 4: Rock Paper Scissors\n",
    "\n",
    "For this question we will write code to simulate a game of rock, paper, scissors. Assuming both players randomly select \"Rock\", \"Paper\", or \"Scissors\" and that **player_1 wins every tied round**. \n",
    "\n",
    "If you are not familiar with the game, there are three rules for each round:\n",
    "\n",
    "1. Rock beats scissors.\n",
    "\n",
    "2. Scissors beats paper.\n",
    "\n",
    "3. Paper beats rock.\n",
    "\n",
    "A game of rock paper scissiors is composed of playing any odd number of rounds. At the end of this the player with the most wins is the victor.\n"
   ]
  },
  {
   "cell_type": "markdown",
   "id": "44f6db5c",
   "metadata": {},
   "source": [
    "**Question 4.1: 10 Points** Numerically describe the probability of player_1 winning a round of rock paper scissors. **Remember they win every tie** (Show your work and/or explain how you obtained the probability)"
   ]
  },
  {
   "cell_type": "code",
   "execution_count": null,
   "id": "bc0bd169",
   "metadata": {},
   "outputs": [],
   "source": []
  },
  {
   "cell_type": "markdown",
   "id": "1f3b1286-7493-44bc-8dc0-5bcad8dc3882",
   "metadata": {},
   "source": [
    "**Question 4.2: 10 Points** Write a function to simulate a game of rock paper scissors shoot for an unspecified number of rounds. You should return the number of rounds won by player_1. **Remember player_1 wins every tie** "
   ]
  },
  {
   "cell_type": "code",
   "execution_count": null,
   "id": "93e964b3-d4f4-4b8b-b131-8933fd3585b3",
   "metadata": {},
   "outputs": [],
   "source": [
    "def play_rps(rounds):\n",
    "    #Defining their choices\n",
    "    choices = make_array(\"Rock\", \"Paper\", \"Scissors\")\n",
    "    \n",
    "    #Creating a varriable to track everytime player_1 has won\n",
    "    player_1_rounds_won = 0\n",
    "    \n",
    "    for i in range(rounds):\n",
    "        \n",
    "        #Simulate their plays. Using a function to choose an outcome from the choices array\n",
    "        p1_play = ...\n",
    "        p2_play = ...\n",
    "    \n",
    "        # Decide who wins Hint: you can nest one if statement inside another. Do this 3 times\n",
    "\n",
    "        \n",
    "        \n",
    "        \n",
    "            \n",
    "    return player_1_rounds_won\n",
    "\n",
    "#Should return between 0-3, usually 2 or 3         \n",
    "play_rps(3)"
   ]
  },
  {
   "cell_type": "markdown",
   "id": "b03cf2a7-13e8-4adb-9b79-778cf5a66f15",
   "metadata": {},
   "source": [
    "**Question 4.3: 10 Points** Using your solution to the previous problem. Estimate the probability player1 will win a 3 round game (if they win the majority of the rounds they win the game). To do this simulate 1,000 best out of 3 games and then return the proportion of games p1 won."
   ]
  },
  {
   "cell_type": "code",
   "execution_count": null,
   "id": "237196ac-48e5-425e-abec-1c715b9957b6",
   "metadata": {},
   "outputs": [],
   "source": [
    "p1_games_won = 0\n",
    "\n",
    "\n",
    "\n",
    "\n",
    "\n",
    "prob_p1_win"
   ]
  }
 ],
 "metadata": {
  "kernelspec": {
   "display_name": "Python 3 (ipykernel)",
   "language": "python",
   "name": "python3"
  },
  "language_info": {
   "codemirror_mode": {
    "name": "ipython",
    "version": 3
   },
   "file_extension": ".py",
   "mimetype": "text/x-python",
   "name": "python",
   "nbconvert_exporter": "python",
   "pygments_lexer": "ipython3",
   "version": "3.8.13"
  }
 },
 "nbformat": 4,
 "nbformat_minor": 5
}
