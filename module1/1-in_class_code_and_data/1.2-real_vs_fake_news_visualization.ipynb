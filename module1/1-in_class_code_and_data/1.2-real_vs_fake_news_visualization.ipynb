{
 "cells": [
  {
   "cell_type": "markdown",
   "metadata": {},
   "source": [
    "# Lecture 1: Visualization Example 2"
   ]
  },
  {
   "cell_type": "markdown",
   "metadata": {},
   "source": [
    "## Visualizing Real vs Fake News"
   ]
  },
  {
   "cell_type": "code",
   "execution_count": null,
   "metadata": {},
   "outputs": [],
   "source": [
    "import numpy as np\n",
    "import matplotlib.pyplot as plt\n",
    "from IPython.display import display, HTML\n",
    "from datascience import Table"
   ]
  },
  {
   "cell_type": "code",
   "execution_count": null,
   "metadata": {},
   "outputs": [],
   "source": [
    "# Import `fake_or_real_news.csv` \n",
    "\n",
    "raw_table = Table.read_table(\"https://s3.amazonaws.com/assets.datacamp.com/blog_assets/fake_or_real_news.csv\")\n",
    "raw_table.drop(\"Unnamed: 0\");"
   ]
  },
  {
   "cell_type": "code",
   "execution_count": null,
   "metadata": {
    "scrolled": true
   },
   "outputs": [],
   "source": [
    "print(\"Rows: \",raw_table.num_rows, \"Columns: \", raw_table.num_columns)"
   ]
  },
  {
   "cell_type": "code",
   "execution_count": null,
   "metadata": {},
   "outputs": [],
   "source": [
    "display(raw_table)"
   ]
  },
  {
   "cell_type": "code",
   "execution_count": null,
   "metadata": {
    "scrolled": false
   },
   "outputs": [],
   "source": [
    "print(raw_table[\"text\"][0])"
   ]
  },
  {
   "cell_type": "code",
   "execution_count": null,
   "metadata": {},
   "outputs": [],
   "source": [
    "table=Table().with_columns(\"label\",raw_table[\"label\"],\n",
    "                          \"text_length\",[len(x) for x in raw_table[\"text\"]],\n",
    "                          \"title_length\",[len(x) for x in raw_table[\"title\"]])\n",
    "display(table)"
   ]
  },
  {
   "cell_type": "code",
   "execution_count": null,
   "metadata": {},
   "outputs": [],
   "source": [
    "labels = [\"REAL\",\"FAKE\"]\n",
    "styles = [\"bo\",\"ro\"]\n",
    "terms  = [\"text_length\",\"title_length\"]\n",
    "plt.figure(figsize=[12,4])\n",
    "for i,l in enumerate(labels):\n",
    "    sub_table = table.where(\"label\",l).sample(500)\n",
    "    plt.subplot(1,2,i+1)\n",
    "    plt.plot(sub_table[terms[0]],sub_table[terms[1]],styles[i],alpha=0.1);\n",
    "    plt.xlim(0,40000)\n",
    "    plt.ylim(0,200)\n",
    "    plt.xlabel(terms[0])\n",
    "    plt.ylabel(terms[1])\n",
    "    plt.grid(True)\n",
    "    plt.title(l+\" News\")"
   ]
  },
  {
   "cell_type": "code",
   "execution_count": null,
   "metadata": {},
   "outputs": [],
   "source": [
    "display(table.group(\"label\",np.mean))"
   ]
  },
  {
   "cell_type": "code",
   "execution_count": null,
   "metadata": {},
   "outputs": [],
   "source": [
    "terms=[\"Hillary\",\"Trump\"]\n",
    "table=Table().with_column(\"label\",raw_table[\"label\"])\n",
    "table=table.with_columns({term: np.char.count(raw_table[\"text\"],term) for term in terms})"
   ]
  },
  {
   "cell_type": "code",
   "execution_count": null,
   "metadata": {
    "code_folding": []
   },
   "outputs": [],
   "source": [
    "labels = [\"REAL\",\"FAKE\"]\n",
    "styles = [\"bo\",\"ro\"]\n",
    "plt.figure(figsize=[12,4])\n",
    "for i,l in enumerate(labels):\n",
    "    sub_table = table.where(\"label\",l).sample(500)\n",
    "    plt.subplot(1,2,i+1)\n",
    "    plt.plot(sub_table[terms[0]],sub_table[terms[1]],styles[i],alpha=0.1);\n",
    "    plt.xlim(-0.5,50)\n",
    "    plt.ylim(-0.5,50)\n",
    "    plt.xlabel(terms[0])\n",
    "    plt.ylabel(terms[1])\n",
    "    plt.grid(True)\n",
    "    plt.title(l+\" News\")\n"
   ]
  },
  {
   "cell_type": "code",
   "execution_count": null,
   "metadata": {},
   "outputs": [],
   "source": [
    "display(table.group(\"label\",np.mean))"
   ]
  }
 ],
 "metadata": {
  "kernelspec": {
   "display_name": "Python 3",
   "language": "python",
   "name": "python3"
  },
  "language_info": {
   "codemirror_mode": {
    "name": "ipython",
    "version": 3
   },
   "file_extension": ".py",
   "mimetype": "text/x-python",
   "name": "python",
   "nbconvert_exporter": "python",
   "pygments_lexer": "ipython3",
   "version": "3.7.9"
  }
 },
 "nbformat": 4,
 "nbformat_minor": 2
}
