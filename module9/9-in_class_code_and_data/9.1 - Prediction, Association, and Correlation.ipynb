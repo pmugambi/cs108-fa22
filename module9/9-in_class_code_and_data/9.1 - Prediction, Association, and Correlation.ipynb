{
 "cells": [
  {
   "cell_type": "markdown",
   "metadata": {},
   "source": [
    "# Lecture 20"
   ]
  },
  {
   "cell_type": "markdown",
   "metadata": {},
   "source": [
    "## 9.1: Module 9 Notebook 1 ##"
   ]
  },
  {
   "cell_type": "code",
   "execution_count": null,
   "metadata": {},
   "outputs": [],
   "source": [
    "# HIDDEN\n",
    "from datascience import *\n",
    "import numpy as np\n",
    "%matplotlib inline\n",
    "import matplotlib.pyplot as plots\n",
    "plots.style.use('fivethirtyeight')"
   ]
  },
  {
   "cell_type": "markdown",
   "metadata": {},
   "source": [
    "## Prediction ##"
   ]
  },
  {
   "cell_type": "code",
   "execution_count": null,
   "metadata": {},
   "outputs": [],
   "source": [
    "# As we saw in Section 7.1, Galton studied how physical characteristics \n",
    "#are passed down from one generation to the next.\n",
    "\n",
    "#The primary reason for collecting the data was to be able to \n",
    "#predict the adult height of a child born to parents \n",
    "#similar to those in the dataset.\n",
    "\n",
    "# Let's go through it again"
   ]
  },
  {
   "cell_type": "code",
   "execution_count": null,
   "metadata": {},
   "outputs": [],
   "source": [
    "#First, we load the data\n",
    "galton = Table.read_table('galton.csv')"
   ]
  },
  {
   "cell_type": "code",
   "execution_count": null,
   "metadata": {},
   "outputs": [],
   "source": [
    "# Now, let's read only the heights columns\n",
    "heights = Table().with_columns(\n",
    "    'MidParent', galton.column('midparentHeight'),\n",
    "    'Child', galton.column('childHeight')\n",
    "    )"
   ]
  },
  {
   "cell_type": "code",
   "execution_count": null,
   "metadata": {},
   "outputs": [],
   "source": [
    "# and show the reduced table\n",
    "heights"
   ]
  },
  {
   "cell_type": "code",
   "execution_count": null,
   "metadata": {},
   "outputs": [],
   "source": [
    "# Let's also visualize the heights on a scatter plot\n",
    "heights.scatter('MidParent')"
   ]
  },
  {
   "cell_type": "code",
   "execution_count": null,
   "metadata": {},
   "outputs": [],
   "source": [
    "# Like we did previously, Our approach is\n",
    "# to base the prediction (of the adult child's heaight) \n",
    "# on all the points that correspond to a midparent height \n",
    "# of around the midparent height of the new person\n",
    "\n",
    "# The function predict_child below does this.\n",
    "# It takes a midparent height as its argument \n",
    "# and returns the average height of all the children \n",
    "# who had midparent heights within half an inch of the argument.\n"
   ]
  },
  {
   "cell_type": "code",
   "execution_count": null,
   "metadata": {},
   "outputs": [],
   "source": [
    "def predict_child(h):\n",
    "    \"\"\"Return a prediction of the height of a child \n",
    "    whose parents have a midparent height of h.\n",
    "    \n",
    "    The prediction is the average height of the children \n",
    "    whose midparent height is in the range h plus or minus 0.5 inches.\n",
    "    \"\"\"\n",
    "    \n",
    "    close_points = heights.where('MidParent', are.between(h-0.5, h + 0.5))\n",
    "    return close_points.column('Child').mean()   "
   ]
  },
  {
   "cell_type": "code",
   "execution_count": null,
   "metadata": {},
   "outputs": [],
   "source": [
    "# Let's apply the predict_child() fucntion \n",
    "# to the midparent height column\n",
    "\n",
    "# We will save the results in the Prediction column\n",
    "# in the heights_with_predictions table\n",
    "heights_with_predictions = heights.with_column(\n",
    "    'Prediction', heights.apply(predict_child, 'MidParent')\n",
    "    )"
   ]
  },
  {
   "cell_type": "code",
   "execution_count": null,
   "metadata": {},
   "outputs": [],
   "source": [
    "# Finally, let's visualize the predictions on a scatter plot\n",
    "\n",
    "# Question: what will this scatter plot contain? Which values?\n",
    "# heights_with_predictions\n",
    "heights_with_predictions.scatter('MidParent')\n",
    "# what do you notice about this graph? \n",
    "# in particular, what do you notice about prediction?"
   ]
  },
  {
   "cell_type": "code",
   "execution_count": null,
   "metadata": {},
   "outputs": [],
   "source": [
    "# The prediction at a given midparent height \n",
    "# lies roughly at the center of the vertical strip \n",
    "# of points at the given height. \n",
    "\n",
    "# This method of prediction is called regression"
   ]
  },
  {
   "cell_type": "markdown",
   "metadata": {},
   "source": [
    "## Association ##"
   ]
  },
  {
   "cell_type": "code",
   "execution_count": null,
   "metadata": {},
   "outputs": [],
   "source": [
    "# Let's examine association of two variable through an example."
   ]
  },
  {
   "cell_type": "code",
   "execution_count": null,
   "metadata": {},
   "outputs": [],
   "source": [
    "# First, we load the dataset.\n",
    "\n",
    "# The hybrid dataset contains data on hybrid \n",
    "# passenger cars sold in the United States \n",
    "# from 1997 to 2013\n",
    "hybrid = Table.read_table('hybrid.csv')"
   ]
  },
  {
   "cell_type": "code",
   "execution_count": null,
   "metadata": {},
   "outputs": [],
   "source": [
    "# let's see what's in it\n",
    "hybrid"
   ]
  },
  {
   "cell_type": "code",
   "execution_count": null,
   "metadata": {},
   "outputs": [],
   "source": [
    "# Next, we will examine the \n",
    "# association between price and fuel efficiency\n",
    "\n",
    "# Let's first sort the table, \n",
    "# with the most expensive cars at the top\n",
    "hybrid.sort('msrp', descending=True)"
   ]
  },
  {
   "cell_type": "code",
   "execution_count": null,
   "metadata": {},
   "outputs": [],
   "source": [
    "# Now, let's scatter the price (y-axis), \n",
    "# against fuel use(x-axis)\n",
    "hybrid.scatter('mpg', 'msrp')\n",
    "# what do we notice?\n",
    "# 1) is there a trend? if so, what kind?\n",
    "# 2) what's the shape of the scatter like? (Linear/non-linear?)"
   ]
  },
  {
   "cell_type": "code",
   "execution_count": null,
   "metadata": {},
   "outputs": [],
   "source": [
    "# We find that the association between price and mpg is *negative*\n",
    "# the scatter diagram also shows \n",
    "# a *non-linear* relation between the two variables. \n",
    "# The points appear to be clustered around a curve, not around a straight line.\n",
    "\n",
    "# P.S. the graph above might seem unintuitive until you remember that \n",
    "# sporty cars, have a higher acceleration rate, and therefore a lower mileage, \n",
    "# i.e., they are less fuel efficient"
   ]
  },
  {
   "cell_type": "code",
   "execution_count": null,
   "metadata": {},
   "outputs": [],
   "source": [
    "# Now, let's examine a different association.\n",
    "# The association of price with acceleration.\n",
    "\n",
    "# Let's plot a scatter diagram of price (y-axis) against acceleration(x-axis)\n",
    "hybrid.scatter('acceleration', 'msrp')\n",
    "\n",
    "# Now, what do we see? How is the association different? \n",
    "# 1) by trend\n",
    "# 2) by pattern, i.e., linear or non-linear"
   ]
  },
  {
   "cell_type": "code",
   "execution_count": null,
   "metadata": {},
   "outputs": [],
   "source": [
    "# Let's now drill deeper, and examine the association between \n",
    "# 1) price and mileage and \n",
    "# 2) price and acceleration, \n",
    "# but only for SUVs in the dataset.\n",
    "\n",
    "# First, we isolate the SUVs from the hybrid dataset \n",
    "# and save them in a table called suv\n",
    "suv = hybrid.where('class', 'SUV')\n",
    "suv.num_rows"
   ]
  },
  {
   "cell_type": "code",
   "execution_count": null,
   "metadata": {},
   "outputs": [],
   "source": [
    "# Let's now visualization the association \n",
    "# between price and acceleration\n",
    "suv.scatter('acceleration', 'msrp')\n",
    "\n",
    "# same as above, this association is positive, and linear"
   ]
  },
  {
   "cell_type": "code",
   "execution_count": null,
   "metadata": {},
   "outputs": [],
   "source": [
    "# Let's also visualization the association \n",
    "# between price and fuel efficiency\n",
    "suv.scatter('mpg', 'msrp')\n",
    "\n",
    "# same as above, this association is negative\n",
    "# NEW here: the association is linear"
   ]
  },
  {
   "cell_type": "code",
   "execution_count": null,
   "metadata": {},
   "outputs": [],
   "source": [
    "# Notice that thus far, we have been able to\n",
    "# derive useful information from the general orientation \n",
    "# and shape of a scatter diagram \n",
    "\n",
    "# **even without paying attention to the units**\n",
    "# in which the variables were measured"
   ]
  },
  {
   "cell_type": "code",
   "execution_count": null,
   "metadata": {},
   "outputs": [],
   "source": [
    "# To enable us to compare the degree of linearity \n",
    "# in two scatter diagrams, we can scatter, the values of the variables\n",
    "# in standard units"
   ]
  },
  {
   "cell_type": "code",
   "execution_count": null,
   "metadata": {},
   "outputs": [],
   "source": [
    "# This is the standard units function \n",
    "# we created in a previous class\n",
    "def standard_units(x):\n",
    "    \"Convert any array of numbers to standard units.\"\n",
    "    return (x - np.average(x)) / np.std(x)"
   ]
  },
  {
   "cell_type": "code",
   "execution_count": null,
   "metadata": {},
   "outputs": [],
   "source": [
    "# Now, let's compute the standard units of fuel use and price of SUVs\n",
    "# and add them to a table\n",
    "# and visualize a scatter diagram\n",
    "# of price against fuel use (as done above)\n",
    "Table().with_columns(\n",
    "    'mpg (standard units)',  standard_units(suv.column('mpg')), \n",
    "    'msrp (standard units)', standard_units(suv.column('msrp'))\n",
    ").scatter(0, 1)\n",
    "plots.xlim(-3, 3)\n",
    "plots.ylim(-3, 3);\n",
    "\n",
    "# Notice that the association and trend are the same as above,\n",
    "# However, the y and x axis values now are in standard units, i.e., z"
   ]
  },
  {
   "cell_type": "code",
   "execution_count": null,
   "metadata": {},
   "outputs": [],
   "source": [
    "# We can repeat the same process as above\n",
    "# for the visualization of \n",
    "# price against acceleration for SUVs\n",
    "Table().with_columns(\n",
    "    'acceleration (standard units)', standard_units(suv.column('acceleration')), \n",
    "    'msrp (standard units)',         standard_units(suv.column('msrp'))\n",
    ").scatter(0, 1)\n",
    "plots.xlim(-3, 3)\n",
    "plots.ylim(-3, 3);"
   ]
  },
  {
   "cell_type": "code",
   "execution_count": null,
   "metadata": {},
   "outputs": [],
   "source": [
    "# Since we can now compare these 2 scatter plots, \n",
    "# what do we observe? Anything different between them? \n",
    "# Besides the trend of the association\n",
    "\n",
    "\n",
    "# It is clearer now, while both associations are linear,\n",
    "# the one between price and acceleration is a little more fuzzy\n",
    "# that of price against fuel efficiency "
   ]
  },
  {
   "cell_type": "markdown",
   "metadata": {},
   "source": [
    "## Correlation ##"
   ]
  },
  {
   "cell_type": "code",
   "execution_count": null,
   "metadata": {},
   "outputs": [],
   "source": [
    "# The function below, r_scatter, will **simulate**\n",
    "# a scatter plot with a correlation very close to r.\n",
    "# Because of randomness in the simulation, \n",
    "# the correlation is not expected to be exactly equal to r\n",
    "\n",
    "# it takes a value of r as its argument \n",
    "\n",
    "# for now, ignore how exactly r is computed, we will get to that next.\n",
    "# let's use the function to visualize scatter plots of \n",
    "# different values of r"
   ]
  },
  {
   "cell_type": "code",
   "execution_count": null,
   "metadata": {},
   "outputs": [],
   "source": [
    "def r_scatter(r):\n",
    "    plots.figure(figsize=(5,5))\n",
    "    \"Generate a scatter plot with a correlation approximately r\"\n",
    "    x = np.random.normal(0, 1, 1000)\n",
    "    z = np.random.normal(0, 1, 1000)\n",
    "    y = r*x + (np.sqrt(1-r**2))*z\n",
    "    plots.scatter(x, y, color='darkblue', s=20)\n",
    "    plots.xlim(-4, 4)\n",
    "    plots.ylim(-4, 4)"
   ]
  },
  {
   "cell_type": "code",
   "execution_count": null,
   "metadata": {},
   "outputs": [],
   "source": [
    "r_scatter(-1)\n",
    "# r = -1 the scatter plot is *perfectly linear* and *slopes downward*"
   ]
  },
  {
   "cell_type": "code",
   "execution_count": null,
   "metadata": {},
   "outputs": [],
   "source": [
    "r_scatter(1)\n",
    "# r = 1 the scatter plot is *perfectly linear* and *slopes upward*"
   ]
  },
  {
   "cell_type": "code",
   "execution_count": null,
   "metadata": {},
   "outputs": [],
   "source": [
    "r_scatter(0.9)"
   ]
  },
  {
   "cell_type": "code",
   "execution_count": null,
   "metadata": {},
   "outputs": [],
   "source": [
    "r_scatter(0.8)"
   ]
  },
  {
   "cell_type": "code",
   "execution_count": null,
   "metadata": {},
   "outputs": [],
   "source": [
    "r_scatter(0.7)"
   ]
  },
  {
   "cell_type": "code",
   "execution_count": null,
   "metadata": {},
   "outputs": [],
   "source": [
    "r_scatter(0.5)"
   ]
  },
  {
   "cell_type": "code",
   "execution_count": null,
   "metadata": {},
   "outputs": [],
   "source": [
    "r_scatter(-0.5)"
   ]
  },
  {
   "cell_type": "code",
   "execution_count": null,
   "metadata": {},
   "outputs": [],
   "source": [
    "r_scatter(0)\n",
    "\n",
    "# r = 0, the scatter plot is a formless cloud \n",
    "# around the horizontal axis.\n",
    "# The variables are *uncorrelated*, \n",
    "# i.e., they have NO LINEAR association"
   ]
  },
  {
   "cell_type": "markdown",
   "metadata": {},
   "source": [
    "### Calculating $r$ ##"
   ]
  },
  {
   "cell_type": "code",
   "execution_count": null,
   "metadata": {},
   "outputs": [],
   "source": [
    "# Let's write some code, to compute r"
   ]
  },
  {
   "cell_type": "code",
   "execution_count": null,
   "metadata": {},
   "outputs": [],
   "source": [
    "# First, let's create a table of data to play with\n",
    "x = np.arange(1, 7, 1) # what are the values of x?\n",
    "y = make_array(2, 3, 1, 5, 2, 7)\n",
    "t = Table().with_columns(\n",
    "        'x', x,\n",
    "        'y', y\n",
    "    )\n",
    "t"
   ]
  },
  {
   "cell_type": "code",
   "execution_count": null,
   "metadata": {},
   "outputs": [],
   "source": [
    "# Let's scatter our data, y against x\n",
    "\n",
    "# Remember: visualize, then, quantify\n",
    "t.scatter('x', 'y', s=30, color='red')"
   ]
  },
  {
   "cell_type": "code",
   "execution_count": null,
   "metadata": {},
   "outputs": [],
   "source": [
    "# Now, let's convert values of x, and y, into standard units.\n",
    "\n",
    "# Remember, r is computed on the standard units o\n",
    "# f the values of the variables\n",
    "t = t.with_columns(\n",
    "        'x (standard units)', standard_units(x),\n",
    "        'y (standard units)', standard_units(y)\n",
    "    )\n",
    "t"
   ]
  },
  {
   "cell_type": "code",
   "execution_count": null,
   "metadata": {},
   "outputs": [],
   "source": [
    "# Once, we convert x, and y, to standard units,\n",
    "# next step of the formula of r,\n",
    "# is to compute the product of x, and y (in standard units).\n",
    "\n",
    "t = t.with_columns('product of standard units', t.column(2) * t.column(3))\n",
    "t"
   ]
  },
  {
   "cell_type": "code",
   "execution_count": null,
   "metadata": {},
   "outputs": [],
   "source": [
    "#Finally, r is the average of the products of the standard units\n",
    "\n",
    "r = np.average(t.column(2) * t.column(3))\n",
    "r"
   ]
  },
  {
   "cell_type": "code",
   "execution_count": null,
   "metadata": {},
   "outputs": [],
   "source": [
    "# We can put the 3 steps into one function.\n",
    "# we'll name it, correlation\n",
    "\n",
    "def correlation(t, x, y):\n",
    "    \"\"\"t is a table; x and y are column labels\"\"\"\n",
    "    x_in_standard_units = standard_units(t.column(x))\n",
    "    y_in_standard_units = standard_units(t.column(y))\n",
    "    return np.average(x_in_standard_units * y_in_standard_units)"
   ]
  },
  {
   "cell_type": "code",
   "execution_count": null,
   "metadata": {},
   "outputs": [],
   "source": [
    "# Let's make sure it's working correctly.\n",
    "# It should return the value we obtained above; 0.617\n",
    "\n",
    "correlation(t, 'x', 'y')"
   ]
  },
  {
   "cell_type": "code",
   "execution_count": null,
   "metadata": {},
   "outputs": [],
   "source": [
    "# Now, that our function is working well,\n",
    "# let's compute the correlation coefficient \n",
    "# (correlation in short)\n",
    "# of price and fuel efficiency of SUVs in the hybrid dataset\n",
    "\n",
    "# Question 1: what sign do we expect r to have here?\n",
    "# Question 2: how big do we expect r to be?\n",
    "correlation(suv, 'mpg', 'msrp')"
   ]
  },
  {
   "cell_type": "code",
   "execution_count": null,
   "metadata": {},
   "outputs": [],
   "source": [
    "# let's compute the same for\n",
    "# price and fuel efficiency\n",
    "\n",
    "# same questions as above:\n",
    "# Question 1: what sign do we expect r to have here?\n",
    "# Question 2: how big do we expect r to be?\n",
    "correlation(suv, 'acceleration', 'msrp')"
   ]
  },
  {
   "cell_type": "markdown",
   "metadata": {},
   "source": [
    "### Switching Axes ###"
   ]
  },
  {
   "cell_type": "code",
   "execution_count": null,
   "metadata": {},
   "outputs": [],
   "source": [
    "# Let's recompute r of x, and y, in table t, \n",
    "# passing x as the first variable\n",
    "correlation(t, 'x', 'y')"
   ]
  },
  {
   "cell_type": "code",
   "execution_count": null,
   "metadata": {},
   "outputs": [],
   "source": [
    "# now, let's scatter y (y-axis) against x (x-axis)\n",
    "t.scatter('x', 'y', s=30, color='red')"
   ]
  },
  {
   "cell_type": "code",
   "execution_count": null,
   "metadata": {},
   "outputs": [],
   "source": [
    "# Now, let's reverse the axes of the scatter plot\n",
    "# We are plotting x (y-axis) against y (x-axis)\n",
    "\n",
    "t.scatter('y', 'x', s=30, color='red')\n",
    "\n",
    "# Notice that, this graph is a reflection of the one above, \n",
    "# about the line y=x"
   ]
  },
  {
   "cell_type": "code",
   "execution_count": null,
   "metadata": {},
   "outputs": [],
   "source": [
    "# Finally, let's confirm that r doesn't change when\n",
    "# we pass 'y' as the first variable\n",
    "correlation(t, 'y', 'x')"
   ]
  },
  {
   "cell_type": "markdown",
   "metadata": {},
   "source": [
    "## Nonlinearity ###"
   ]
  },
  {
   "cell_type": "code",
   "execution_count": null,
   "metadata": {},
   "outputs": [],
   "source": [
    "# Correlation measures only one kind of association – linear\n",
    "# Variables that have strong non-linear association \n",
    "# might have very low correlation, \n",
    "\n",
    "# e.g., those with a quadratic relation"
   ]
  },
  {
   "cell_type": "code",
   "execution_count": null,
   "metadata": {},
   "outputs": [],
   "source": [
    "new_x = np.arange(-4, 4.1, 0.5)\n",
    "nonlinear = Table().with_columns(\n",
    "        'x', new_x,\n",
    "        'y', new_x**2\n",
    "    )\n",
    "nonlinear.scatter('x', 'y', s=30, color='r')"
   ]
  },
  {
   "cell_type": "code",
   "execution_count": null,
   "metadata": {},
   "outputs": [],
   "source": [
    "correlation(nonlinear, 'x', 'y')"
   ]
  },
  {
   "cell_type": "markdown",
   "metadata": {},
   "source": [
    "## Outliers ###"
   ]
  },
  {
   "cell_type": "code",
   "execution_count": null,
   "metadata": {},
   "outputs": [],
   "source": [
    "# Outliers can have a big effect on correlation.\n",
    "# Let's look at an example where a scatter plot for which \n",
    "# r = 1,\n",
    "# is turned into a plot for which \n",
    "# r = 0, \n",
    "\n",
    "# by the addition of just one outlying point."
   ]
  },
  {
   "cell_type": "code",
   "execution_count": null,
   "metadata": {},
   "outputs": [],
   "source": [
    "# this is a perfect linear relation sloping upwards\n",
    "line = Table().with_columns(\n",
    "        'x', make_array(1, 2, 3, 4),\n",
    "        'y', make_array(1, 2, 3, 4)\n",
    "    )\n",
    "line.scatter('x', 'y', s=30, color='r')"
   ]
  },
  {
   "cell_type": "code",
   "execution_count": null,
   "metadata": {},
   "outputs": [],
   "source": [
    "# compute r, should be 1\n",
    "correlation(line, 'x', 'y')"
   ]
  },
  {
   "cell_type": "code",
   "execution_count": null,
   "metadata": {},
   "outputs": [],
   "source": [
    "# we add a new point with x= 5 and y= 0\n",
    "# the point (5,0) is an outlier, \n",
    "# in relation to the distribution of the previous point\n",
    "\n",
    "# Notice how far away it is from the line \n",
    "# connecting the other 4 points\n",
    "\n",
    "outlier = Table().with_columns(\n",
    "        'x', make_array(1, 2, 3, 4, 5),\n",
    "        'y', make_array(1, 2, 3, 4, 0)\n",
    "    )\n",
    "outlier.scatter('x', 'y', s=30, color='r')"
   ]
  },
  {
   "cell_type": "code",
   "execution_count": null,
   "metadata": {},
   "outputs": [],
   "source": [
    "# now let's compute r after adding the point (5,0)\n",
    "correlation(outlier, 'x', 'y')"
   ]
  },
  {
   "cell_type": "code",
   "execution_count": null,
   "metadata": {},
   "outputs": [],
   "source": [
    "# second example, another outlier. \n",
    "# This time, the point (3, -2) is the outlier\n",
    "\n",
    "outlier2 = Table().with_columns(\n",
    "        'x', make_array(1, 2, 3, 4, 5),\n",
    "        'y', make_array(1, 2, -2, 4, 5)\n",
    "    )\n",
    "outlier2.scatter('x', 'y', s=50, color='r')"
   ]
  },
  {
   "cell_type": "code",
   "execution_count": null,
   "metadata": {},
   "outputs": [],
   "source": [
    "correlation(outlier2, 'x', 'y')"
   ]
  },
  {
   "cell_type": "markdown",
   "metadata": {},
   "source": [
    "## Ecological Correlations ###"
   ]
  },
  {
   "cell_type": "code",
   "execution_count": null,
   "metadata": {},
   "outputs": [],
   "source": [
    "# Correlations based on aggregates and averages \n",
    "# are called ecological correlations \n",
    "# and are frequently reported."
   ]
  },
  {
   "cell_type": "code",
   "execution_count": null,
   "metadata": {},
   "outputs": [],
   "source": [
    "# Correlations based on aggregated data can be misleading.\n",
    "# For instance, if we examined the correlation between\n",
    "# average SAT scores for various US states, and found an association,\n",
    "# the association (and strength of the that relation) \n",
    "# would NOT be reflecting the scores of *students*. \n",
    "\n",
    "# There is only 1 point per state, students scores will vary.\n",
    "# Some will be higher than the average and some lower."
   ]
  },
  {
   "cell_type": "code",
   "execution_count": null,
   "metadata": {},
   "outputs": [],
   "source": [
    "sat2014 = Table.read_table('sat2014.csv').sort('State')\n",
    "sat2014"
   ]
  },
  {
   "cell_type": "code",
   "execution_count": null,
   "metadata": {},
   "outputs": [],
   "source": [
    "sat2014.scatter('Critical Reading', 'Math')"
   ]
  },
  {
   "cell_type": "code",
   "execution_count": null,
   "metadata": {},
   "outputs": [],
   "source": [
    "correlation(sat2014, 'Critical Reading', 'Math')"
   ]
  },
  {
   "cell_type": "code",
   "execution_count": null,
   "metadata": {},
   "outputs": [],
   "source": [
    "# The overall picture of the strength of the relation \n",
    "# between the Math and Critical Reading scores of \n",
    "# students will be more fuzzy.\n",
    "\n",
    "# The correlation between the Math and \n",
    "# Critical Reading scores of the students will \n",
    "# be lower than the value calculated based on state averages."
   ]
  },
  {
   "cell_type": "code",
   "execution_count": null,
   "metadata": {},
   "outputs": [],
   "source": [
    "# Ex. 2 of ecological correlations"
   ]
  },
  {
   "cell_type": "code",
   "execution_count": null,
   "metadata": {},
   "outputs": [],
   "source": [
    "election16 = Table.read_table('election2016_state.csv')\n",
    "election16"
   ]
  },
  {
   "cell_type": "code",
   "execution_count": null,
   "metadata": {},
   "outputs": [],
   "source": [
    "election16.scatter('Median Income', 'Percent voting for Clinton')"
   ]
  },
  {
   "cell_type": "code",
   "execution_count": null,
   "metadata": {},
   "outputs": [],
   "source": [
    "party = Table.read_table('party_affiliation2016.csv')\n",
    "party"
   ]
  },
  {
   "cell_type": "code",
   "execution_count": null,
   "metadata": {},
   "outputs": [],
   "source": [
    "party.exclude(6).barh('Income')"
   ]
  },
  {
   "cell_type": "code",
   "execution_count": null,
   "metadata": {},
   "outputs": [],
   "source": []
  }
 ],
 "metadata": {
  "anaconda-cloud": {},
  "kernelspec": {
   "display_name": "Python 3 (ipykernel)",
   "language": "python",
   "name": "python3"
  },
  "language_info": {
   "codemirror_mode": {
    "name": "ipython",
    "version": 3
   },
   "file_extension": ".py",
   "mimetype": "text/x-python",
   "name": "python",
   "nbconvert_exporter": "python",
   "pygments_lexer": "ipython3",
   "version": "3.8.13"
  }
 },
 "nbformat": 4,
 "nbformat_minor": 1
}
