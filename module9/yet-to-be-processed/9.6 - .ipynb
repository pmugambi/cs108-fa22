{
 "cells": [
  {
   "cell_type": "code",
   "execution_count": null,
   "metadata": {},
   "outputs": [],
   "source": [
    "from datascience import *\n",
    "import numpy as np\n",
    "import matplotlib\n",
    "%matplotlib inline\n",
    "import matplotlib.pyplot as plots\n",
    "plots.style.use('fivethirtyeight')"
   ]
  },
  {
   "cell_type": "code",
   "execution_count": null,
   "metadata": {},
   "outputs": [],
   "source": [
    "def standard_units(arr):\n",
    "    return (arr - np.average(arr))/np.std(arr)\n",
    "\n",
    "def correlation(t, x, y):\n",
    "    x_standard = standard_units(t.column(x))\n",
    "    y_standard = standard_units(t.column(y))\n",
    "    return np.average(x_standard * y_standard)\n",
    "\n",
    "def slope(t, x, y):\n",
    "    r = correlation(t, x, y)\n",
    "    y_sd = np.std(t.column(y))\n",
    "    x_sd = np.std(t.column(x))\n",
    "    return r * y_sd / x_sd\n",
    "\n",
    "def intercept(t, x, y):\n",
    "    x_mean = np.mean(t.column(x))\n",
    "    y_mean = np.mean(t.column(y))\n",
    "    return y_mean - slope(t, x, y)*x_mean\n",
    "\n",
    "def fitted_values(t, x, y):\n",
    "    \"\"\"Return an array of the regression estimates at all the x values\"\"\"\n",
    "    a = slope(t, x, y)\n",
    "    b = intercept(t, x, y)\n",
    "    return a*t.column(x) + b\n",
    "\n",
    "def residuals(t, x, y):\n",
    "    predictions = fitted_values(t, x, y)\n",
    "    return t.column(y) - predictions"
   ]
  },
  {
   "cell_type": "markdown",
   "metadata": {},
   "source": [
    "## Regression Model ##"
   ]
  },
  {
   "cell_type": "code",
   "execution_count": null,
   "metadata": {},
   "outputs": [],
   "source": [
    "def draw_and_compare(true_slope, true_int, sample_size):\n",
    "    x = np.random.normal(50, 5, sample_size)\n",
    "    xlims = np.array([np.min(x), np.max(x)])\n",
    "    errors = np.random.normal(0, 6, sample_size)\n",
    "    y = (true_slope * x + true_int) + errors\n",
    "    sample = Table().with_columns('x', x, 'y', y)\n",
    "\n",
    "    sample.scatter('x', 'y')\n",
    "    plots.plot(xlims, true_slope*xlims + true_int, lw=2, color='green')\n",
    "    plots.title('True Line, and Points Created')\n",
    "\n",
    "    sample.scatter('x', 'y')\n",
    "    plots.title('What We Get to See')\n",
    "\n",
    "    sample.scatter('x', 'y', fit_line=True)\n",
    "    plots.title('Regression Line: Estimate of True Line')\n",
    "\n",
    "    sample.scatter('x', 'y', fit_line=True)\n",
    "    plots.plot(xlims, true_slope*xlims + true_int, lw=2, color='green')\n",
    "    plots.title(\"Regression Line and True Line\")"
   ]
  },
  {
   "cell_type": "code",
   "execution_count": null,
   "metadata": {},
   "outputs": [],
   "source": [
    "draw_and_compare(2, -5, 10)"
   ]
  },
  {
   "cell_type": "code",
   "execution_count": null,
   "metadata": {},
   "outputs": [],
   "source": [
    "draw_and_compare(2, -5, 10)"
   ]
  },
  {
   "cell_type": "code",
   "execution_count": null,
   "metadata": {},
   "outputs": [],
   "source": [
    "draw_and_compare(2, -5, 100)"
   ]
  },
  {
   "cell_type": "code",
   "execution_count": null,
   "metadata": {},
   "outputs": [],
   "source": [
    "draw_and_compare(2, -5, 100)"
   ]
  },
  {
   "cell_type": "markdown",
   "metadata": {},
   "source": [
    "## Prediction ##"
   ]
  },
  {
   "cell_type": "code",
   "execution_count": null,
   "metadata": {},
   "outputs": [],
   "source": [
    "births = Table.read_table('baby.csv')"
   ]
  },
  {
   "cell_type": "code",
   "execution_count": null,
   "metadata": {},
   "outputs": [],
   "source": [
    "births = Table.read_table('baby.csv')\n",
    "births.show(3)"
   ]
  },
  {
   "cell_type": "code",
   "execution_count": null,
   "metadata": {},
   "outputs": [],
   "source": [
    "# Preterm and postterm pregnancy cutoffs, according to the CDC\n",
    "37 * 7, 42 * 7"
   ]
  },
  {
   "cell_type": "code",
   "execution_count": null,
   "metadata": {},
   "outputs": [],
   "source": [
    "births.scatter('Gestational Days', 'Birth Weight')"
   ]
  },
  {
   "cell_type": "code",
   "execution_count": null,
   "metadata": {},
   "outputs": [],
   "source": [
    "births = births.where('Gestational Days', are.between(225, 325))"
   ]
  },
  {
   "cell_type": "code",
   "execution_count": null,
   "metadata": {},
   "outputs": [],
   "source": [
    "births.scatter('Gestational Days', 'Birth Weight')"
   ]
  },
  {
   "cell_type": "code",
   "execution_count": null,
   "metadata": {},
   "outputs": [],
   "source": [
    "births.scatter('Gestational Days', 'Birth Weight', fit_line=True)"
   ]
  },
  {
   "cell_type": "code",
   "execution_count": null,
   "metadata": {},
   "outputs": [],
   "source": [
    "correlation(births, 'Gestational Days', 'Birth Weight')"
   ]
  },
  {
   "cell_type": "code",
   "execution_count": null,
   "metadata": {},
   "outputs": [],
   "source": [
    "def prediction_at(t, x, y, x_value):\n",
    "    '''\n",
    "    t - table\n",
    "    x - label of x column\n",
    "    y - label of y column\n",
    "    x_value - the x value for which we want to predict y\n",
    "    '''\n",
    "    return slope(t, x, y) * x_value + intercept(t, x, y)"
   ]
  },
  {
   "cell_type": "code",
   "execution_count": null,
   "metadata": {},
   "outputs": [],
   "source": [
    "prediction_at_300 = prediction_at(births, 'Gestational Days', 'Birth Weight', 287)\n",
    "prediction_at_300"
   ]
  },
  {
   "cell_type": "code",
   "execution_count": null,
   "metadata": {},
   "outputs": [],
   "source": [
    "x = 300\n",
    "births.scatter('Gestational Days', 'Birth Weight', fit_line=True)\n",
    "plots.plot([x, x], [40, prediction_at_300], color='red', lw=2);"
   ]
  },
  {
   "cell_type": "code",
   "execution_count": null,
   "metadata": {},
   "outputs": [],
   "source": [
    "# You don't need to understand the plotting code in this cell,\n",
    "# but you should understand the figure that comes out.\n",
    "\n",
    "plots.figure(figsize=(10, 11))\n",
    "plots.subplot(3, 2, 1)\n",
    "plots.scatter(births[1], births[0], s=10, color='darkblue')\n",
    "plots.xlim([225, 325])\n",
    "plots.title('Original sample')\n",
    "\n",
    "for i in np.arange(1, 6, 1):\n",
    "    plots.subplot(3,2,i+1)\n",
    "    resampled = births.sample()\n",
    "    plots.scatter(resampled.column('Gestational Days'), resampled.column('Birth Weight'), s=10, color='tab:green')\n",
    "    plots.xlim([225, 325])\n",
    "    plots.title('Bootstrap sample '+str(i))\n",
    "plots.tight_layout()"
   ]
  },
  {
   "cell_type": "code",
   "execution_count": null,
   "metadata": {},
   "outputs": [],
   "source": [
    "for i in np.arange(4):\n",
    "    resample = births.sample()\n",
    "    predicted_y = prediction_at(resample, 'Gestational Days', 'Birth Weight', 300)\n",
    "    print('Predicted y from bootstramp sample was', predicted_y)\n",
    "    resample.scatter('Gestational Days', 'Birth Weight', fit_line=True)\n",
    "    plots.scatter(300, predicted_y, color='gold', s=50, zorder=3);\n",
    "    plots.plot([x, x], [40, predicted_y], color='red', lw=2);\n",
    "    plots.plot([200, x], [predicted_y, predicted_y], color='red', lw=2);"
   ]
  },
  {
   "cell_type": "code",
   "execution_count": null,
   "metadata": {},
   "outputs": [],
   "source": [
    "lines = Table(['slope','intercept', 'at 210', 'at 300', 'at 320'])\n",
    "\n",
    "for i in range(10):\n",
    "    resample = births.sample()\n",
    "    a = slope(resample, 'Gestational Days', 'Birth Weight')\n",
    "    b = intercept(resample, 'Gestational Days', 'Birth Weight')\n",
    "    lines.append([a, b, a * 210 + b, a * 300 + b, a * 320 + b])\n",
    "\n",
    "for i in np.arange(lines.num_rows):\n",
    "    line = lines.row(i)\n",
    "    plots.plot([210, 320], [line.item('at 210'), line.item('at 320')], lw=1)\n",
    "    plots.scatter(300, line.item('at 300'), s=30, zorder=3)"
   ]
  },
  {
   "cell_type": "code",
   "execution_count": null,
   "metadata": {},
   "outputs": [],
   "source": [
    "lines = Table(['slope','intercept', 'at 291', 'at 300', 'at 309'])\n",
    "\n",
    "for i in range(10):\n",
    "    resample = births.sample()\n",
    "    a = slope(resample, 'Gestational Days', 'Birth Weight')\n",
    "    b = intercept(resample, 'Gestational Days', 'Birth Weight')\n",
    "    lines.append([a, b, a * 291 + b, a * 300 + b, a * 309 + b])\n",
    "lines\n"
   ]
  },
  {
   "cell_type": "code",
   "execution_count": null,
   "metadata": {},
   "outputs": [],
   "source": [
    "for i in np.arange(lines.num_rows):\n",
    "    line = lines.row(i)\n",
    "    plots.plot([291, 309], [line.item('at 291'), line.item('at 309')], lw=1)\n",
    "    plots.scatter(300, line.item('at 300'), s=30, zorder=3)"
   ]
  },
  {
   "cell_type": "markdown",
   "metadata": {},
   "source": [
    "## Confidence Interval for Prediction ##"
   ]
  },
  {
   "cell_type": "code",
   "execution_count": null,
   "metadata": {},
   "outputs": [],
   "source": [
    "def bootstrap_prediction(t, x, y, new_x, repetitions=1000):\n",
    "    \"\"\" \n",
    "    Makes a 95% confidence interval for the prediction at new_x, using\n",
    "    linear regression on the data in t (column names x and y).\n",
    "    Shows a histogram of the bootstrap samples and shows the interval\n",
    "    in gold.\n",
    "    \"\"\"\n",
    "\n",
    "    # Bootstrap the scatter, predict, collect\n",
    "    predictions = make_array()\n",
    "    for i in np.arange(repetitions):\n",
    "        resample = t.sample()\n",
    "        predicted_y = prediction_at(resample, x, y, new_x)\n",
    "        predictions = np.append(predictions, predicted_y)\n",
    "\n",
    "    # Find the ends of the approximate 95% prediction interval\n",
    "    left = percentile(2.5, predictions)\n",
    "    right = percentile(97.5, predictions)\n",
    "\n",
    "    # Display results\n",
    "    Table().with_column('Prediction', predictions).hist(bins=20)\n",
    "    plots.xlabel('predictions at x='+str(new_x))\n",
    "    plots.plot([left, right], [0, 0], color='yellow', lw=8);\n",
    "    print('Approximate 95%-confidence interval for height of true line:')\n",
    "    print(left, right, '(width =', right - left, ')') "
   ]
  },
  {
   "cell_type": "code",
   "execution_count": null,
   "metadata": {},
   "outputs": [],
   "source": [
    "bootstrap_prediction(births, 'Gestational Days', 'Birth Weight', 300)"
   ]
  },
  {
   "cell_type": "markdown",
   "metadata": {},
   "source": [
    "## Predictions at Different Values of X"
   ]
  },
  {
   "cell_type": "code",
   "execution_count": null,
   "metadata": {},
   "outputs": [],
   "source": [
    "x = 300\n",
    "births.scatter('Gestational Days', 'Birth Weight', fit_line=True)\n",
    "plots.plot([x, x], [40, prediction_at_300], color='red', lw=2);"
   ]
  },
  {
   "cell_type": "code",
   "execution_count": null,
   "metadata": {},
   "outputs": [],
   "source": [
    "bootstrap_prediction(births, 'Gestational Days', 'Birth Weight', 210)"
   ]
  },
  {
   "cell_type": "code",
   "execution_count": null,
   "metadata": {},
   "outputs": [],
   "source": [
    "bootstrap_prediction(births, 'Gestational Days', 'Birth Weight', 280)"
   ]
  },
  {
   "cell_type": "code",
   "execution_count": null,
   "metadata": {},
   "outputs": [],
   "source": [
    "np.mean(births.column('Gestational Days'))"
   ]
  },
  {
   "cell_type": "markdown",
   "metadata": {},
   "source": [
    "## Inference for the Slope ##"
   ]
  },
  {
   "cell_type": "code",
   "execution_count": null,
   "metadata": {},
   "outputs": [],
   "source": [
    "births.scatter('Gestational Days', 'Birth Weight', fit_line=True)"
   ]
  },
  {
   "cell_type": "code",
   "execution_count": null,
   "metadata": {},
   "outputs": [],
   "source": [
    "slope(births, 'Gestational Days', 'Birth Weight')"
   ]
  },
  {
   "cell_type": "code",
   "execution_count": null,
   "metadata": {},
   "outputs": [],
   "source": [
    "def bootstrap_slope(t, x, y, repetitions=5000):\n",
    "    \"\"\" \n",
    "    Makes a 95% confidence interval for the slope of the prediction line\n",
    "    for y, using linear regression on the data in t (column names x and y).\n",
    "    Shows a histogram of the bootstrap samples and shows the interval\n",
    "    in gold.\n",
    "    \"\"\"\n",
    "    \n",
    "    # Bootstrap the scatter, find the slope, collect\n",
    "    slopes = make_array()\n",
    "    for i in np.arange(repetitions):\n",
    "        bootstrap_sample = t.sample()\n",
    "        bootstrap_slope = slope(bootstrap_sample, x, y)\n",
    "        slopes = np.append(slopes, bootstrap_slope)\n",
    "    \n",
    "    # Find the endpoints of the 95% confidence interval for the true slope\n",
    "    left = percentile(2.5, slopes)\n",
    "    right = percentile(97.5, slopes)\n",
    "    \n",
    "    # Slope of the regression line from the original sample\n",
    "    observed_slope = slope(t, x, y)\n",
    "    \n",
    "    # Display results\n",
    "    Table().with_column('Bootstrap Slopes', slopes).hist(bins=20)\n",
    "    plots.plot(make_array(left, right), make_array(0, 0), color='yellow', lw=8);\n",
    "    print('Slope of regression line:', observed_slope)\n",
    "    print('Approximate 95%-confidence interval for the slope of the true line:')\n",
    "    print(left, 'to', right)"
   ]
  },
  {
   "cell_type": "code",
   "execution_count": null,
   "metadata": {},
   "outputs": [],
   "source": [
    "bootstrap_slope(births, 'Gestational Days', 'Birth Weight', 2500)"
   ]
  },
  {
   "cell_type": "code",
   "execution_count": null,
   "metadata": {},
   "outputs": [],
   "source": []
  },
  {
   "cell_type": "markdown",
   "metadata": {},
   "source": [
    "## Rain on the Regression Parade"
   ]
  },
  {
   "cell_type": "code",
   "execution_count": null,
   "metadata": {},
   "outputs": [],
   "source": [
    "draw_and_compare(0, 10, 25)"
   ]
  },
  {
   "cell_type": "markdown",
   "metadata": {},
   "source": [
    "**Null Hypothesis.** Slope of true line = 0.\n",
    "\n",
    "**Alternative Hypothesis.** Slope of true line is not 0."
   ]
  },
  {
   "cell_type": "code",
   "execution_count": null,
   "metadata": {},
   "outputs": [],
   "source": [
    "slope(births, 'Maternal Age', 'Birth Weight')"
   ]
  },
  {
   "cell_type": "code",
   "execution_count": null,
   "metadata": {},
   "outputs": [],
   "source": [
    "births.scatter('Maternal Age', 'Birth Weight', fit_line=True)"
   ]
  },
  {
   "cell_type": "code",
   "execution_count": null,
   "metadata": {},
   "outputs": [],
   "source": [
    "bootstrap_slope(births, 'Maternal Age', 'Birth Weight', 2500)"
   ]
  },
  {
   "cell_type": "markdown",
   "metadata": {},
   "source": [
    "## Nonlinear regression"
   ]
  },
  {
   "cell_type": "code",
   "execution_count": null,
   "metadata": {},
   "outputs": [],
   "source": [
    "cars = Table.read_table('cars2016.csv')\n",
    "cars = cars.select('name', 'city_mpg', 'highway_mpg', 'engine_torque')\n",
    "cars.show(3)"
   ]
  },
  {
   "cell_type": "code",
   "execution_count": null,
   "metadata": {},
   "outputs": [],
   "source": [
    "cars.scatter('engine_torque', 'city_mpg')"
   ]
  },
  {
   "cell_type": "code",
   "execution_count": null,
   "metadata": {},
   "outputs": [],
   "source": [
    "def compute_car_quadratic_mse(a, b, c):\n",
    "    x = cars.column('engine_torque')\n",
    "    y = cars.column('city_mpg')\n",
    "    quadratic_prediction = a * x**2 + b * x + c\n",
    "    quadratic_mse = np.mean((y - quadratic_prediction) ** 2)\n",
    "    return np.sqrt(quadratic_mse)"
   ]
  },
  {
   "cell_type": "code",
   "execution_count": null,
   "metadata": {},
   "outputs": [],
   "source": []
  },
  {
   "cell_type": "code",
   "execution_count": null,
   "metadata": {},
   "outputs": [],
   "source": [
    "result = minimize(compute_car_quadratic_mse)"
   ]
  },
  {
   "cell_type": "code",
   "execution_count": null,
   "metadata": {},
   "outputs": [],
   "source": [
    "a = result.item(0)\n",
    "b = result.item(1)\n",
    "c = result.item(2)\n",
    "x = cars.column('engine_torque')\n",
    "cars = cars.with_column(\n",
    "    'Quadratic city mpg prediction', a * x**2 + b*x + c\n",
    ")"
   ]
  },
  {
   "cell_type": "code",
   "execution_count": null,
   "metadata": {},
   "outputs": [],
   "source": [
    "cars.select('engine_torque', 'city_mpg', 'Quadratic city mpg prediction').scatter('engine_torque')"
   ]
  },
  {
   "cell_type": "code",
   "execution_count": null,
   "metadata": {},
   "outputs": [],
   "source": [
    "x_ = np.arange(.1, 10, .1)\n",
    "y_ = np.log(x_)\n",
    "plots.plot(x_, y_)\n",
    "plots.plot(x_, -y_)"
   ]
  },
  {
   "cell_type": "code",
   "execution_count": null,
   "metadata": {},
   "outputs": [],
   "source": [
    "def compute_car_log_mse(a, b, c):\n",
    "    x = cars.column('engine_torque')\n",
    "    y = cars.column('city_mpg')\n",
    "    log_prediction = a * np.log(b * x) + c\n",
    "    log_mse = np.mean((y - log_prediction) ** 2)\n",
    "    return np.sqrt(log_mse)"
   ]
  },
  {
   "cell_type": "code",
   "execution_count": null,
   "metadata": {},
   "outputs": [],
   "source": [
    "result = minimize(compute_car_log_mse)"
   ]
  },
  {
   "cell_type": "code",
   "execution_count": null,
   "metadata": {},
   "outputs": [],
   "source": [
    "a = result.item(0)\n",
    "b = result.item(1)\n",
    "c = result.item(2)\n",
    "x = cars.column('engine_torque')\n",
    "cars = cars.with_column(\n",
    "    'Log city mpg prediction', a * np.log(b*x) + c\n",
    ")\n",
    "cars.select(\n",
    "    'engine_torque', 'city_mpg', 'Quadratic city mpg prediction', 'Log city mpg prediction'\n",
    ").scatter('engine_torque')"
   ]
  },
  {
   "cell_type": "markdown",
   "metadata": {},
   "source": [
    "## Multiple regression"
   ]
  },
  {
   "cell_type": "code",
   "execution_count": null,
   "metadata": {},
   "outputs": [],
   "source": [
    "births.show(3)"
   ]
  },
  {
   "cell_type": "code",
   "execution_count": null,
   "metadata": {},
   "outputs": [],
   "source": [
    "correlation(births, 'Birth Weight', 'Gestational Days')"
   ]
  },
  {
   "cell_type": "code",
   "execution_count": null,
   "metadata": {},
   "outputs": [],
   "source": [
    "correlation(births, 'Birth Weight', 'Maternal Age')"
   ]
  },
  {
   "cell_type": "code",
   "execution_count": null,
   "metadata": {},
   "outputs": [],
   "source": [
    "correlation(births, 'Birth Weight', 'Maternal Height')"
   ]
  },
  {
   "cell_type": "markdown",
   "metadata": {},
   "source": [
    "What if we try to predict birth weight from gestational days and maternal height?"
   ]
  },
  {
   "cell_type": "code",
   "execution_count": null,
   "metadata": {},
   "outputs": [],
   "source": [
    "def multiple_regression_rmse(maternal_height_mult, gest_days_mult, intercept):\n",
    "    gest_days = births.column('Gestational Days')\n",
    "    maternal_height = births.column('Maternal Height')\n",
    "    y = births.column('Birth Weight')\n",
    "    prediction = (gest_days_mult * gest_days) + (maternal_height_mult * maternal_height) + intercept\n",
    "    mse = np.mean((y - prediction) ** 2)\n",
    "    return np.sqrt(mse)"
   ]
  },
  {
   "cell_type": "code",
   "execution_count": null,
   "metadata": {},
   "outputs": [],
   "source": [
    "best = minimize(multiple_regression_rmse)\n",
    "best"
   ]
  },
  {
   "cell_type": "code",
   "execution_count": null,
   "metadata": {},
   "outputs": [],
   "source": [
    "# This means that our prediction for birth weight is:\n",
    "# 1.658 * (maternal height in inches) + 0.52 * (number of gestational days) +  - 131.5 ounces"
   ]
  },
  {
   "cell_type": "code",
   "execution_count": null,
   "metadata": {},
   "outputs": [],
   "source": [
    "multiple_regression_rmse(best.item(0), best.item(1), best.item(2))"
   ]
  },
  {
   "cell_type": "code",
   "execution_count": null,
   "metadata": {},
   "outputs": [],
   "source": [
    "# Remember, RMSE for linear prediction = SD of residuals\n",
    "np.std(residuals(births, 'Gestational Days', 'Birth Weight'))"
   ]
  },
  {
   "cell_type": "code",
   "execution_count": null,
   "metadata": {},
   "outputs": [],
   "source": [
    "# Remember, RMSE for linear prediction = SD of residuals\n",
    "np.std(residuals(births, 'Maternal Height', 'Birth Weight'))"
   ]
  }
 ],
 "metadata": {
  "kernelspec": {
   "display_name": "Python 3 (ipykernel)",
   "language": "python",
   "name": "python3"
  },
  "language_info": {
   "codemirror_mode": {
    "name": "ipython",
    "version": 3
   },
   "file_extension": ".py",
   "mimetype": "text/x-python",
   "name": "python",
   "nbconvert_exporter": "python",
   "pygments_lexer": "ipython3",
   "version": "3.8.13"
  }
 },
 "nbformat": 4,
 "nbformat_minor": 2
}
